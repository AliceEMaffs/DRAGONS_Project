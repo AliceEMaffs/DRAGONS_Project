{
 "cells": [
  {
   "cell_type": "markdown",
   "metadata": {},
   "source": [
    "# This script plots the HI mass against the Star Formation Rate\n",
    "## General plot for all galaxy types\n",
    "## Plot separating the types of galaxies: centrals, satellites and orphans\n",
    "### scatter plots for z=0, z=1\n",
    "### Contour plots for z=0, z=1"
   ]
  },
  {
   "cell_type": "code",
   "execution_count": 1,
   "metadata": {},
   "outputs": [
    {
     "ename": "KeyError",
     "evalue": "\"None of [Int64Index([1227684, 1421415,  644750,  848210,  761640,  271441, 1433954,\\n            1630690, 1254882,  230777,\\n            ...\\n             882105,  526545, 1469295,   71506,   10710, 1493767, 1611694,\\n            1598682,  940361, 1630115],\\n           dtype='int64', length=50000)] are in the [columns]\"",
     "output_type": "error",
     "traceback": [
      "\u001b[0;31m---------------------------------------------------------------------------\u001b[0m",
      "\u001b[0;31mKeyError\u001b[0m                                  Traceback (most recent call last)",
      "\u001b[0;32m<ipython-input-1-e5248f529e11>\u001b[0m in \u001b[0;36m<module>\u001b[0;34m\u001b[0m\n\u001b[1;32m     20\u001b[0m \u001b[0;34m\u001b[0m\u001b[0m\n\u001b[1;32m     21\u001b[0m \u001b[0;31m# Take a random sample of gals (k = 10^4)\u001b[0m\u001b[0;34m\u001b[0m\u001b[0;34m\u001b[0m\u001b[0;34m\u001b[0m\u001b[0m\n\u001b[0;32m---> 22\u001b[0;31m \u001b[0mgals_ran\u001b[0m \u001b[0;34m=\u001b[0m \u001b[0mRandom_Sample_Gals\u001b[0m\u001b[0;34m(\u001b[0m\u001b[0mgals\u001b[0m\u001b[0;34m,\u001b[0m \u001b[0;36m50000\u001b[0m\u001b[0;34m)\u001b[0m\u001b[0;34m\u001b[0m\u001b[0;34m\u001b[0m\u001b[0m\n\u001b[0m\u001b[1;32m     23\u001b[0m \u001b[0mgals_ran\u001b[0m \u001b[0;34m=\u001b[0m \u001b[0mgals\u001b[0m\u001b[0;34m.\u001b[0m\u001b[0msample\u001b[0m\u001b[0;34m(\u001b[0m\u001b[0mn\u001b[0m\u001b[0;34m=\u001b[0m\u001b[0;36m50000\u001b[0m\u001b[0;34m)\u001b[0m \u001b[0;31m# take sample of one hundred thousand\u001b[0m\u001b[0;34m\u001b[0m\u001b[0;34m\u001b[0m\u001b[0m\n\u001b[1;32m     24\u001b[0m \u001b[0mgals_ran\u001b[0m\u001b[0;34m\u001b[0m\u001b[0;34m\u001b[0m\u001b[0m\n",
      "\u001b[0;32m~/Documents/Summer_Research_Project_2020/Functions.py\u001b[0m in \u001b[0;36mRandom_Sample_Gals\u001b[0;34m(gals, k)\u001b[0m\n\u001b[1;32m     92\u001b[0m \u001b[0;34m\u001b[0m\u001b[0m\n\u001b[1;32m     93\u001b[0m     \u001b[0;31m# Make new variable containing the selected properties taken from the random sample of k galaxies\u001b[0m\u001b[0;34m\u001b[0m\u001b[0;34m\u001b[0m\u001b[0;34m\u001b[0m\u001b[0m\n\u001b[0;32m---> 94\u001b[0;31m     \u001b[0mselected_gal_properties\u001b[0m\u001b[0;34m=\u001b[0m \u001b[0mgals\u001b[0m\u001b[0;34m[\u001b[0m\u001b[0mgal_randsam\u001b[0m\u001b[0;34m]\u001b[0m\u001b[0;34m\u001b[0m\u001b[0;34m\u001b[0m\u001b[0m\n\u001b[0m\u001b[1;32m     95\u001b[0m     \u001b[0;31m#print('selected_gal_properties = ', selected_gal_properties)\u001b[0m\u001b[0;34m\u001b[0m\u001b[0;34m\u001b[0m\u001b[0;34m\u001b[0m\u001b[0m\n\u001b[1;32m     96\u001b[0m \u001b[0;34m\u001b[0m\u001b[0m\n",
      "\u001b[0;32m/Applications/anaconda3/lib/python3.7/site-packages/pandas/core/frame.py\u001b[0m in \u001b[0;36m__getitem__\u001b[0;34m(self, key)\u001b[0m\n\u001b[1;32m   2804\u001b[0m             \u001b[0;32mif\u001b[0m \u001b[0mis_iterator\u001b[0m\u001b[0;34m(\u001b[0m\u001b[0mkey\u001b[0m\u001b[0;34m)\u001b[0m\u001b[0;34m:\u001b[0m\u001b[0;34m\u001b[0m\u001b[0;34m\u001b[0m\u001b[0m\n\u001b[1;32m   2805\u001b[0m                 \u001b[0mkey\u001b[0m \u001b[0;34m=\u001b[0m \u001b[0mlist\u001b[0m\u001b[0;34m(\u001b[0m\u001b[0mkey\u001b[0m\u001b[0;34m)\u001b[0m\u001b[0;34m\u001b[0m\u001b[0;34m\u001b[0m\u001b[0m\n\u001b[0;32m-> 2806\u001b[0;31m             \u001b[0mindexer\u001b[0m \u001b[0;34m=\u001b[0m \u001b[0mself\u001b[0m\u001b[0;34m.\u001b[0m\u001b[0mloc\u001b[0m\u001b[0;34m.\u001b[0m\u001b[0m_get_listlike_indexer\u001b[0m\u001b[0;34m(\u001b[0m\u001b[0mkey\u001b[0m\u001b[0;34m,\u001b[0m \u001b[0maxis\u001b[0m\u001b[0;34m=\u001b[0m\u001b[0;36m1\u001b[0m\u001b[0;34m,\u001b[0m \u001b[0mraise_missing\u001b[0m\u001b[0;34m=\u001b[0m\u001b[0;32mTrue\u001b[0m\u001b[0;34m)\u001b[0m\u001b[0;34m[\u001b[0m\u001b[0;36m1\u001b[0m\u001b[0;34m]\u001b[0m\u001b[0;34m\u001b[0m\u001b[0;34m\u001b[0m\u001b[0m\n\u001b[0m\u001b[1;32m   2807\u001b[0m \u001b[0;34m\u001b[0m\u001b[0m\n\u001b[1;32m   2808\u001b[0m         \u001b[0;31m# take() does not accept boolean indexers\u001b[0m\u001b[0;34m\u001b[0m\u001b[0;34m\u001b[0m\u001b[0;34m\u001b[0m\u001b[0m\n",
      "\u001b[0;32m/Applications/anaconda3/lib/python3.7/site-packages/pandas/core/indexing.py\u001b[0m in \u001b[0;36m_get_listlike_indexer\u001b[0;34m(self, key, axis, raise_missing)\u001b[0m\n\u001b[1;32m   1550\u001b[0m \u001b[0;34m\u001b[0m\u001b[0m\n\u001b[1;32m   1551\u001b[0m         self._validate_read_indexer(\n\u001b[0;32m-> 1552\u001b[0;31m             \u001b[0mkeyarr\u001b[0m\u001b[0;34m,\u001b[0m \u001b[0mindexer\u001b[0m\u001b[0;34m,\u001b[0m \u001b[0mo\u001b[0m\u001b[0;34m.\u001b[0m\u001b[0m_get_axis_number\u001b[0m\u001b[0;34m(\u001b[0m\u001b[0maxis\u001b[0m\u001b[0;34m)\u001b[0m\u001b[0;34m,\u001b[0m \u001b[0mraise_missing\u001b[0m\u001b[0;34m=\u001b[0m\u001b[0mraise_missing\u001b[0m\u001b[0;34m\u001b[0m\u001b[0;34m\u001b[0m\u001b[0m\n\u001b[0m\u001b[1;32m   1553\u001b[0m         )\n\u001b[1;32m   1554\u001b[0m         \u001b[0;32mreturn\u001b[0m \u001b[0mkeyarr\u001b[0m\u001b[0;34m,\u001b[0m \u001b[0mindexer\u001b[0m\u001b[0;34m\u001b[0m\u001b[0;34m\u001b[0m\u001b[0m\n",
      "\u001b[0;32m/Applications/anaconda3/lib/python3.7/site-packages/pandas/core/indexing.py\u001b[0m in \u001b[0;36m_validate_read_indexer\u001b[0;34m(self, key, indexer, axis, raise_missing)\u001b[0m\n\u001b[1;32m   1637\u001b[0m             \u001b[0;32mif\u001b[0m \u001b[0mmissing\u001b[0m \u001b[0;34m==\u001b[0m \u001b[0mlen\u001b[0m\u001b[0;34m(\u001b[0m\u001b[0mindexer\u001b[0m\u001b[0;34m)\u001b[0m\u001b[0;34m:\u001b[0m\u001b[0;34m\u001b[0m\u001b[0;34m\u001b[0m\u001b[0m\n\u001b[1;32m   1638\u001b[0m                 \u001b[0maxis_name\u001b[0m \u001b[0;34m=\u001b[0m \u001b[0mself\u001b[0m\u001b[0;34m.\u001b[0m\u001b[0mobj\u001b[0m\u001b[0;34m.\u001b[0m\u001b[0m_get_axis_name\u001b[0m\u001b[0;34m(\u001b[0m\u001b[0maxis\u001b[0m\u001b[0;34m)\u001b[0m\u001b[0;34m\u001b[0m\u001b[0;34m\u001b[0m\u001b[0m\n\u001b[0;32m-> 1639\u001b[0;31m                 \u001b[0;32mraise\u001b[0m \u001b[0mKeyError\u001b[0m\u001b[0;34m(\u001b[0m\u001b[0;34mf\"None of [{key}] are in the [{axis_name}]\"\u001b[0m\u001b[0;34m)\u001b[0m\u001b[0;34m\u001b[0m\u001b[0;34m\u001b[0m\u001b[0m\n\u001b[0m\u001b[1;32m   1640\u001b[0m \u001b[0;34m\u001b[0m\u001b[0m\n\u001b[1;32m   1641\u001b[0m             \u001b[0;31m# We (temporarily) allow for some missing keys with .loc, except in\u001b[0m\u001b[0;34m\u001b[0m\u001b[0;34m\u001b[0m\u001b[0;34m\u001b[0m\u001b[0m\n",
      "\u001b[0;31mKeyError\u001b[0m: \"None of [Int64Index([1227684, 1421415,  644750,  848210,  761640,  271441, 1433954,\\n            1630690, 1254882,  230777,\\n            ...\\n             882105,  526545, 1469295,   71506,   10710, 1493767, 1611694,\\n            1598682,  940361, 1630115],\\n           dtype='int64', length=50000)] are in the [columns]\""
     ]
    }
   ],
   "source": [
    "# Code to plot the HI Mass as a function of Halo Mass (Mvir)\n",
    "# First off, import the packages we need\n",
    "import numpy as np  # work horse package for numerical work in python\n",
    "import matplotlib.pyplot as plt  # plotting library\n",
    "from dragons import meraxes, munge\n",
    "import random\n",
    "import sys\n",
    "import seaborn as sns\n",
    "from Functions import *\n",
    "\n",
    "\n",
    "#get gals, snaps, sims_props\n",
    "snapshot_used = 250 # z = 0\n",
    "gals, sim_props, snaplist = get_gal_catalogue(snapshot_used)\n",
    "gals = gals[gals[\"HIMass\"] != 0]# remove all HIMass = 0 rows from gals \n",
    "\n",
    "snaplist_index_used = list(snaplist[0]).index(snapshot_used)# convert to list and find the index of the snap we are using\n",
    "redshift_used = snaplist[1][snaplist_index_used] # Get the redshift for corresponding snapshot\n",
    "redshift_used = str(round(redshift_used, 1)) # round float to nearest whole int\n",
    "\n",
    "# Take a random sample of gals (k = 10^4)\n",
    "gals_ran = Random_Sample_Gals(gals, 50000)\n",
    "gals_ran = gals.sample(n=50000) # take sample of one hundred thousand\n",
    "gals_ran\n",
    "#gals_ran.shape\n",
    "#gals_ran.columns\n"
   ]
  },
  {
   "cell_type": "markdown",
   "metadata": {},
   "source": [
    "# PRINT UNITS\n",
    "fname_in = \"imapping_testrun/meraxes.hdf5\"\n",
    "units = meraxes.read_units(fname_in)\n",
    "print('\\nunits\\n=====')\n",
    "for k, v in units.items():\n",
    "    if not isinstance(v, dict):\n",
    "        print(k, ':', v.decode('utf-8'))\n",
    "print()"
   ]
  },
  {
   "cell_type": "code",
   "execution_count": null,
   "metadata": {},
   "outputs": [],
   "source": [
    "# Log the masses \n",
    "HIMass = np.log10(gals_ran[\"HIMass\"]*1e10)\n",
    "print('HIMass: ', HIMass, 'no. items: ', HIMass.shape)\n",
    "Mvir = np.log10(gals_ran[\"Mvir\"]*1e10)\n",
    "print('Mvir: ', Mvir, 'no. items: ', HIMass.shape)\n",
    "Type = gals_ran[\"Type\"]\n",
    "SFR = gals_ran[\"Sfr\"]\n",
    "\n",
    "# drop infinities\n",
    "#HIMass = HIMass[np.isfinite(HIMass)]\n",
    "#Mvir = Mvir[np.isfinite(Mvir)]\n",
    "#SFR = SFR[np.isfinite(SFR)]"
   ]
  },
  {
   "cell_type": "markdown",
   "metadata": {},
   "source": [
    "# SCATTER PLOT z=0\n",
    "## All galaxies"
   ]
  },
  {
   "cell_type": "code",
   "execution_count": null,
   "metadata": {
    "scrolled": true
   },
   "outputs": [],
   "source": [
    "# Now plot the simulation for Cen, Sat and All and the Zwaan 2005 and Martin 2010 dataset on one fig\n",
    "fig, ax = plt.subplots(1, 1)\n",
    "\n",
    "label_z = (\"z = \" + redshift_used)\n",
    "x = SFR\n",
    "y = HIMass\n",
    "plot = ax.scatter(x, y, color= \"black\", marker= \"*\", s=10, label=label_z)  \n",
    "\n",
    "ax.set_xlabel(r\"$SFR [{\\rm M_{\\odot}/yr}]$\")\n",
    "ax.set_ylabel(r\"$\\log_{10}(M_{HI}) [{\\rm M_{\\odot}}]$\")\n",
    "ax.set_xlim([1e-10,1e2])\n",
    "plt.xscale('log')\n",
    "\n",
    "# Add the legend\n",
    "plt.legend(title=(\"DRAGONS\"),\n",
    "           loc='lower right',\n",
    "           ncol=5,\n",
    "           fontsize=12)\n",
    "\n",
    "# Finally save the figure as a PDF\n",
    "plt.tight_layout()\n",
    "\n",
    "name_of_plot=(\"Alice_MHI_SRF\" + redshift_used)\n",
    "plt.savefig(\"plots/\" + name_of_plot + \".pdf\")"
   ]
  },
  {
   "cell_type": "code",
   "execution_count": null,
   "metadata": {
    "scrolled": true
   },
   "outputs": [],
   "source": [
    "# Now plot the simulation for Cen, Sat and All and the Zwaan 2005 and Martin 2010 dataset on one fig\n",
    "fig, ax = plt.subplots(1, 1)\n",
    "\n",
    "label_z = (\"z = \" + redshift_used)\n",
    "x = SFR\n",
    "y = HIMass\n",
    "#plot = ax.scatter(x, y, color= \"black\", marker= \"*\", s=10, label=label_z)  \n",
    "plot = plt.hist2d(x, y, (50, 50), cmap=plt.cm.jet)\n",
    "\n",
    "\n",
    "plt.xlabel(r\"$SFR [{\\rm M_{\\odot}/yr}]$\")\n",
    "plt.ylabel(r\"$\\log_{10}(M_{HI}) [{\\rm M_{\\odot}}]$\")\n",
    "plt.xlim([1e-8,1e1])\n",
    "#plt.xscale('log')\n",
    "\n",
    "# Add the legend\n",
    "'''\n",
    "plt.legend(title=(\"DRAGONS\"),\n",
    "           loc='lower right',\n",
    "           ncol=5,\n",
    "           fontsize=12)\n",
    "'''\n",
    "# Finally save the figure as a PDF\n",
    "plt.tight_layout()\n",
    "plt.colorbar()\n"
   ]
  },
  {
   "cell_type": "code",
   "execution_count": null,
   "metadata": {},
   "outputs": [],
   "source": [
    "from scipy.stats import gaussian_kde\n",
    "# Now plot the simulation for Cen, Sat and All and the Zwaan 2005 and Martin 2010 dataset on one fig\n",
    "fig, ax = plt.subplots(1, 1)\n",
    "\n",
    "label_z = (\"z = \" + redshift_used)\n",
    "x = SFR\n",
    "y = HIMass\n",
    "#plot = ax.scatter(x, y, color= \"black\", marker= \"*\", s=10, label=label_z) \n",
    "\n",
    "# Calculate the point density\n",
    "xy = np.vstack([x,y])\n",
    "z = gaussian_kde(xy)(xy)\n",
    "\n",
    "plot = ax.scatter(x, y, c=z, s=100, edgecolor='',label=label_z)\n",
    "\n",
    "ax.set_xlabel(r\"$SFR [{\\rm M_{\\odot}/yr}]$\")\n",
    "ax.set_ylabel(r\"$\\log_{10}(M_{HI}) [{\\rm M_{\\odot}}]$\")\n",
    "ax.set_xlim([1e-10,1e2])\n",
    "plt.xscale('log')\n",
    "\n",
    "# Add the legend\n",
    "plt.legend(title=(\"DRAGONS\"),\n",
    "           loc='lower right',\n",
    "           ncol=5,\n",
    "           fontsize=12)\n",
    "\n",
    "# Finally save the figure as a PDF\n",
    "plt.tight_layout()\n",
    "\n",
    "name_of_plot=(\"Alice_MHI_SRF\" + redshift_used)\n",
    "plt.savefig(\"plots/\" + name_of_plot + \".pdf\")"
   ]
  },
  {
   "cell_type": "markdown",
   "metadata": {},
   "source": [
    "# SCATTER PLOT z=0\n",
    "## separated galaxies, Centrals, Satellites, and Orphans"
   ]
  },
  {
   "cell_type": "code",
   "execution_count": null,
   "metadata": {},
   "outputs": [],
   "source": [
    "# Now plot the simulation for Cen, Sat and All and the Zwaan 2005 and Martin 2010 dataset on one fig\n",
    "fig, ax = plt.subplots(1, 1)\n",
    "\n",
    "label_z = (\"z = \" + str(redshift_used))\n",
    "x = SFR\n",
    "y = HIMass\n",
    "all_plt = ax.scatter(x, y, color= \"black\", marker= \"s\", s=10)  \n",
    "centrals_plt = ax.scatter(x[Type==0], y[Type==0], color= \"darkmagenta\", marker= \"o\", s=10)  \n",
    "satellites_plt = ax.scatter(x[Type==1], y[Type==1], color= \"palegreen\", marker= \"+\", s=10)  \n",
    "orphans_plt = ax.scatter(x[Type==2], y[Type==2], color= \"gray\", marker= \"^\", s=10)  \n",
    "\n",
    "ax.set_xlabel(r\"$SFR [{\\rm M_{\\odot}/yr}]$\")\n",
    "ax.set_ylabel(r\"$\\log_{10}(M_{HI}) [{\\rm M_{\\odot}}]$\")\n",
    "ax.set_xlim([1e-10,1e2])\n",
    "plt.xscale('log')\n",
    "# Add the legend\n",
    "plt.legend((all_plt, centrals_plt, satellites_plt, orphans_plt),\n",
    "           ('All Galaxies', 'Centrals', 'Satellites', 'Orphans'),\n",
    "           scatterpoints=1,\n",
    "           loc='lower right',\n",
    "           fontsize=12)\n",
    "\n",
    "\n",
    "# Finally save the figure as a PDF\n",
    "plt.tight_layout()\n",
    "\n",
    "name_of_plot=(\"Alice_MHI_SFR_CenSatAll\" + redshift_used)\n",
    "plt.savefig(\"plots/\" + name_of_plot + \".pdf\")\n",
    "'''\n",
    "occurrences_cen = np.count_nonzero(Type == 0)\n",
    "occurrences_sat = np.count_nonzero(Type == 1)\n",
    "occurrences_all = np.count_nonzero(gals)\n",
    "print('Num Centrals = ', occurrences_cen)\n",
    "print('Num Satellites = ', occurrences_sat)\n",
    "print('Num All = ', occurrences_all)\n",
    "'''"
   ]
  },
  {
   "cell_type": "markdown",
   "metadata": {},
   "source": [
    "# z=1"
   ]
  },
  {
   "cell_type": "code",
   "execution_count": null,
   "metadata": {},
   "outputs": [],
   "source": [
    "#get gals, snaps, sims_props\n",
    "snapshot_used_1 = 192 # z = 0\n",
    "gals_1, sim_props_1, snaplist_1 = get_gal_catalogue(snapshot_used_1)\n",
    "\n",
    "snaplist_index_used_1 = list(snaplist_1[0]).index(snapshot_used_1)# convert to list and find the index of the snap we are using\n",
    "redshift_used_1 = snaplist_1[1][snaplist_index_used_1] # Get the redshift for corresponding snapshot\n",
    "redshift_used_1 = str(round(redshift_used_1, 1)) # round float to nearest whole int\n",
    "\n",
    "# Take a random sample of gals (k = 10^4)\n",
    "gals_ran = Random_Sample_Gals(gals, 50000)\n",
    "gals_ran_1 = gals_1.sample(n=50000)\n",
    "gals_ran_1\n",
    "#gals_ran.shape\n",
    "#gals_ran_1.columns\n"
   ]
  },
  {
   "cell_type": "code",
   "execution_count": null,
   "metadata": {},
   "outputs": [],
   "source": [
    "# Log the masses \n",
    "HIMass_1 = np.log10(gals_ran_1[\"HIMass\"]*1e10)\n",
    "print('HIMass: ', HIMass_1, 'no. items: ', HIMass_1.shape)\n",
    "Mvir_1 = np.log10(gals_ran_1[\"Mvir\"]*1e10)\n",
    "print('Mvir: ', Mvir_1, 'no. items: ', Mvir.shape)\n",
    "Type_1 = gals_ran_1[\"Type\"]\n",
    "SFR_1 = gals_ran_1[\"Sfr\"]\n",
    "\n",
    "# drop infinities\n",
    "#HIMass_1 = HIMass_1[np.isfinite(HIMass_1)]\n",
    "#Mvir_1 = Mvir_1[np.isfinite(Mvir_1)]\n",
    "#SFR_1 = SFR_1[np.isfinite(SFR_1)]"
   ]
  },
  {
   "cell_type": "markdown",
   "metadata": {},
   "source": [
    "# SCATTER PLOT z=1\n",
    "## All galaxies"
   ]
  },
  {
   "cell_type": "code",
   "execution_count": null,
   "metadata": {},
   "outputs": [],
   "source": [
    "# Now plot the simulation for Cen, Sat and All and the Zwaan 2005 and Martin 2010 dataset on one fig\n",
    "fig, ax = plt.subplots(1, 1)\n",
    "\n",
    "label_z_1 = (\"z = \" + redshift_used_1)\n",
    "x_1 = SFR_1\n",
    "y_1 = HIMass_1\n",
    "plot = ax.scatter(x_1, y_1, color= \"black\", marker= \"*\", s=10, label=label_z_1)  \n",
    "\n",
    "ax.set_xlabel(r\"$SFR [{\\rm M_{\\odot}/yr}]$\")\n",
    "ax.set_ylabel(r\"$\\log_{10}(M_{HI}) [{\\rm M_{\\odot}}]$\")\n",
    "ax.set_xlim([1e-10,1e2])\n",
    "plt.xscale('log')\n",
    "\n",
    "# Add the legend\n",
    "plt.legend(title=(\"DRAGONS\"),\n",
    "           loc='upper right',\n",
    "           ncol=5,\n",
    "           fontsize=12)\n",
    "\n",
    "# Finally save the figure as a PDF\n",
    "plt.tight_layout()\n",
    "\n",
    "name_of_plot=(\"Alice_MHI_SRF\" + redshift_used_1)\n",
    "plt.savefig(\"plots/\" + name_of_plot + \".pdf\")"
   ]
  },
  {
   "cell_type": "markdown",
   "metadata": {},
   "source": [
    "## Separated galaxies: Centrals, Satellites and Orphans."
   ]
  },
  {
   "cell_type": "code",
   "execution_count": null,
   "metadata": {
    "scrolled": true
   },
   "outputs": [],
   "source": [
    "# Now plot the simulation for Cen, Sat and All and the Zwaan 2005 and Martin 2010 dataset on one fig\n",
    "fig, ax = plt.subplots(1, 1)\n",
    "\n",
    "label_z = (\"z = \" + str(redshift_used_1))\n",
    "x_1 = SFR_1\n",
    "y_1 = HIMass_1\n",
    "all_plt_1 = ax.scatter(x_1, y_1, color= \"black\", marker= \"s\", s=10)  \n",
    "centrals_plt_1 = ax.scatter(x_1[Type_1==0], y_1[Type_1==0], color= \"darkmagenta\", marker= \"o\", s=10)  \n",
    "satellites_plt_1 = ax.scatter(x_1[Type_1==1], y_1[Type_1==1], color= \"palegreen\", marker= \"+\", s=10)  \n",
    "orphans_plt_1 = ax.scatter(x_1[Type_1==2], y_1[Type_1==2], color= \"gray\", marker= \"^\", s=10)  \n",
    "\n",
    "ax.set_xlabel(r\"$SFR [{\\rm M_{\\odot}/yr}]$\")\n",
    "ax.set_ylabel(r\"$\\log_{10}(M_{HI}) [{\\rm M_{\\odot}}]$\")\n",
    "ax.set_xlim([1e-10,1e2])\n",
    "plt.xscale('log')\n",
    "# Add the legend\n",
    "plt.legend((all_plt_1, centrals_plt_1, satellites_plt_1,orphans_plt_1 ),\n",
    "           ('All Galaxies', 'Centrals', 'Satellites', 'Orphans'),\n",
    "           scatterpoints=1,\n",
    "           loc='lower right',\n",
    "           fontsize=12)\n",
    "\n",
    "\n",
    "# Finally save the figure as a PDF\n",
    "plt.tight_layout()\n",
    "\n",
    "name_of_plot=(\"Alice_MHI_SFR_CenSatAll\" + redshift_used_1)\n",
    "plt.savefig(\"plots/\" + name_of_plot + \".pdf\")\n",
    "'''\n",
    "occurrences_cen = np.count_nonzero(Type == 0)\n",
    "occurrences_sat = np.count_nonzero(Type == 1)\n",
    "occurrences_all = np.count_nonzero(gals)\n",
    "print('Num Centrals = ', occurrences_cen)\n",
    "print('Num Satellites = ', occurrences_sat)\n",
    "print('Num All = ', occurrences_all)\n",
    "'''"
   ]
  },
  {
   "cell_type": "markdown",
   "metadata": {},
   "source": [
    "# Countour Plot "
   ]
  },
  {
   "cell_type": "code",
   "execution_count": null,
   "metadata": {},
   "outputs": [],
   "source": [
    "import pandas as pd\n",
    "x = np.log10(gals.Sfr) # log the SFR\n",
    "y = np.log10(gals.HIMass) # log the HIMass\n",
    "x[x < -1e308] = 0# get rid of infs values\n",
    "x = pd.cut(x, bins=100) # place continuous variable into 200 bins\n",
    "y = pd.cut(y, bins=100)\n",
    "cross_count = pd.crosstab(y, x, margins=False)"
   ]
  },
  {
   "cell_type": "code",
   "execution_count": null,
   "metadata": {},
   "outputs": [],
   "source": [
    "sns.heatmap(cross_count)"
   ]
  },
  {
   "cell_type": "code",
   "execution_count": null,
   "metadata": {},
   "outputs": [],
   "source": [
    "fig, ax = plt.subplots(1, 1)\n",
    "contour_label=(\"Contour\")\n",
    "plt.contour(cross_count, cmap='hot', label=contour_label)\n",
    "ax.set_xlabel(r\"$\\log_{10}(SFR) [{\\rm M_{\\odot}/yr}]$\")\n",
    "ax.set_ylabel(r\"$\\log_{10}(M_{HI}) [{\\rm M_{\\odot}}]$\")\n",
    "plt.legend(title=(\"DRAGONS\"),\n",
    "           loc='upper left',\n",
    "           fontsize=12)\n",
    "\n",
    "name_of_plot=(\"Alice_MHI_Mvir_contour\")\n",
    "plt.savefig(\"plots/\" + name_of_plot + \".pdf\")"
   ]
  }
 ],
 "metadata": {
  "kernelspec": {
   "display_name": "Python 3",
   "language": "python",
   "name": "python3"
  },
  "language_info": {
   "codemirror_mode": {
    "name": "ipython",
    "version": 3
   },
   "file_extension": ".py",
   "mimetype": "text/x-python",
   "name": "python",
   "nbconvert_exporter": "python",
   "pygments_lexer": "ipython3",
   "version": "3.7.6"
  }
 },
 "nbformat": 4,
 "nbformat_minor": 4
}
