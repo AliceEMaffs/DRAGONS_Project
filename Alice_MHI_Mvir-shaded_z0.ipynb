{
 "cells": [
  {
   "cell_type": "code",
   "execution_count": null,
   "metadata": {},
   "outputs": [],
   "source": [
    "# Code to plot the HI Mass as a function of Halo Mass (Mvir)\n",
    "# First off, import the packages we need\n",
    "import numpy as np  # work horse package for numerical work in python\n",
    "import matplotlib.pyplot as plt  # plotting library\n",
    "import pandas as pd\n",
    "from dragons import meraxes, munge\n",
    "import random\n",
    "import sys\n",
    "from Functions import *\n",
    "import statistics \n",
    "import seaborn as sns\n",
    "\n",
    "#get gals, snaps, sims_props\n",
    "snapshot_used = 250 # z = 0\n",
    "\n",
    "#gals, sim_props = meraxes.read_gals(fname_in, snapshot_used, sim_props=True, pandas=True)\n",
    "gals, sim_props, snaplist = get_gal_catalogue(snapshot_used)\n",
    "snaplist_index_used = list(snaplist[0]).index(snapshot_used)# convert to list and find the index of the snap we are using\n",
    "redshift_used = snaplist[1][snaplist_index_used] # Get the redshift for corresponding snapshot\n",
    "redshift_used = str(round(redshift_used, 1)) # round float to nearest whole int\n",
    "\n",
    "print(\"snaps available: \", snaplist[0])\n",
    "# Log the masses : CONERT TO PROPER UNITS\n",
    "gals[\"HIMass\"] = np.log10(gals[\"HIMass\"]*1e10)\n",
    "gals[\"Mvir\"] = np.log10(gals[\"Mvir\"]*1e10)\n",
    "\n",
    "#gals.describe()# summarise the stats of HIMass\n",
    "#gals_ran.shape # returns number of galaxies\n",
    "#gals.dtypes #returns types of available properties\n",
    "#gals.columns #returns all avaiable properties of galxies\n",
    "\n",
    "# remove infs\n",
    "gals[gals.replace([np.inf, -np.inf], np.nan).notnull().all(axis=1)]\n",
    "# drop nan values\n",
    "gals.dropna()"
   ]
  },
  {
   "cell_type": "code",
   "execution_count": null,
   "metadata": {},
   "outputs": [],
   "source": [
    "# Split the data into 1000 quantiles (varies bin width to keep same number of data points in each bin)\n",
    "nbins = 100\n",
    "gals[\"Mvir_group\"] = pd.cut(gals[\"Mvir\"], bins=nbins)\n",
    "\n",
    "# Group galaxies by Mvir_group \n",
    "grouped = gals.groupby(\"Mvir_group\")\n",
    "\n",
    "# Get parameters of each group and save as results_df\n",
    "results_df_HIMass = grouped[\"HIMass\"].agg([\"mean\", \"median\", \"std\", \"size\"])\n",
    "results_df_Mvir = grouped[\"Mvir\"].agg([\"mean\", \"median\", \"std\", \"size\"])\n",
    "#results_df_HIMass.sort_values(by='size', ascending=False)\n",
    "# drop last row \n",
    "#results_df_Mvir.drop(results_df_Mvir.tail(1).index,inplace=True) # drop last n rows\n",
    "#results_df_HIMass.drop(results_df_HIMass.tail(1).index,inplace=True) # drop last n rows\n",
    "\n",
    "Mvir_mean = results_df_Mvir[\"mean\"]\n",
    "Mvir_std = results_df_Mvir[\"std\"]\n",
    "\n",
    "HIMass_median = results_df_HIMass['median']\n",
    "HIMass_std = results_df_HIMass[\"std\"]\n"
   ]
  },
  {
   "cell_type": "code",
   "execution_count": null,
   "metadata": {},
   "outputs": [],
   "source": [
    "# Now plot the simulation for Cen, Sat and All and the Zwaan 2005 and Martin 2010 dataset on one fig\n",
    "fig, ax = plt.subplots(1, 1)\n",
    "\n",
    "label_z = (\"z = \" + redshift_used)\n",
    "\n",
    "plot = ax.scatter(Mvir_mean, HIMass_median, color= \"purple\", marker= \"*\", s=2, label=label_z)  \n",
    "ax.set_xlabel(r\"$\\log_{10}(M_{h}) [{\\rm M_{\\odot}}]$\")\n",
    "ax.set_ylabel(r\"$\\log_{10}(M_{HI}) [{\\rm M_{\\odot}}]$\")\n",
    "ax.set_ylim([0,15])\n",
    "ax.set_xlim([9.5,15.5])\n",
    "# Add the legend\n",
    "plt.legend(title=(\"DRAGONS\"),\n",
    "           loc='upper left',\n",
    "           ncol=5,\n",
    "           fontsize=12)\n",
    "\n",
    "# Finally save the figure as a PDF\n",
    "plt.tight_layout()\n",
    "nbins = str(nbins)\n",
    "name_of_plot=(\"Alice_MHI_Mvir_\" + nbins + \"_scatter\")\n",
    "plt.savefig(\"plots/\" + name_of_plot + \".pdf\")"
   ]
  },
  {
   "cell_type": "code",
   "execution_count": null,
   "metadata": {},
   "outputs": [],
   "source": [
    "fig, ax = plt.subplots(1, 1)\n",
    "ax.set_xlabel(r\"$\\log_{10}(M_{h}) [{\\rm M_{\\odot}}]$\")\n",
    "ax.set_ylabel(r\"$\\log_{10}(M_{HI}) [{\\rm M_{\\odot}}]$\")\n",
    "ax.set_ylim([6,15])\n",
    "ax.set_xlim([9.5,15.5])\n",
    "label_sigma = (\"$1\\sigma$\")\n",
    "color_used=np.random.rand(3,)\n",
    "ax.plot(Mvir_mean, HIMass_median, color=color_used, label=label_z)\n",
    "ax.fill_between(Mvir_mean, \n",
    "                HIMass_median - HIMass_std, \n",
    "                HIMass_median + HIMass_std, \n",
    "                alpha=0.2, color =color_used, label=label_sigma)\n",
    "\n",
    "plt.legend(title=(\"DRAGONS\"),\n",
    "           loc='upper left',\n",
    "           fontsize=12)\n",
    "\n",
    "name_of_plot=(\"Alice_MHI_Mvir_\" + nbins + \"_shaded_z-\" + redshift_used)\n",
    "plt.savefig(\"plots/\" + name_of_plot + \".pdf\")"
   ]
  },
  {
   "cell_type": "code",
   "execution_count": null,
   "metadata": {},
   "outputs": [],
   "source": []
  },
  {
   "cell_type": "code",
   "execution_count": null,
   "metadata": {},
   "outputs": [],
   "source": []
  }
 ],
 "metadata": {
  "kernelspec": {
   "display_name": "Python 3",
   "language": "python",
   "name": "python3"
  },
  "language_info": {
   "codemirror_mode": {
    "name": "ipython",
    "version": 3
   },
   "file_extension": ".py",
   "mimetype": "text/x-python",
   "name": "python",
   "nbconvert_exporter": "python",
   "pygments_lexer": "ipython3",
   "version": "3.7.6"
  }
 },
 "nbformat": 4,
 "nbformat_minor": 4
}
