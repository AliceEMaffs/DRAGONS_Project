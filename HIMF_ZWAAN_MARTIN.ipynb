{
 "cells": [
  {
   "cell_type": "code",
   "execution_count": 1,
   "metadata": {},
   "outputs": [],
   "source": [
    "# Alice own code to calculate and plot the Hydrogen mass functions for z = 1\n",
    " \n",
    "# First off, import the packages we need\n",
    "import numpy as np  # work horse package for numerical work in python\n",
    "import matplotlib.pyplot as plt  # plotting library\n",
    "from dragons import meraxes, munge# DRAGONS modules for reading and dealing with model ouput\n",
    "import pandas as pd\n",
    "from Functions import *\n",
    "\n",
    "# import meraxes and set little h to 0.7\n",
    "fname_in = \"imapping_testrun/meraxes.hdf5\"\n",
    "h = meraxes.set_little_h(0.7)\n",
    "\n",
    "# Get the snapshot, redshift and light time info\n",
    "snaplist = meraxes.io.read_snaplist(fname_in, h)\n",
    "#print('snapshots :', snaplist[0][1]) # uncomment to see available shapshots\n",
    "\n",
    "# INPUT SNAP SHOT WANTED HERE\n",
    "snapshot_used = 250\n",
    "snaplist_index_used = list(snaplist[0]).index(snapshot_used)# convert to list and find the index of the snap we are using\n",
    "redshift_used = snaplist[1][snaplist_index_used] # Get the redshift for corresponding snapshot\n",
    "redshift_used = round(redshift_used, 1) # round float to nearest whole int\n",
    "\n",
    "# Read in Galaxy catalogue : Snapshot 192 corresponds to z = 1 \n",
    "gals, sim_props = meraxes.read_gals(fname_in, snapshot_used, sim_props=True)"
   ]
  },
  {
   "cell_type": "code",
   "execution_count": 2,
   "metadata": {},
   "outputs": [
    {
     "name": "stderr",
     "output_type": "stream",
     "text": [
      "/Applications/anaconda3/lib/python3.7/site-packages/ipykernel_launcher.py:7: RuntimeWarning: divide by zero encountered in log10\n",
      "  import sys\n"
     ]
    }
   ],
   "source": [
    "# get units\n",
    "#units = meraxes.read_units(fname_in)\n",
    "#HIMass_units = units['HIMass']\n",
    "\n",
    "# The units of stellar masses ouput by the model are 1e10 Msol.  \n",
    "# Let's convert into appropriate units (log10(M/Msol)) (Msol is in 1e10)\n",
    "gals[\"HIMass\"] = np.log10(gals[\"HIMass\"]*1e10)\n",
    "#print('\\ngals: \\n', gals[\"HIMass\"], HIMass_units)\n",
    "\n",
    "# Calculate the number of galaxies\n",
    "# gal_num = len(gals)\n",
    "# Calculate the volume of the simulation \n",
    "#Sim_Vol = sim_props[\"Volume\"]"
   ]
  },
  {
   "cell_type": "code",
   "execution_count": 3,
   "metadata": {
    "scrolled": true
   },
   "outputs": [
    {
     "name": "stdout",
     "output_type": "stream",
     "text": [
      "N_gals  :  [  3650   4937   6327   8231  10545  13208  17059  21890  27908  35837\n",
      "  46766  62149  83141 108465 131755 148411 152405 146191 129912 109999\n",
      "  89036  70514  53703  39941  29249  20673  14036   9811   7224   5489\n",
      "   4448   3456   2702   2015   1412    916    579    339    166     62\n",
      "     28     12      7      7      3      7      5      1      0      2]\n",
      "edges  :  [ 5.5   5.62  5.74  5.86  5.98  6.1   6.22  6.34  6.46  6.58  6.7   6.82\n",
      "  6.94  7.06  7.18  7.3   7.42  7.54  7.66  7.78  7.9   8.02  8.14  8.26\n",
      "  8.38  8.5   8.62  8.74  8.86  8.98  9.1   9.22  9.34  9.46  9.58  9.7\n",
      "  9.82  9.94 10.06 10.18 10.3  10.42 10.54 10.66 10.78 10.9  11.02 11.14\n",
      " 11.26 11.38 11.5 ]\n",
      "bin width  :  0.119999886\n",
      "bin_center :  [ 5.56       5.68       5.8        5.92       6.04       6.16\n",
      "  6.2799997  6.4        6.52       6.64       6.76       6.88\n",
      "  7.         7.12       7.24       7.36       7.48       7.6\n",
      "  7.7200003  7.84       7.96       8.08       8.200001   8.32\n",
      "  8.440001   8.559999   8.68       8.799999   8.92       9.04\n",
      "  9.16       9.280001   9.4        9.52       9.639999   9.76\n",
      "  9.879999  10.        10.120001  10.24      10.360001  10.48\n",
      " 10.6       10.719999  10.84      10.96      11.08      11.200001\n",
      " 11.32      11.440001 ]\n",
      "phi  :  [5.34165843e-03 7.22514182e-03 9.25936243e-03 1.20458056e-02\n",
      " 1.54322707e-02 1.93294862e-02 2.49653017e-02 3.20353159e-02\n",
      " 4.08424667e-02 5.24463050e-02 6.84405474e-02 9.09530766e-02\n",
      " 1.21674198e-01 1.58735063e-01 1.92819235e-01 2.17194759e-01\n",
      " 2.23039850e-01 2.13945860e-01 1.90122063e-01 1.60980023e-01\n",
      " 1.30301342e-01 1.03194987e-01 7.85926254e-02 5.84523779e-02\n",
      " 4.28049774e-02 3.02542753e-02 2.05412377e-02 1.43580852e-02\n",
      " 1.05720933e-02 8.03297619e-03 6.50950594e-03 5.05774562e-03\n",
      " 3.95429070e-03 2.94888815e-03 2.06641690e-03 1.34053675e-03\n",
      " 8.47348008e-04 4.96115673e-04 2.42935698e-04 9.07350199e-05\n",
      " 4.09771057e-05 1.75616167e-05 1.02442764e-05 1.02442764e-05\n",
      " 4.39040419e-06 1.02442764e-05 7.31734031e-06 1.46346806e-06\n",
      " 0.00000000e+00 2.92693612e-06]\n"
     ]
    }
   ],
   "source": [
    "# Create own mass function\n",
    "# HImf = \"HIMass function\" is a number density of galaxies in the universe as a function of their HI mass\n",
    "\n",
    "# HIMF (Phi) can be expressed as Phi = Ngal / (V * bin_width)\n",
    "#N_gal (number of galaxies), V is volume, bin_width is the HI mass bin width\n",
    "# counts can be number of galaxies from histogram\n",
    "\n",
    "HIMF = ALICE_mass_function(gals[\"HIMass\"],  sim_props[\"Volume\"], bins=50, range=(5.5, 11.5))\n",
    "#print(type(HIMF))\n",
    "\n",
    "# Using munges existing MF \n",
    "# HImf = munge.mass_function(gals[\"HIMass\"], sim_props[\"Volume\"], bins=50, range=(7.5, 11.5))"
   ]
  },
  {
   "cell_type": "code",
   "execution_count": 4,
   "metadata": {
    "scrolled": true
   },
   "outputs": [
    {
     "name": "stderr",
     "output_type": "stream",
     "text": [
      "/Applications/anaconda3/lib/python3.7/site-packages/ipykernel_launcher.py:12: RuntimeWarning: divide by zero encountered in log10\n",
      "  if sys.path[0] == '':\n"
     ]
    },
    {
     "data": {
      "image/png": "[encoded data removed]",
      "text/plain": [
       "<Figure size 432x288 with 1 Axes>"
      ]
     },
     "metadata": {
      "needs_background": "light"
     },
     "output_type": "display_data"
    }
   ],
   "source": [
    "# DRAGONS HIMF \n",
    "\n",
    "# Now let's plot the mass function...\n",
    "# Create a new figure (with 1 column and 1 row) and axis\n",
    "fig, ax = plt.subplots(1, 1)\n",
    "# plt.title(\"Hydrogen Mass Function for z = 1, separating Central and Satelitte Galaxies\")\n",
    "\n",
    "# Plot the mass function\n",
    "# HIMF[:,0] corresponds to all the elements in the 0th array (The Mass)\n",
    "# HIMF[:,1] corresponds to all the elements in the 1st array (The Mass Function)\n",
    "label_graph_DRAGONS = ('DRAGONS, z = ' + str(redshift_used))\n",
    "ax.plot(HIMF[:, 0], np.log10(HIMF[:, 1]), color=np.random.rand(3,), lw=2,\n",
    "        label=label_graph_DRAGONS)\n",
    "\n",
    "# Set the axis labels.\n",
    "# Note the use of LaTeX here.\n",
    "ax.set_xlabel(r\"$\\log_{10}(M_{HI} / {\\rm M_{\\odot}})$\")\n",
    "ax.set_ylabel(r\"$\\log_{10}(\\phi / {\\rm Mpc^{-3}})$\")\n",
    "\n",
    "# Add the legend\n",
    "ax.legend(loc=\"lower left\")\n",
    "\n",
    "# Finally save the figure as a PDF\n",
    "plt.tight_layout()\n",
    "\n",
    "redshift_string = str(redshift_used)\n",
    "redshift_string = redshift_string.replace('.','-')\n",
    "name_of_plot=(\"HIMassFunction_z-\" + str(redshift_string))\n",
    "plt.savefig(\"plots/wDATA/\" + name_of_plot + \".pdf\")"
   ]
  },
  {
   "cell_type": "code",
   "execution_count": 5,
   "metadata": {},
   "outputs": [
    {
     "ename": "FileNotFoundError",
     "evalue": "[Errno 2] No such file or directory: 'data/HIMF_Zwaan2005.data'",
     "output_type": "error",
     "traceback": [
      "\u001b[0;31m---------------------------------------------------------------------------\u001b[0m",
      "\u001b[0;31mFileNotFoundError\u001b[0m                         Traceback (most recent call last)",
      "\u001b[0;32m<ipython-input-5-800484326074>\u001b[0m in \u001b[0;36m<module>\u001b[0;34m\u001b[0m\n\u001b[1;32m      3\u001b[0m \u001b[0;31m# Now lets plot the new data on top of the HIMF graph\u001b[0m\u001b[0;34m\u001b[0m\u001b[0;34m\u001b[0m\u001b[0;34m\u001b[0m\u001b[0m\n\u001b[1;32m      4\u001b[0m \u001b[0;31m# Pull in the data\u001b[0m\u001b[0;34m\u001b[0m\u001b[0;34m\u001b[0m\u001b[0;34m\u001b[0m\u001b[0m\n\u001b[0;32m----> 5\u001b[0;31m \u001b[0mfile_Zwaan\u001b[0m \u001b[0;34m=\u001b[0m \u001b[0mopen\u001b[0m\u001b[0;34m(\u001b[0m\u001b[0;34m\"data/HIMF_Zwaan2005.data\"\u001b[0m\u001b[0;34m,\u001b[0m \u001b[0;34m\"r\"\u001b[0m\u001b[0;34m)\u001b[0m\u001b[0;34m\u001b[0m\u001b[0;34m\u001b[0m\u001b[0m\n\u001b[0m\u001b[1;32m      6\u001b[0m \u001b[0mfileread_Zwaan\u001b[0m \u001b[0;34m=\u001b[0m \u001b[0mfile_Zwaan\u001b[0m\u001b[0;34m.\u001b[0m\u001b[0mreadlines\u001b[0m\u001b[0;34m(\u001b[0m\u001b[0;34m)\u001b[0m\u001b[0;34m\u001b[0m\u001b[0;34m\u001b[0m\u001b[0m\n\u001b[1;32m      7\u001b[0m \u001b[0;32mfor\u001b[0m \u001b[0mline\u001b[0m \u001b[0;32min\u001b[0m \u001b[0mfileread_Zwaan\u001b[0m\u001b[0;34m:\u001b[0m\u001b[0;34m\u001b[0m\u001b[0;34m\u001b[0m\u001b[0m\n",
      "\u001b[0;31mFileNotFoundError\u001b[0m: [Errno 2] No such file or directory: 'data/HIMF_Zwaan2005.data'"
     ]
    }
   ],
   "source": [
    "# ZWAAN 2005 DATA SET\n",
    "\n",
    "# Now lets plot the new data on top of the HIMF graph\n",
    "# Pull in the data\n",
    "file_Zwaan = open(\"data/HIMF_Zwaan2005.data\", \"r\")\n",
    "fileread_Zwaan = file_Zwaan.readlines()\n",
    "for line in fileread_Zwaan:\n",
    "    if line.startswith(\"#\"):\n",
    "        continue # skips that iteration \n",
    "\n",
    "data_Zwaan = np.loadtxt(fileread_Zwaan, delimiter=\" \")\n",
    "#print(data_Zwaan)\n",
    "log_MHI_Zwaan = data_Zwaan[:,0]\n",
    "print('log_MHI : ', log_MHI_Zwaan)\n",
    "log_HIMF_Zwaan = data_Zwaan[:,1]\n",
    "print('log_HIMF : ', log_HIMF_Zwaan)\n",
    "\n",
    "# Now let's plot the mass function from the ZWAAN 2005\n",
    "# Create a new figure (with 1 column and 1 row) and axis\n",
    "fig, ax = plt.subplots(1, 1)\n",
    "# plt.title(\"Hydrogen Mass Function for z = 1, separating Central and Satelitte Galaxies\")\n",
    "\n",
    "# Plot the mass function\n",
    "# data_Zwaan[:,0]corresponds to all the elements in the 0th array (The log_MHI)\n",
    "# data_Zwaan[:,1] corresponds to all the elements in the 1st array (The log_HIMF)\n",
    "label_graph_ZWAAN =('ZWAAN 2005')\n",
    "ax.plot(data_Zwaan[:,0], data_Zwaan[:,1], color=np.random.rand(3,), lw=2,\n",
    "        label=label_graph_ZWAAN)\n",
    "ax.errorbar(data_Zwaan[:,0], data_Zwaan[:,1],\n",
    "            xerr=data_Zwaan[:,2],\n",
    "            yerr=data_Zwaan[:,3],\n",
    "            fmt='x')\n",
    "# Set the axis labels.\n",
    "# Note the use of LaTeX here.\n",
    "ax.set_xlabel(r\"$\\log_{10}(M_{HI} / {\\rm M_{\\odot}})$\")\n",
    "ax.set_ylabel(r\"$\\log_{10}(\\phi / {\\rm Mpc^{-3}})$\")\n",
    "\n",
    "# Add the legend\n",
    "ax.legend(loc=\"lower left\")\n",
    "\n",
    "# Finally save the figure as a PDF\n",
    "plt.tight_layout()\n",
    "\n",
    "name_of_plot=(\"HIMassFunction_ZWAAN-2005\")\n",
    "plt.savefig(\"plots/wDATA/\" + name_of_plot + \".pdf\")"
   ]
  },
  {
   "cell_type": "code",
   "execution_count": null,
   "metadata": {},
   "outputs": [],
   "source": [
    "# MARTIN 2010 DATA SET FOR 1/ V_max Method\n",
    "\n",
    "# Now lets plot the new data on top of the HIMF graph\n",
    "# Pull in the data\n",
    "file_Martin_VMAX = open(\"data/HIMF_Martin2010_1-VMAX.data\", \"r\")# from here on Data from Martin 2010 1/VMax method will be referred to as data_MV\n",
    "fileread_MV = file_Martin_VMAX.readlines()\n",
    "for line in fileread_MV:\n",
    "    if line.startswith(\"#\"):\n",
    "        continue # skips that iteration \n",
    "\n",
    "\n",
    "data_MV = np.loadtxt(fileread_MV, delimiter=\"  \") \n",
    "#print(data_Zwaan)\n",
    "log_MHI_MV = data_MV[:,0]\n",
    "print('log_MHI : ', log_MHI_MV)\n",
    "log_HIMF_MV = data_MV[:,1]\n",
    "print('log_HIMF : ', log_HIMF_MV)\n",
    "\n",
    "# Now let's plot the mass function from the MARTIN 2010\n",
    "# Create a new figure (with 1 column and 1 row) and axis\n",
    "fig, ax = plt.subplots(1, 1)\n",
    "# plt.title(\"Hydrogen Mass Function for z = 1, separating Central and Satelitte Galaxies\")\n",
    "\n",
    "# Plot the mass function for Martin 2010 1 / V_max data set\n",
    "# data_Martin[:,0]corresponds to all the elements in the 0th array (The log_MHI)\n",
    "# data_Martin[:,1] corresponds to all the elements in the 1st array (The log_HIMF)\n",
    "label_graph_MARTIN = (\"MARTIN 2010 (1/$V_{max}$)\")\n",
    "ax.plot(data_MV[:,0], data_MV[:,1], color=np.random.rand(3,), lw=2,\n",
    "        label=label_graph_MARTIN)\n",
    "ax.errorbar(data_MV[:,0], data_MV[:,1],\n",
    "            xerr=None,\n",
    "            yerr=data_MV[:,2],\n",
    "            fmt='x')\n",
    "\n",
    "# Set the axis labels.\n",
    "# Note the use of LaTeX here.\n",
    "ax.set_xlabel(r\"$\\log_{10}(M_{HI} / {\\rm M_{\\odot}})$\")\n",
    "ax.set_ylabel(r\"$\\log_{10}(\\phi / {\\rm Mpc^{-3}})$\")\n",
    "\n",
    "# Add the legend\n",
    "ax.legend(loc=\"lower left\")\n",
    "\n",
    "# Finally save the figure as a PDF\n",
    "plt.tight_layout()\n",
    "name_of_plot=(\"HImf_new_Function_MARTIN_V-MAX-2010\")\n",
    "plt.savefig(\"plots/wDATA/\" + name_of_plot + \".pdf\")"
   ]
  },
  {
   "cell_type": "code",
   "execution_count": null,
   "metadata": {},
   "outputs": [],
   "source": [
    "# FULL PLOT FOR DRAGONS, ZWAAN 2005 AND MARTINS 2010\n",
    "\n",
    "# Now plot the simulation, the Zwaan 2005 and Martin 2010 dataset on one fig\n",
    "fig, ax = plt.subplots(1, 1)\n",
    "# DRAGONS\n",
    "ax.plot(HIMF[:, 0], np.log10(HIMF[:, 1]), lw=2,\n",
    "        label=label_graph_DRAGONS)\n",
    "\n",
    "# ZWAAN 2005\n",
    "ax.plot(data_Zwaan[:,0], data_Zwaan[:,1], lw=2, \n",
    "        label=label_graph_ZWAAN) # change to np.random.rand(3,) for random colours\n",
    "ax.errorbar(data_Zwaan[:,0], data_Zwaan[:,1],\n",
    "            xerr=data_Zwaan[:,2],\n",
    "            yerr=data_Zwaan[:,3],\n",
    "            fmt='x')\n",
    "\n",
    "# MARTIN 2010\n",
    "ax.plot(data_MV[:,0], data_MV[:,1], lw=2,\n",
    "        label=label_graph_MARTIN)\n",
    "ax.errorbar(data_MV[:,0], data_MV[:,1],\n",
    "            xerr=None,\n",
    "            yerr=data_MV[:,2],\n",
    "            fmt='x')\n",
    "\n",
    "\n",
    "# Set the axis labels.\n",
    "# Note the use of LaTeX here.\n",
    "ax.set_xlabel(r\"$\\log_{10}(M_{HI} / {\\rm M_{\\odot}})$\")\n",
    "ax.set_ylabel(r\"$\\log_{10}(\\phi / {\\rm Mpc^{-3}})$\")\n",
    "\n",
    "# Add the legend\n",
    "ax.legend(loc=\"lower left\")\n",
    "\n",
    "# Finally save the figure as a PDF\n",
    "plt.tight_layout()\n",
    "\n",
    "name_of_plot=(\"HIMF_ZWAAN_MARTIN_COMPARISON\")\n",
    "plt.savefig(\"plots/wDATA/\" + name_of_plot + \".pdf\")"
   ]
  },
  {
   "cell_type": "code",
   "execution_count": null,
   "metadata": {},
   "outputs": [],
   "source": []
  }
 ],
 "metadata": {
  "kernelspec": {
   "display_name": "Python 3",
   "language": "python",
   "name": "python3"
  },
  "language_info": {
   "codemirror_mode": {
    "name": "ipython",
    "version": 3
   },
   "file_extension": ".py",
   "mimetype": "text/x-python",
   "name": "python",
   "nbconvert_exporter": "python",
   "pygments_lexer": "ipython3",
   "version": "3.7.6"
  }
 },
 "nbformat": 4,
 "nbformat_minor": 4
}
