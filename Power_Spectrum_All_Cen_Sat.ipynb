{
 "cells": [
  {
   "cell_type": "markdown",
   "metadata": {},
   "source": [
    "# Power Spectrum \n",
    "## Calculate the power spectrum using a 3D grid\n",
    "Generate a the density field of the galaxy positions using a 3D grid\n",
    "Using the 3D grid, then calculate the power spectrum using the powerbox package"
   ]
  },
  {
   "cell_type": "code",
   "execution_count": 1,
   "metadata": {},
   "outputs": [
    {
     "name": "stdout",
     "output_type": "stream",
     "text": [
      "[4.9999988  4.01575197 2.99733298 2.00100053 1.50871276 0.99933302\n",
      " 0.50100094 0.        ]\n",
      "[100 115 134 158 173 192 216 250]\n"
     ]
    },
    {
     "data": {
      "text/plain": [
       "Index(['HaloID', 'ID', 'Type', 'CentralGal', 'GhostFlag', 'Len', 'MaxLen',\n",
       "       'Spin', 'Mvir', 'Rvir', 'Vvir', 'Vmax', 'FOFMvir', 'HotGas',\n",
       "       'MetalsHotGas', 'ColdGas', 'MetalsColdGas', 'H2Frac', 'H2Mass',\n",
       "       'HIMass', 'Mcool', 'DiskScaleLength', 'StellarMass', 'GrossStellarMass',\n",
       "       'MetalsStellarMass', 'Sfr', 'EjectedGas', 'MetalsEjectedGas',\n",
       "       'BlackHoleMass', 'Rcool', 'Cos_Inc', 'MergTime', 'MergerStartRadius',\n",
       "       'BaryonFracModifier', 'FOFMvirModifier', 'MvirCrit', 'MergerBurstMass',\n",
       "       'MWMSA', 'Fesc', 'FescWeightedGSM', 'FescBH', 'BHemissivity',\n",
       "       'EffectiveBHM', 'BlackHoleAccretedHotMass', 'BlackHoleAccretedColdMass',\n",
       "       'dt', 'Pos_0', 'Pos_1', 'Pos_2', 'Vel_0', 'Vel_1', 'Vel_2',\n",
       "       'NewStars_0', 'NewStars_1', 'NewStars_2', 'NewStars_3', 'NewStars_4'],\n",
       "      dtype='object')"
      ]
     },
     "execution_count": 1,
     "metadata": {},
     "output_type": "execute_result"
    }
   ],
   "source": [
    "# Power Spectrum plot\n",
    "import matplotlib.pyplot as plt\n",
    "import numpy as np\n",
    "import powerbox as pbox\n",
    "from Functions import *\n",
    "from mpl_toolkits import mplot3d\n",
    "from powerbox import get_power\n",
    "from scipy import stats\n",
    "import statistics\n",
    "import pandas as pd\n",
    "\n",
    "# Redshift = 0 \n",
    "#get gals, snaps, sims_props\n",
    "snapshot_used = 250 # z = 0\n",
    "gals, sim_props, snaplist = get_gal_catalogue(snapshot_used)\n",
    "#ngals = len(gals)\n",
    "#print(ngals)\n",
    "#gals.columns #returns all avaiable properties of galxies\n",
    "#gals[gals.replace([np.inf, -np.inf], np.nan).notnull().all(axis=1)]# remove infs\n",
    "#gals.dropna()# drop nan values\n",
    "\n",
    "# See other available Snaps and Redshifts\n",
    "reds = snaplist[1]\n",
    "snaps = snaplist[0]\n",
    "print(reds)\n",
    "print(snaps)\n",
    "\n",
    "snaplist_index_used = list(snaplist[0]).index(snapshot_used)# convert to list and find the index of the snap we are using\n",
    "redshift_used = snaplist[1][snaplist_index_used] # Get the redshift for corresponding snapshot\n",
    "redshift_used = str(round(redshift_used, 1)) # round float to nearest whole int\n",
    "gals.columns #returns all avaiable properties of galxies\n",
    "\n",
    "#sim_props # returns sim props if you want to check"
   ]
  },
  {
   "cell_type": "code",
   "execution_count": 2,
   "metadata": {},
   "outputs": [
    {
     "name": "stdout",
     "output_type": "stream",
     "text": [
      "\n",
      "units\n",
      "=====\n",
      "BHemissivity : 1e60 photons\n",
      "\n",
      "BaryonFracModifier : None\n",
      "\n",
      "BlackHoleAccretedColdMass : 1e10 solMass\n",
      "\n",
      "BlackHoleAccretedHotMass : 1e10 solMass\n",
      "\n",
      "BlackHoleMass : 1e10 solMass\n",
      "\n",
      "CentralGal : None\n",
      "\n",
      "ColdGas : 1e10 solMass\n",
      "\n",
      "Cos_Inc : None\n",
      "\n",
      "DiskScaleLength : Mpc\n",
      "\n",
      "EffectiveBHM : 1e10 solMass\n",
      "\n",
      "EjectedGas : 1e10 solMass\n",
      "\n",
      "FOFMvir : 1e10 solMass\n",
      "\n",
      "FOFMvirModifier : None\n",
      "\n",
      "Fesc : None\n",
      "\n",
      "FescBH : None\n",
      "\n",
      "FescWeightedGSM : 1e10 solMass\n",
      "\n",
      "GhostFlag : None\n",
      "\n",
      "GrossStellarMass : 1e10 solMass\n",
      "\n",
      "H2Frac : None\n",
      "\n",
      "H2Mass : 1e10 solMass\n",
      "\n",
      "HIMass : 1e10 solMass\n",
      "\n",
      "HaloID : None\n",
      "\n",
      "HotGas : 1e10 solMass\n",
      "\n",
      "ID : None\n",
      "\n",
      "Len : None\n",
      "\n",
      "MWMSA : Myr\n",
      "\n",
      "MaxLen : None\n",
      "\n",
      "Mcool : 1e10 solMass\n",
      "\n",
      "MergTime : Myr\n",
      "\n",
      "MergerBurstMass : 1e10 solMass\n",
      "\n",
      "MergerStartRadius : Mpc\n",
      "\n",
      "MetalsColdGas : 1e10 solMass\n",
      "\n",
      "MetalsEjectedGas : 1e10 solMass\n",
      "\n",
      "MetalsHotGas : 1e10 solMass\n",
      "\n",
      "MetalsStellarMass : 1e10 solMass\n",
      "\n",
      "Mvir : 1e10 solMass\n",
      "\n",
      "MvirCrit : 1e10 solMass\n",
      "\n",
      "NewStars : 1e10 solMass\n",
      "\n",
      "Pos : Mpc\n",
      "\n",
      "Rcool : Mpc\n",
      "\n",
      "Rvir : Mpc\n",
      "\n",
      "Sfr : solMass/yr\n",
      "\n",
      "Spin : None\n",
      "\n",
      "StellarMass : 1e10 solMass\n",
      "\n",
      "Type : None\n",
      "\n",
      "Vel : km/s\n",
      "\n",
      "Vmax : km/s\n",
      "\n",
      "Vvir : km/s\n",
      "\n",
      "dt : Myr\n",
      "\n"
     ]
    }
   ],
   "source": [
    "fname_in = \"imapping_testrun/meraxes.hdf5\"\n",
    "units = meraxes.read_units(fname_in)\n",
    "print('\\nunits\\n=====')\n",
    "for k, v in units.items():\n",
    "    if not isinstance(v, dict):\n",
    "        print(k, ':', v.decode('utf-8'))\n",
    "        print()"
   ]
  },
  {
   "cell_type": "code",
   "execution_count": 3,
   "metadata": {},
   "outputs": [
    {
     "data": {
      "text/plain": [
       "{'BaryonFrac': 0.15714,\n",
       " 'BaryonFracModifier': '',\n",
       " 'BetaBands': '',\n",
       " 'BirthCloudLifetime': 0.0,\n",
       " 'BlackHoleGrowthRate': 0.05,\n",
       " 'BlackHoleMassLimitReion': -1.0,\n",
       " 'BlackHoleSeed': 1e-07,\n",
       " 'BoxSize': 178.57142857142858,\n",
       " 'CatalogFilePrefix': 'subfind',\n",
       " 'CoolingFuncsDir': '/home/smutch/models/meraxes/src/../input/cooling_functions',\n",
       " 'DefaultsFile': '/home/smutch/models/meraxes/src/../input/Tiamat125-HR.par',\n",
       " 'EddingtonRatio': 1.0,\n",
       " 'EndRedshiftLightcone': 6.0,\n",
       " 'EndSnapshotLightcone': 0,\n",
       " 'EscapeFracBHNorm': 1.0,\n",
       " 'EscapeFracBHScaling': 0.0,\n",
       " 'EscapeFracDependency': 1,\n",
       " 'EscapeFracNorm': 0.06,\n",
       " 'EscapeFracPropScaling': 0.5,\n",
       " 'EscapeFracRedshiftScaling': 0.5,\n",
       " 'FileNameGalaxies': 'meraxes',\n",
       " 'FlagIgnoreProgIndex': 0,\n",
       " 'FlagInteractive': 0,\n",
       " 'FlagMCMC': 0,\n",
       " 'FlagSubhaloVirialProps': 0,\n",
       " 'Flag_BHFeedback': 1,\n",
       " 'Flag_Compute21cmBrightTemp': 1,\n",
       " 'Flag_ComputePS': 1,\n",
       " 'Flag_ConstructLightcone': 1,\n",
       " 'Flag_FixDiskRadiusOnInfall': 0,\n",
       " 'Flag_FixVmaxOnInfall': 0,\n",
       " 'Flag_IRA': 0,\n",
       " 'Flag_IncludePecVelsFor21cm': 1,\n",
       " 'Flag_IncludeRecombinations': 1,\n",
       " 'Flag_IncludeSpinTemp': 1,\n",
       " 'Flag_OutputGrids': 1,\n",
       " 'Flag_OutputGridsPostReion': 0,\n",
       " 'Flag_PatchyReion': 0,\n",
       " 'Flag_ReheatToFOFGroupTemp': 0,\n",
       " 'Flag_ReionizationModifier': 2,\n",
       " 'Flag_SeparateQSOXrays': 0,\n",
       " 'ForestIDFile': '',\n",
       " 'Hubble_h': 0.678,\n",
       " 'LXrayGal': 3.16e+40,\n",
       " 'LXrayQSO': 3.16e+40,\n",
       " 'MassRatioModifier': '',\n",
       " 'MaxCoolingMassFactor': 1.0,\n",
       " 'MergerBurstFactor': 0.57,\n",
       " 'MergerBurstScaling': 0.7,\n",
       " 'MergerTimeFactor': 0.5,\n",
       " 'MinMergerRatioForBurst': 0.1,\n",
       " 'MinMergerStellarMass': 1e-09,\n",
       " 'MvirCritFile': '',\n",
       " 'NPart': 1259712000,\n",
       " 'NSteps': 1,\n",
       " 'NuXrayGalThreshold': 500.0,\n",
       " 'NuXrayMax': 10000.0,\n",
       " 'NuXrayQSOThreshold': 500.0,\n",
       " 'NuXraySoftCut': 2000.0,\n",
       " 'OmegaK': 0.0,\n",
       " 'OmegaLambda': 0.692,\n",
       " 'OmegaM': 0.308,\n",
       " 'OmegaR': 0.0,\n",
       " 'OutputDir': 'output/',\n",
       " 'OutputSnapshots': '100,115,134,158,173,192,216,250',\n",
       " 'PartMass': 0.01893442857142857,\n",
       " 'PhotometricTablesDir': '/home/smutch/models/meraxes/src/../input/photometric_tables',\n",
       " 'QuasarModeEff': 0.0005,\n",
       " 'RadioModeEff': 0.3,\n",
       " 'RandomSeed': 1809,\n",
       " 'ReincorporationEff': 0.0,\n",
       " 'ReincorporationModel': 1,\n",
       " 'ReionAlphaUV': 5.0,\n",
       " 'ReionAlphaUVBH': 1.57,\n",
       " 'ReionDeltaRFactor': 1.1,\n",
       " 'ReionFilterType': 0,\n",
       " 'ReionGammaHaloBias': 2.0,\n",
       " 'ReionGnedin_z0': 8.0,\n",
       " 'ReionGnedin_zr': 7.0,\n",
       " 'ReionGridDim': 128,\n",
       " 'ReionMaxHeatingRedshift': 35.0,\n",
       " 'ReionNionPhotPerBary': 4000.0,\n",
       " 'ReionPowerSpecDeltaK': 0.1,\n",
       " 'ReionRBubbleMax': 20.34,\n",
       " 'ReionRBubbleMaxRecomb': 33.9,\n",
       " 'ReionRBubbleMin': 0.4068,\n",
       " 'ReionRtoMFilterType': 0,\n",
       " 'ReionSMParam_a': 0.17,\n",
       " 'ReionSMParam_b': -2.1,\n",
       " 'ReionSMParam_c': 2.0,\n",
       " 'ReionSMParam_d': 2.5,\n",
       " 'ReionSMParam_m0': 0.18984,\n",
       " 'ReionSfrTimescale': 0.5,\n",
       " 'ReionSobacchi_DeltaZre': 1.0,\n",
       " 'ReionSobacchi_DeltaZsc': 2.0,\n",
       " 'ReionSobacchi_T0': 50000.0,\n",
       " 'ReionSobacchi_Zre': 9.3,\n",
       " 'ReionTcool': 10000.0,\n",
       " 'ReionUVBFlag': 1,\n",
       " 'RestBands': '',\n",
       " 'SfCriticalSDNorm': 0.37,\n",
       " 'SfDiskVelOpt': 1,\n",
       " 'SfEfficiency': 0.15,\n",
       " 'SfEfficiencyScaling': 0.0,\n",
       " 'SfPrescription': 2,\n",
       " 'SfRecycleFraction': 0.25,\n",
       " 'Sigma8': 0.815,\n",
       " 'SimName': 'Tiamat125-HR',\n",
       " 'SimulationDir': '/fred/oz013/simulations/Tiamat_125_HR',\n",
       " 'SnEjectionEff': 0.5,\n",
       " 'SnEjectionNorm': 70.0,\n",
       " 'SnEjectionRedshiftDep': 0.0,\n",
       " 'SnEjectionScaling': 2.0,\n",
       " 'SnEjectionScaling2': 2.0,\n",
       " 'SnModel': 1,\n",
       " 'SnReheatEff': 10.0,\n",
       " 'SnReheatLimit': 10.0,\n",
       " 'SnReheatNorm': 70.0,\n",
       " 'SnReheatRedshiftDep': 0.0,\n",
       " 'SnReheatScaling': 0.0,\n",
       " 'SnReheatScaling2': 0.0,\n",
       " 'SpecIndexXrayGal': 1.0,\n",
       " 'SpecIndexXrayQSO': 1.0,\n",
       " 'SpectralIndex': 0.968,\n",
       " 'StellarFeedbackDir': '/home/smutch/models/meraxes/src/../input/stellar_feedback_tables/Kroupa',\n",
       " 'TablesForXHeatingDir': '/home/smutch/models/meraxes/src/../input/21cmFAST-tables',\n",
       " 'TargetSnaps': '',\n",
       " 'ThreshMajorMerger': 0.3,\n",
       " 'TreesID': 1,\n",
       " 'TsHeatingFilterType': 0,\n",
       " 'TsNumFilterSteps': 40,\n",
       " 'TsVelocityComponent': 3,\n",
       " 'UnitLength_in_cm': 3.08568e+24,\n",
       " 'UnitMass_in_g': 1.989e+43,\n",
       " 'UnitVelocity_in_cm_per_s': 100000.0,\n",
       " 'VolumeFactor': 1.0,\n",
       " 'Y_He': 0.24,\n",
       " 'Yield': 0.03,\n",
       " 'quasar_mode_scaling': 0.0,\n",
       " 'quasar_open_angle': 80.0,\n",
       " 'wLambda': -1.0,\n",
       " 'Volume': 5694241.982507289,\n",
       " 'model_git_ref': b'df338cd8bc72bd7ad3d973669873b740d13319c3',\n",
       " 'model_git_diff': b'diff --git i/src/CMakeLists.txt w/src/CMakeLists.txt\\nindex 245c9f9..ed874bb 100644\\n--- i/src/CMakeLists.txt\\n+++ w/src/CMakeLists.txt\\n@@ -108,7 +108,7 @@ if(USE_CUDA)\\n     # Pass options to NVCC\\n     set(CUDA_HOST_COMPILER ${CMAKE_CXX_COMPILER})\\n     set(CUDA_PROPAGATE_HOST_FLAGS ON)\\n-    set(CUDA_NVCC_FLAGS \"${CUDA_NVCC_FLAGS} -arch=sm_60\")\\n+    set(CUDA_NVCC_FLAGS \"${CUDA_NVCC_FLAGS} -arch=sm_35\")\\n \\n     ################################################################################\\n     # This ugly hack is needed to work around a bug in the fftw3.h header file',\n",
       " 'Redshift': array([0.])}"
      ]
     },
     "execution_count": 3,
     "metadata": {},
     "output_type": "execute_result"
    }
   ],
   "source": [
    "sim_props"
   ]
  },
  {
   "cell_type": "code",
   "execution_count": 4,
   "metadata": {},
   "outputs": [],
   "source": [
    "Type = gals[\"Type\"]\n",
    "# All Galaxies = gals\n",
    "# Centrals = gals[Type==0]\n",
    "Cen_gals = gals[Type==0]\n",
    "# Satellites = gals[Type==1]\n",
    "Sat_gals= gals[Type==1]\n",
    "# Orphans = gals[Type==2]\n",
    "Orp_gals = gals[Type==2]"
   ]
  },
  {
   "cell_type": "markdown",
   "metadata": {},
   "source": [
    "# GALAXY POSITIONS"
   ]
  },
  {
   "cell_type": "code",
   "execution_count": 5,
   "metadata": {},
   "outputs": [
    {
     "data": {
      "text/plain": [
       "array([[114.87497 , 161.59933 ,  92.02604 ],\n",
       "       [135.61313 ,  96.29895 , 113.50319 ],\n",
       "       [126.71422 ,  50.645977, 133.7068  ],\n",
       "       ...,\n",
       "       [161.74535 , 104.77806 , 121.301575],\n",
       "       [177.04092 , 161.79611 , 160.85045 ],\n",
       "       [172.94582 , 178.1844  , 105.88463 ]], dtype=float32)"
      ]
     },
     "execution_count": 5,
     "metadata": {},
     "output_type": "execute_result"
    }
   ],
   "source": [
    "# All\n",
    "# using positions [x,y,x]\n",
    "pos_x, pos_y, pos_z, Pos, Pos_new = return_3d_pos(gals)\n",
    "# Centrals\n",
    "Cen_pos_x, Cen_pos_y, Cen_pos_z, Cen_Pos, Cen_Pos_new = return_3d_pos(Cen_gals)\n",
    "# Satellites\n",
    "Sat_pos_x, Sat_pos_y, Sat_pos_z, Sat_Pos, Sat_Pos_new = return_3d_pos(Sat_gals)\n",
    "# Orphans\n",
    "Orp_pos_x, Orp_pos_y, Orp_pos_z, Orp_Pos, Orp_Pos_new = return_3d_pos(Orp_gals)\n",
    "Cen_Pos_new"
   ]
  },
  {
   "cell_type": "markdown",
   "metadata": {},
   "source": [
    "# HI MASS"
   ]
  },
  {
   "cell_type": "markdown",
   "metadata": {},
   "source": [
    "# All\n",
    "HIMass = gals[\"HIMass\"]\n",
    "# Centrals\n",
    "Cen_HIMass = Cen_gals[\"HIMass\"]\n",
    "# Satellites\n",
    "Sat_HIMass = Sat_gals[\"HIMass\"]\n",
    "# Orphans\n",
    "Orp_HIMass = Orp_gals[\"HIMass\"]"
   ]
  },
  {
   "cell_type": "markdown",
   "metadata": {},
   "source": [
    "# HALO MASS"
   ]
  },
  {
   "cell_type": "markdown",
   "metadata": {},
   "source": [
    "# All\n",
    "Mvir = gals[\"Mvir\"]\n",
    "# Centrals\n",
    "Cen_Mvir = Cen_gals[\"Mvir\"]\n",
    "# Satellites\n",
    "Sat_Mvir = Sat_gals[\"Mvir\"]\n",
    "# Orphans\n",
    "Orp_Mvir = Orp_gals[\"Mvir\"]"
   ]
  },
  {
   "cell_type": "markdown",
   "metadata": {},
   "source": [
    "## use this if 1st attempt doesnt work\n",
    "### MAKE 3D array for grid later\n",
    "#HIMass = np.array([HIMass, HIMass, HIMass])\n",
    "#HIMass.T.shape\n",
    "#HIMass_new=HIMass.T # Transpose the HIMass so it is in format (N,D) array"
   ]
  },
  {
   "cell_type": "markdown",
   "metadata": {},
   "source": [
    "## Create 3D grid of galaxy positions\n",
    "### 1. Calculate the edges of the grid\n",
    "### 2. Calculate the deltax\n",
    "    delta x = (Pos/edges)\n",
    "### 3. Get the 3D grid\n",
    "    using histogram 3D"
   ]
  },
  {
   "cell_type": "code",
   "execution_count": 6,
   "metadata": {},
   "outputs": [
    {
     "data": {
      "text/plain": [
       "5694241.982507289"
      ]
     },
     "execution_count": 6,
     "metadata": {},
     "output_type": "execute_result"
    }
   ],
   "source": [
    "# getting bits ready for 3D grid \n",
    "boxsize = 178.57142857142858 # get the box size, this is from sims pops \n",
    "dim = len(Pos) # number of dimensions in 3D space =3\n",
    "boxlength = [boxsize] * dim #get box length for each side of box\n",
    "Ngal = pos_x.shape # = 1648367\n",
    "V = np.product(boxlength)\n",
    "Ngal = Ngal[0]\n",
    "V  # Should be same as in sim props, 'Volume': 5694241.982507289,"
   ]
  },
  {
   "cell_type": "markdown",
   "metadata": {},
   "source": [
    "# Shot noise calc."
   ]
  },
  {
   "cell_type": "code",
   "execution_count": 7,
   "metadata": {},
   "outputs": [
    {
     "name": "stdout",
     "output_type": "stream",
     "text": [
      "Shot noise:  3.4544746300473674\n",
      "Volume:  5694241.982507289\n"
     ]
    }
   ],
   "source": [
    "# From before:\n",
    "# Ngal = pos_x.shape # = 1648367\n",
    "# V = np.product(boxlength)\n",
    "ng = Ngal / V\n",
    "psn = 1/ng\n",
    "psn\n",
    "V\n",
    "\n",
    "print(\"Shot noise: \", psn)\n",
    "print(\"Volume: \", V)\n",
    "\n",
    "# create array for psn\n",
    "psn_plt = np.full((45), psn)"
   ]
  },
  {
   "cell_type": "markdown",
   "metadata": {},
   "source": [
    "# Create 3D grid for \n",
    "## 1. Galaxy positions ($\\rho_{x}$)"
   ]
  },
  {
   "cell_type": "code",
   "execution_count": 8,
   "metadata": {},
   "outputs": [
    {
     "data": {
      "text/plain": [
       "101"
      ]
     },
     "execution_count": 8,
     "metadata": {},
     "output_type": "execute_result"
    }
   ],
   "source": [
    "# Histogramdd = RETURNS GALAXY COUNTS (rhox) and bins\n",
    "nbins=100\n",
    "\n",
    "# All\n",
    "rhox, edges = np.histogramdd(Pos_new, bins=nbins)# calculate the 3D grid using histogramdd \n",
    "# Centrals\n",
    "Cen_rhox, Cen_edges = np.histogramdd(Cen_Pos_new, bins=nbins)\n",
    "Sat_rhox, Sat_edges = np.histogramdd(Sat_Pos_new, bins=nbins)\n",
    "Orp_rhox, Orp_edges = np.histogramdd(Orp_Pos_new, bins=nbins)\n",
    "Cen_edges[0].size"
   ]
  },
  {
   "cell_type": "code",
   "execution_count": 9,
   "metadata": {},
   "outputs": [
    {
     "data": {
      "text/plain": [
       "4.0"
      ]
     },
     "execution_count": 9,
     "metadata": {},
     "output_type": "execute_result"
    }
   ],
   "source": [
    "Sat_edges[0].size\n",
    "max(Sat_rhox[0][0])"
   ]
  },
  {
   "cell_type": "markdown",
   "metadata": {},
   "source": [
    "# 1a. PLOT 3D grid to check!"
   ]
  },
  {
   "cell_type": "code",
   "execution_count": 10,
   "metadata": {},
   "outputs": [
    {
     "data": {
      "text/plain": [
       "Text(0, 0.5, '$\\\\rho_{x}$ $[Mpc]$')"
      ]
     },
     "execution_count": 10,
     "metadata": {},
     "output_type": "execute_result"
    },
    {
     "data": {
      "image/png": "[encoded data removed]",
      "text/plain": [
       "<Figure size 432x288 with 1 Axes>"
      ]
     },
     "metadata": {
      "needs_background": "light"
     },
     "output_type": "display_data"
    }
   ],
   "source": [
    "# X\n",
    "#Cen_rhox[0].shape, Cen_edges[0].shape,\n",
    "x=np.array(edges[0][:-1])\n",
    "y=np.array(rhox[0][0])\n",
    "x0=np.array(Cen_edges[0][:-1])\n",
    "y0=np.array(Cen_rhox[0][0])\n",
    "x1=np.array(Sat_edges[0][:-1])\n",
    "y1=np.array(Sat_rhox[0][0])\n",
    "x2=np.array(Orp_edges[0][:-1])\n",
    "y2=np.array(Orp_rhox[0][0])\n",
    "fig, ax = plt.subplots(1, 1)\n",
    "#ax.plot(x,y,color='darkmagenta')\n",
    "#plt.xscale('log')\n",
    "#plt.yscale('log')\n",
    "ax.scatter(x,y,color=\"black\",marker='x',s=30)\n",
    "ax.scatter(x0,y0,color=\"darkmagenta\",marker='o',s=30)\n",
    "ax.scatter(x1,y1,color=\"green\",marker='+', s=30)\n",
    "ax.scatter(x2,y2,color=\"grey\",marker='^', s=30)\n",
    "ax.set_xlabel(r\"$x$ $[Mpc]$\")\n",
    "ax.set_ylabel(r\"$\\rho_{x}$ $[Mpc]$\")"
   ]
  },
  {
   "cell_type": "code",
   "execution_count": 11,
   "metadata": {},
   "outputs": [
    {
     "data": {
      "text/plain": [
       "Text(0, 0.5, '$\\\\rho_{x}$ $[Mpc]$')"
      ]
     },
     "execution_count": 11,
     "metadata": {},
     "output_type": "execute_result"
    },
    {
     "data": {
      "image/png": "[encoded data removed]",
      "text/plain": [
       "<Figure size 432x288 with 1 Axes>"
      ]
     },
     "metadata": {
      "needs_background": "light"
     },
     "output_type": "display_data"
    }
   ],
   "source": [
    "# Y \n",
    "#Cen_rhox[0].shape, Cen_edges[0].shape,\n",
    "x=np.array(edges[0][:-1])\n",
    "y=np.array(rhox[1][0])\n",
    "x0=np.array(Cen_edges[0][:-1])\n",
    "y0=np.array(Cen_rhox[1][0])\n",
    "x1=np.array(Sat_edges[0][:-1])\n",
    "y1=np.array(Sat_rhox[1][0])\n",
    "x2=np.array(Orp_edges[0][:-1])\n",
    "y2=np.array(Orp_rhox[1][0])\n",
    "fig, ax = plt.subplots(1, 1)\n",
    "#ax.plot(x,y,color='darkmagenta')\n",
    "#plt.xscale('log')\n",
    "#plt.yscale('log')\n",
    "ax.scatter(x,y,color=\"black\",marker='x',s=30)\n",
    "ax.scatter(x0,y0,color=\"darkmagenta\",marker='o',s=30)\n",
    "ax.scatter(x1,y1,color=\"green\",marker='+', s=30)\n",
    "ax.scatter(x2,y2,color=\"grey\",marker='^', s=30)\n",
    "ax.set_xlabel(r\"$x$ $[Mpc]$\")\n",
    "ax.set_ylabel(r\"$\\rho_{x}$ $[Mpc]$\")"
   ]
  },
  {
   "cell_type": "code",
   "execution_count": 12,
   "metadata": {},
   "outputs": [
    {
     "data": {
      "text/plain": [
       "Text(0, 0.5, '$\\\\rho_{x}$ $[Mpc]$')"
      ]
     },
     "execution_count": 12,
     "metadata": {},
     "output_type": "execute_result"
    },
    {
     "data": {
      "image/png": "[encoded data removed]",
      "text/plain": [
       "<Figure size 432x288 with 1 Axes>"
      ]
     },
     "metadata": {
      "needs_background": "light"
     },
     "output_type": "display_data"
    }
   ],
   "source": [
    "#Z\n",
    "#Cen_rhox[0].shape, Cen_edges[0].shape,\n",
    "x=np.array(edges[0][:-1])\n",
    "y=np.array(rhox[2][0])\n",
    "x0=np.array(Cen_edges[0][:-1])\n",
    "y0=np.array(Cen_rhox[2][0])\n",
    "x1=np.array(Sat_edges[0][:-1])\n",
    "y1=np.array(Sat_rhox[2][0])\n",
    "x2=np.array(Orp_edges[0][:-1])\n",
    "y2=np.array(Orp_rhox[2][0])\n",
    "fig, ax = plt.subplots(1, 1)\n",
    "#ax.plot(x,y,color='darkmagenta')\n",
    "#plt.xscale('log')\n",
    "#plt.yscale('log')\n",
    "ax.scatter(x,y,color=\"black\",marker='x',s=30)\n",
    "ax.scatter(x0,y0,color=\"darkmagenta\",marker='o',s=30)\n",
    "ax.scatter(x1,y1,color=\"green\",marker='+', s=30)\n",
    "ax.scatter(x2,y2,color=\"grey\",marker='^', s=30)\n",
    "ax.set_xlabel(r\"$x$ $[Mpc]$\")\n",
    "ax.set_ylabel(r\"$\\rho_{x}$ $[Mpc]$\")"
   ]
  },
  {
   "cell_type": "markdown",
   "metadata": {},
   "source": [
    "## 2. HIMass $\\rho_{HIMass}$"
   ]
  },
  {
   "cell_type": "markdown",
   "metadata": {},
   "source": [
    "rhoHIMass, edgesHIMass = np.histogramdd(Pos_new, bins=nbins, weights=HIMass) #[0].astype(\"float\") # calculate the 3D grid using histogramdd\n",
    "Cen_rhoHIMass, Cen_edgesHIMass = np.histogramdd(Cen_Pos_new, bins=nbins, weights=Cen_HIMass) #[0].astype(\"float\") # calculate the 3D grid using histogramdd\n",
    "Sat_rhoHIMass, Sat_edgesHIMass = np.histogramdd(Sat_Pos_new, bins=nbins, weights=Sat_HIMass) #[0].astype(\"float\") # calculate the 3D grid using histogramdd\n",
    "Orp_rhoHIMass, Orp_edgesHIMass = np.histogramdd(Orp_Pos_new, bins=nbins, weights=Orp_HIMass) #[0].astype(\"float\") # calculate the 3D grid using histogramdd"
   ]
  },
  {
   "cell_type": "markdown",
   "metadata": {},
   "source": [
    "# Calculate the density using the mean of the density field:\n",
    "\n",
    "$\\delta = \\frac{\\rho(x)}{\\bar{\\rho(x)}}$\n",
    "\n",
    "## Galaxies:"
   ]
  },
  {
   "cell_type": "code",
   "execution_count": 13,
   "metadata": {},
   "outputs": [],
   "source": [
    "delta = rhox / np.mean(rhox) - 1 # calcualte the over density\n",
    "Cen_delta = Cen_rhox / np.mean(Cen_rhox) - 1 # calcualte the over density\n",
    "Sat_delta = Sat_rhox / np.mean(Sat_rhox) - 1 # calcualte the over density\n",
    "Orp_delta = Orp_rhox / np.mean(Orp_rhox) - 1 # calcualte the over density"
   ]
  },
  {
   "cell_type": "markdown",
   "metadata": {},
   "source": [
    "## HI Mass "
   ]
  },
  {
   "cell_type": "markdown",
   "metadata": {},
   "source": [
    "delta_HIMass = rhoHIMass / np.mean(rhoHIMass) - 1 # calculate the over density\n",
    "Cen_delta_HIMass = Cen_rhoHIMass / np.mean(Cen_rhoHIMass) - 1 # calculate the over density\n",
    "Sat_delta_HIMass = Sat_rhoHIMass / np.mean(Sat_rhoHIMass) - 1 # calculate the over density\n",
    "Orp_delta_HIMass = Orp_rhoHIMass / np.mean(Orp_rhoHIMass) - 1 # calculate the over density"
   ]
  },
  {
   "cell_type": "markdown",
   "metadata": {},
   "source": [
    "## 3. M VIR (HALO MASS)"
   ]
  },
  {
   "cell_type": "markdown",
   "metadata": {},
   "source": [
    "rhoMvir, edgesMvir = np.histogramdd(Pos_new, bins=nbins, weights=Mvir) #[0].astype(\"float\") # calculate the 3D grid using histogramdd\n",
    "Cen_rhoMvir, Cen_edgesMvir = np.histogramdd(Cen_Pos_new, bins=nbins, weights=Cen_Mvir) #[0].astype(\"float\") # calculate the 3D grid using histogramdd\n",
    "Sat_rhoMvir, Sat_edgesMvir = np.histogramdd(Sat_Pos_new, bins=nbins, weights=Sat_Mvir) #[0].astype(\"float\") # calculate the 3D grid using histogramdd\n",
    "Orp_rhoMvir, Orp_edgesMvir = np.histogramdd(Orp_Pos_new, bins=nbins, weights=Orp_Mvir) #[0].astype(\"float\") # calculate the 3D grid using histogramdd\n"
   ]
  },
  {
   "cell_type": "markdown",
   "metadata": {},
   "source": [
    "delta_Mvir = rhoMvir / np.mean(rhoMvir) - 1 # calculate the over density\n",
    "Cen_delta_Mvir = Cen_rhoMvir / np.mean(Cen_rhoMvir) - 1 # calculate the over density\n",
    "Sat_delta_Mvir = Sat_rhoMvir / np.mean(Sat_rhoMvir) - 1 # calculate the over density\n",
    "Orp_delta_Mvir = Orp_rhoMvir / np.mean(Orp_rhoMvir) - 1 # calculate the over density"
   ]
  },
  {
   "cell_type": "markdown",
   "metadata": {},
   "source": [
    "## Now lets do the Galaxy and HI Mass Power Spectrum \n",
    "### The only difference is that we add weights (HI_Mass is the weights for the PS)"
   ]
  },
  {
   "cell_type": "code",
   "execution_count": 19,
   "metadata": {},
   "outputs": [],
   "source": [
    "# REDSHIFT z=0\n",
    "# GALAXY PS = gal_ps, gal_k\n",
    "# HIMASS PS = HIMass_ps, HIMass_k\n",
    "# All\n",
    "gal_ps, gal_k = get_power(delta,boxlength,remove_shotnoise=False,weights=None)# NO WEIGHTS for GALAXY PS\n",
    "#HIMass_ps, HIMass_k = pbox.get_power(delta_HIMass,boxlength,remove_shotnoise=False)# WEIGHTS = HIMASS for HIMASS PS\n",
    "#Mvir_ps, Mvir_k = pbox.get_power(delta_Mvir,boxlength,remove_shotnoise=False)# WEIGHTS = HIMASS for HIMASS PS\n",
    "\n",
    "# Centrals\n",
    "Cen_gal_ps, Cen_gal_k = get_power(Cen_delta,boxlength,remove_shotnoise=False,weights=None)# NO WEIGHTS for GALAXY PS\n",
    "# Satellites\n",
    "Sat_gal_ps, Sat_gal_k = get_power(Sat_delta,boxlength,remove_shotnoise=False,weights=None)# NO WEIGHTS for GALAXY PS\n",
    "# Orphans\n",
    "Orp_gal_ps, Orp_gal_k = get_power(Orp_delta,boxlength,remove_shotnoise=False,weights=None)# NO WEIGHTS for GALAXY PS"
   ]
  },
  {
   "cell_type": "markdown",
   "metadata": {},
   "source": [
    "# PLOT\n",
    "## GALAXY PS"
   ]
  },
  {
   "cell_type": "code",
   "execution_count": 20,
   "metadata": {},
   "outputs": [
    {
     "data": {
      "image/png": "[encoded data removed]",
      "text/plain": [
       "<Figure size 432x288 with 1 Axes>"
      ]
     },
     "metadata": {
      "needs_background": "light"
     },
     "output_type": "display_data"
    }
   ],
   "source": [
    "fig, ax = plt.subplots(1, 1)\n",
    "label_z = (\"z = \" + redshift_used)\n",
    "#ax.set_ylim([0,3500])\n",
    "#ax.set_xlim([0.1,1])\n",
    "\n",
    "# Labels and Legends\n",
    "label_All = (\"All Galaxies\")\n",
    "label_Cen = (\"Centrals\")\n",
    "label_Sat = (\"Satelittes\")\n",
    "label_Orp = (\"Orphans\")\n",
    "label_psn = (\"Shot Noise\")\n",
    "\n",
    "# Plot\n",
    "ax.set_xlabel(r\"$k$ $[Mpc^{-1}]$\")\n",
    "ax.set_ylabel(r\"$P(k)$ $[Mpc^{3}]$\")\n",
    "plt.xscale('log')\n",
    "plt.yscale('log')\n",
    "ax.plot(gal_k,gal_ps,color=\"black\")\n",
    "ax.scatter(gal_k,gal_ps,color=\"black\", label=label_All,marker=\"x\", s=30)\n",
    "ax.plot(Cen_gal_k,Cen_gal_ps,color='darkmagenta')\n",
    "ax.scatter(Cen_gal_k,Cen_gal_ps,color='darkmagenta', label=label_Cen,marker=\"o\", s=20)\n",
    "ax.plot(Sat_gal_k,Sat_gal_ps,color='g')\n",
    "ax.scatter(Sat_gal_k,Sat_gal_ps,color='g', label=label_Sat,marker=\"+\", s=30)\n",
    "ax.plot(Orp_gal_k,Orp_gal_ps,color=\"lightgray\")\n",
    "ax.scatter(Orp_gal_k,Orp_gal_ps,color=\"lightgray\", label=label_Orp,marker=\"^\", s=20)\n",
    "\n",
    "plt.legend(title=(\"Galaxy Power Spectrum\"),\n",
    "           loc='lower left',\n",
    "           fontsize=12)\n",
    "\n",
    "# Name and save plot\n",
    "nbins = str(nbins)\n",
    "name_of_plot=(\"GalaxyPowerSpectrum_All_Cen_Sat_Orp_logged\" + nbins)\n",
    "plt.savefig(\"plots/\" + name_of_plot + \".pdf\")"
   ]
  },
  {
   "cell_type": "markdown",
   "metadata": {},
   "source": [
    "# HI MASS PS"
   ]
  },
  {
   "cell_type": "markdown",
   "metadata": {},
   "source": [
    "fig, ax = plt.subplots(1, 1)\n",
    "label_z = (\"z = \" + redshift_used)\n",
    "#ax.set_ylim([0,3500])\n",
    "#ax.set_xlim([0.1,1])\n",
    "ax.set_xlabel(r\"$k$ $[Mpc^{-1}]$\")\n",
    "ax.set_ylabel(r\"$P_{HI}(k)$ $[Mpc^{3}]$\")\n",
    "plt.xscale('log')\n",
    "plt.yscale('log')\n",
    "ax.plot(bins_field_HI_Mass,p_k_field_HI_Mass,color=\"deepskyblue\", label=label_z)\n",
    "\n",
    "plt.legend(title=(\"DRAGONS\"),\n",
    "           loc='upper right',\n",
    "           fontsize=12)\n",
    "\n",
    "nbins = str(nbins)\n",
    "name_of_plot=(\"PowerSpectrum_HIMass\" + nbins)\n",
    "plt.savefig(\"plots/\" + name_of_plot + \".pdf\")"
   ]
  },
  {
   "cell_type": "markdown",
   "metadata": {},
   "source": [
    "# Calculate the Shot Noise\n",
    "$P_{SN} = \\frac{1}{N_g}$,\n",
    "$N_g = \\frac{N_{gal}}{V}$\n",
    "\n",
    "$P_{SN}$ = Shot noise,\n",
    "${N_g}$ = Number of grid points,\n",
    "${N_{gal}}$ = Number of Galaxies,\n",
    "$V$ = volume\n"
   ]
  },
  {
   "cell_type": "markdown",
   "metadata": {},
   "source": [
    "# shot noise scales with 1/n, with n being the density of sources in the sample."
   ]
  },
  {
   "cell_type": "code",
   "execution_count": 36,
   "metadata": {},
   "outputs": [],
   "source": [
    "N_input = 300\n",
    "gal_ps_psn_removed, gal_kpsn_removed = pbox.get_power(Pos_new,boxlength,bins=100,N=N_input,remove_shotnoise=True)# NO WEIGHTS for GALAXY PS\n",
    "gal_ps, gal_k = pbox.get_power(Pos_new,boxlength,bins=100,N=N_input,remove_shotnoise=False)# NO WEIGHTS for GALAXY PS\n",
    "psn = gal_ps - gal_ps_psn_removed\n",
    "psn"
   ]
  },
  {
   "cell_type": "code",
   "execution_count": 43,
   "metadata": {},
   "outputs": [
    {
     "data": {
      "image/png": "[encoded data removed]",
      "text/plain": [
       "<Figure size 432x288 with 1 Axes>"
      ]
     },
     "metadata": {
      "needs_background": "light"
     },
     "output_type": "display_data"
    }
   ],
   "source": [
    "fig, ax = plt.subplots(1, 1)\n",
    "label_z = (\"z = \" + redshift_used)\n",
    "#ax.set_ylim([0,3500])\n",
    "#ax.set_xlim([0.1,1])\n",
    "\n",
    "# Labels and Legends\n",
    "label_gal = (\"All Galaxies\")\n",
    "label_gal_psn_removed = (\"Shot Noise Removed\")\n",
    "\n",
    "# Plot\n",
    "ax.set_xlabel(r\"$k$ $[Mpc^{-1}]$\")\n",
    "ax.set_ylabel(r\"$P(k)$ $[Mpc^{3}]$\")\n",
    "plt.xscale('log')\n",
    "plt.yscale('log')\n",
    "ax.plot(gal_k,gal_ps,color=\"black\")\n",
    "ax.scatter(gal_k,gal_ps,color=\"black\", label=label_All,marker=\"+\", s=50)\n",
    "ax.plot(gal_kpsn_removed,gal_ps_psn_removed,color=\"grey\")\n",
    "ax.scatter(gal_kpsn_removed,gal_ps_psn_removed,color=\"grey\", label=label_gal_psn_removed,marker=\"x\", s=30)\n",
    "ax.plot(gal_k,psn,color=\"magenta\", label=label_psn)\n",
    "\n",
    "plt.legend(title=(\"Galaxy Power Spectrum\"),\n",
    "           loc='lower left',\n",
    "           fontsize=10)\n",
    "\n",
    "# Name and save plot\n",
    "nbins = str(nbins)\n",
    "name_of_plot=(\"GalaxyPowerSpectrum_logged_SN\" + nbins)\n",
    "plt.savefig(\"plots/PS/\" + name_of_plot + \".pdf\")"
   ]
  },
  {
   "cell_type": "code",
   "execution_count": 44,
   "metadata": {},
   "outputs": [
    {
     "data": {
      "text/plain": [
       "array([3.45447463, 3.45447463, 3.45447463, 3.45447463, 3.45447463,\n",
       "       3.45447463, 3.45447463, 3.45447463, 3.45447463, 3.45447463,\n",
       "       3.45447463, 3.45447463, 3.45447463, 3.45447463, 3.45447463,\n",
       "       3.45447463, 3.45447463, 3.45447463, 3.45447463, 3.45447463,\n",
       "       3.45447463, 3.45447463, 3.45447463, 3.45447463, 3.45447463,\n",
       "       3.45447463, 3.45447463, 3.45447463, 3.45447463, 3.45447463,\n",
       "       3.45447463, 3.45447463, 3.45447463, 3.45447463, 3.45447463,\n",
       "       3.45447463, 3.45447463, 3.45447463, 3.45447463, 3.45447463,\n",
       "       3.45447463, 3.45447463, 3.45447463, 3.45447463, 3.45447463,\n",
       "       3.45447463, 3.45447463, 3.45447463, 3.45447463, 3.45447463,\n",
       "       3.45447463, 3.45447463, 3.45447463, 3.45447463, 3.45447463,\n",
       "       3.45447463, 3.45447463, 3.45447463, 3.45447463, 3.45447463,\n",
       "       3.45447463, 3.45447463, 3.45447463, 3.45447463, 3.45447463,\n",
       "       3.45447463, 3.45447463, 3.45447463, 3.45447463, 3.45447463,\n",
       "       3.45447463, 3.45447463, 3.45447463, 3.45447463, 3.45447463,\n",
       "       3.45447463, 3.45447463, 3.45447463, 3.45447463, 3.45447463,\n",
       "       3.45447463, 3.45447463, 3.45447463, 3.45447463, 3.45447463,\n",
       "       3.45447463, 3.45447463, 3.45447463, 3.45447463, 3.45447463,\n",
       "       3.45447463, 3.45447463, 3.45447463, 3.45447463, 3.45447463,\n",
       "       3.45447463, 3.45447463, 3.45447463, 3.45447463, 3.45447463])"
      ]
     },
     "execution_count": 44,
     "metadata": {},
     "output_type": "execute_result"
    }
   ],
   "source": [
    "psn"
   ]
  },
  {
   "cell_type": "code",
   "execution_count": null,
   "metadata": {},
   "outputs": [],
   "source": []
  }
 ],
 "metadata": {
  "kernelspec": {
   "display_name": "Python 3",
   "language": "python",
   "name": "python3"
  },
  "language_info": {
   "codemirror_mode": {
    "name": "ipython",
    "version": 3
   },
   "file_extension": ".py",
   "mimetype": "text/x-python",
   "name": "python",
   "nbconvert_exporter": "python",
   "pygments_lexer": "ipython3",
   "version": "3.8.3"
  }
 },
 "nbformat": 4,
 "nbformat_minor": 4
}
