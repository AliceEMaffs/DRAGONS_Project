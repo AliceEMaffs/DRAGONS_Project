{
 "cells": [
  {
   "cell_type": "markdown",
   "metadata": {},
   "source": [
    "# Power Spectrum \n",
    "## Calculate the power spectrum using a 3D grid\n",
    "Generate a the density field of the galaxy positions using a 3D grid\n",
    "Using the 3D grid, then calculate the power spectrum using the powerbox package"
   ]
  },
  {
   "cell_type": "code",
   "execution_count": 1,
   "metadata": {},
   "outputs": [
    {
     "name": "stdout",
     "output_type": "stream",
     "text": [
      "[4.9999988  4.01575197 2.99733298 2.00100053 1.50871276 0.99933302\n",
      " 0.50100094 0.        ]\n",
      "[100 115 134 158 173 192 216 250]\n"
     ]
    },
    {
     "data": {
      "text/plain": [
       "Index(['HaloID', 'ID', 'Type', 'CentralGal', 'GhostFlag', 'Len', 'MaxLen',\n",
       "       'Spin', 'Mvir', 'Rvir', 'Vvir', 'Vmax', 'FOFMvir', 'HotGas',\n",
       "       'MetalsHotGas', 'ColdGas', 'MetalsColdGas', 'H2Frac', 'H2Mass',\n",
       "       'HIMass', 'Mcool', 'DiskScaleLength', 'StellarMass', 'GrossStellarMass',\n",
       "       'MetalsStellarMass', 'Sfr', 'EjectedGas', 'MetalsEjectedGas',\n",
       "       'BlackHoleMass', 'Rcool', 'Cos_Inc', 'MergTime', 'MergerStartRadius',\n",
       "       'BaryonFracModifier', 'FOFMvirModifier', 'MvirCrit', 'MergerBurstMass',\n",
       "       'MWMSA', 'Fesc', 'FescWeightedGSM', 'FescBH', 'BHemissivity',\n",
       "       'EffectiveBHM', 'BlackHoleAccretedHotMass', 'BlackHoleAccretedColdMass',\n",
       "       'dt', 'Pos_0', 'Pos_1', 'Pos_2', 'Vel_0', 'Vel_1', 'Vel_2',\n",
       "       'NewStars_0', 'NewStars_1', 'NewStars_2', 'NewStars_3', 'NewStars_4'],\n",
       "      dtype='object')"
      ]
     },
     "execution_count": 1,
     "metadata": {},
     "output_type": "execute_result"
    }
   ],
   "source": [
    "# Power Spectrum plot\n",
    "import matplotlib.pyplot as plt\n",
    "import numpy as np\n",
    "import powerbox as pbox\n",
    "from Functions import *\n",
    "from mpl_toolkits import mplot3d\n",
    "from powerbox import get_power\n",
    "from scipy import stats\n",
    "import statistics\n",
    "import pandas as pd\n",
    "\n",
    "# Redshift = 0 \n",
    "#get gals, snaps, sims_props\n",
    "snapshot_used = 250 # z = 0\n",
    "gals, sim_props, snaplist = get_gal_catalogue(snapshot_used)\n",
    "#ngals = len(gals)\n",
    "#print(ngals)\n",
    "#gals.columns #returns all avaiable properties of galxies\n",
    "#gals[gals.replace([np.inf, -np.inf], np.nan).notnull().all(axis=1)]# remove infs\n",
    "#gals.dropna()# drop nan values\n",
    "\n",
    "# See other available Snaps and Redshifts\n",
    "reds = snaplist[1]\n",
    "snaps = snaplist[0]\n",
    "print(reds)\n",
    "print(snaps)\n",
    "\n",
    "snaplist_index_used = list(snaplist[0]).index(snapshot_used)# convert to list and find the index of the snap we are using\n",
    "redshift_used = snaplist[1][snaplist_index_used] # Get the redshift for corresponding snapshot\n",
    "redshift_used = str(round(redshift_used, 1)) # round float to nearest whole int\n",
    "gals.columns #returns all avaiable properties of galxies\n",
    "\n",
    "#sim_props # returns sim props if you want to check"
   ]
  },
  {
   "cell_type": "code",
   "execution_count": 13,
   "metadata": {},
   "outputs": [
    {
     "name": "stdout",
     "output_type": "stream",
     "text": [
      "\n",
      "units\n",
      "=====\n",
      "BHemissivity : 1e60 photons\n",
      "\n",
      "BaryonFracModifier : None\n",
      "\n",
      "BlackHoleAccretedColdMass : 1e10 solMass\n",
      "\n",
      "BlackHoleAccretedHotMass : 1e10 solMass\n",
      "\n",
      "BlackHoleMass : 1e10 solMass\n",
      "\n",
      "CentralGal : None\n",
      "\n",
      "ColdGas : 1e10 solMass\n",
      "\n",
      "Cos_Inc : None\n",
      "\n",
      "DiskScaleLength : Mpc\n",
      "\n",
      "EffectiveBHM : 1e10 solMass\n",
      "\n",
      "EjectedGas : 1e10 solMass\n",
      "\n",
      "FOFMvir : 1e10 solMass\n",
      "\n",
      "FOFMvirModifier : None\n",
      "\n",
      "Fesc : None\n",
      "\n",
      "FescBH : None\n",
      "\n",
      "FescWeightedGSM : 1e10 solMass\n",
      "\n",
      "GhostFlag : None\n",
      "\n",
      "GrossStellarMass : 1e10 solMass\n",
      "\n",
      "H2Frac : None\n",
      "\n",
      "H2Mass : 1e10 solMass\n",
      "\n",
      "HIMass : 1e10 solMass\n",
      "\n",
      "HaloID : None\n",
      "\n",
      "HotGas : 1e10 solMass\n",
      "\n",
      "ID : None\n",
      "\n",
      "Len : None\n",
      "\n",
      "MWMSA : Myr\n",
      "\n",
      "MaxLen : None\n",
      "\n",
      "Mcool : 1e10 solMass\n",
      "\n",
      "MergTime : Myr\n",
      "\n",
      "MergerBurstMass : 1e10 solMass\n",
      "\n",
      "MergerStartRadius : Mpc\n",
      "\n",
      "MetalsColdGas : 1e10 solMass\n",
      "\n",
      "MetalsEjectedGas : 1e10 solMass\n",
      "\n",
      "MetalsHotGas : 1e10 solMass\n",
      "\n",
      "MetalsStellarMass : 1e10 solMass\n",
      "\n",
      "Mvir : 1e10 solMass\n",
      "\n",
      "MvirCrit : 1e10 solMass\n",
      "\n",
      "NewStars : 1e10 solMass\n",
      "\n",
      "Pos : Mpc\n",
      "\n",
      "Rcool : Mpc\n",
      "\n",
      "Rvir : Mpc\n",
      "\n",
      "Sfr : solMass/yr\n",
      "\n",
      "Spin : None\n",
      "\n",
      "StellarMass : 1e10 solMass\n",
      "\n",
      "Type : None\n",
      "\n",
      "Vel : km/s\n",
      "\n",
      "Vmax : km/s\n",
      "\n",
      "Vvir : km/s\n",
      "\n",
      "dt : Myr\n",
      "\n"
     ]
    }
   ],
   "source": [
    "fname_in = \"imapping_testrun/meraxes.hdf5\"\n",
    "units = meraxes.read_units(fname_in)\n",
    "print('\\nunits\\n=====')\n",
    "for k, v in units.items():\n",
    "    if not isinstance(v, dict):\n",
    "        print(k, ':', v.decode('utf-8'))\n",
    "        print()"
   ]
  },
  {
   "cell_type": "code",
   "execution_count": 2,
   "metadata": {},
   "outputs": [],
   "source": [
    "Type = gals[\"Type\"]\n",
    "# All Galaxies = gals\n",
    "# Centrals = gals[Type==0]\n",
    "Cen_gals = gals[Type==0]\n",
    "# Satellites = gals[Type==1]\n",
    "Sat_gals= gals[Type==1]\n",
    "# Orphans = gals[Type==2]\n",
    "Orp_gals = gals[Type==2]"
   ]
  },
  {
   "cell_type": "markdown",
   "metadata": {},
   "source": [
    "# GALAXY POSITIONS"
   ]
  },
  {
   "cell_type": "code",
   "execution_count": 3,
   "metadata": {},
   "outputs": [],
   "source": [
    "# All\n",
    "# using positions [x,y,x]\n",
    "pos_x, pos_y, pos_z, Pos, Pos_new = return_3d_pos(gals)\n",
    "# Centrals\n",
    "Cen_pos_x, Cen_pos_y, Cen_pos_z, Cen_Pos, Cen_Pos_new = return_3d_pos(Cen_gals)\n",
    "# Satellites\n",
    "Sat_pos_x, Sat_pos_y, Sat_pos_z, Sat_Pos, Sat_Pos_new = return_3d_pos(Sat_gals)\n",
    "# Orphans\n",
    "Orp_pos_x, Orp_pos_y, Orp_pos_z, Orp_Pos, Orp_Pos_new = return_3d_pos(Orp_gals)"
   ]
  },
  {
   "cell_type": "markdown",
   "metadata": {},
   "source": [
    "# HI MASS"
   ]
  },
  {
   "cell_type": "markdown",
   "metadata": {},
   "source": [
    "# All\n",
    "HIMass = gals[\"HIMass\"]\n",
    "# Centrals\n",
    "Cen_HIMass = Cen_gals[\"HIMass\"]\n",
    "# Satellites\n",
    "Sat_HIMass = Sat_gals[\"HIMass\"]\n",
    "# Orphans\n",
    "Orp_HIMass = Orp_gals[\"HIMass\"]"
   ]
  },
  {
   "cell_type": "markdown",
   "metadata": {},
   "source": [
    "# HALO MASS"
   ]
  },
  {
   "cell_type": "markdown",
   "metadata": {},
   "source": [
    "# All\n",
    "Mvir = gals[\"Mvir\"]\n",
    "# Centrals\n",
    "Cen_Mvir = Cen_gals[\"Mvir\"]\n",
    "# Satellites\n",
    "Sat_Mvir = Sat_gals[\"Mvir\"]\n",
    "# Orphans\n",
    "Orp_Mvir = Orp_gals[\"Mvir\"]"
   ]
  },
  {
   "cell_type": "markdown",
   "metadata": {},
   "source": [
    "## use this if 1st attempt doesnt work\n",
    "### MAKE 3D array for grid later\n",
    "#HIMass = np.array([HIMass, HIMass, HIMass])\n",
    "#HIMass.T.shape\n",
    "#HIMass_new=HIMass.T # Transpose the HIMass so it is in format (N,D) array"
   ]
  },
  {
   "cell_type": "markdown",
   "metadata": {},
   "source": [
    "## Create 3D grid of galaxy positions\n",
    "### 1. Calculate the edges of the grid\n",
    "### 2. Calculate the deltax\n",
    "    delta x = (Pos/edges)\n",
    "### 3. Get the 3D grid\n",
    "    using histogram 3D"
   ]
  },
  {
   "cell_type": "code",
   "execution_count": 4,
   "metadata": {},
   "outputs": [],
   "source": [
    "# getting bits ready for 3D grid \n",
    "boxsize = 178.57142857142858 # get the box size, this is from sims pops \n",
    "dim = len(Pos) # number of dimensions in 3D space =3\n",
    "boxlength = [boxsize] * dim #get box length for each side of box\n",
    "N = pos_x.shape # = 1648367\n",
    "V = np.product(boxlength)"
   ]
  },
  {
   "cell_type": "markdown",
   "metadata": {},
   "source": [
    "# Create 3D grid for \n",
    "## 1. Galaxy positions ($\\rho_{x}$)"
   ]
  },
  {
   "cell_type": "code",
   "execution_count": 5,
   "metadata": {},
   "outputs": [],
   "source": [
    "# Histogramdd = RETURNS GALAXY COUNTS (rhox) and bins\n",
    "nbins=100 \n",
    "\n",
    "# All\n",
    "rhox, edges = np.histogramdd(Pos_new, bins=nbins)# calculate the 3D grid using histogramdd \n",
    "# Centrals\n",
    "Cen_rhox, Cen_edges = np.histogramdd(Cen_Pos_new, bins=nbins)\n",
    "Sat_rhox, Sat_edges = np.histogramdd(Sat_Pos_new, bins=nbins)\n",
    "Orp_rhox, Orp_edges = np.histogramdd(Orp_Pos_new, bins=nbins)\n"
   ]
  },
  {
   "cell_type": "markdown",
   "metadata": {},
   "source": [
    "## 2. HIMass $\\rho_{HIMass}$"
   ]
  },
  {
   "cell_type": "markdown",
   "metadata": {},
   "source": [
    "rhoHIMass, edgesHIMass = np.histogramdd(Pos_new, bins=nbins, weights=HIMass) #[0].astype(\"float\") # calculate the 3D grid using histogramdd\n",
    "Cen_rhoHIMass, Cen_edgesHIMass = np.histogramdd(Cen_Pos_new, bins=nbins, weights=Cen_HIMass) #[0].astype(\"float\") # calculate the 3D grid using histogramdd\n",
    "Sat_rhoHIMass, Sat_edgesHIMass = np.histogramdd(Sat_Pos_new, bins=nbins, weights=Sat_HIMass) #[0].astype(\"float\") # calculate the 3D grid using histogramdd\n",
    "Orp_rhoHIMass, Orp_edgesHIMass = np.histogramdd(Orp_Pos_new, bins=nbins, weights=Orp_HIMass) #[0].astype(\"float\") # calculate the 3D grid using histogramdd"
   ]
  },
  {
   "cell_type": "markdown",
   "metadata": {},
   "source": [
    "# Calculate the density using the mean of the density field:\n",
    "\n",
    "$\\delta = \\frac{\\rho(x)}{\\bar{\\rho(x)}}$\n",
    "\n",
    "## Galaxies:"
   ]
  },
  {
   "cell_type": "code",
   "execution_count": 6,
   "metadata": {},
   "outputs": [],
   "source": [
    "delta = rhox / np.mean(rhox) - 1 # calcualte the over density\n",
    "Cen_delta = Cen_rhox / np.mean(Cen_rhox) - 1 # calcualte the over density\n",
    "Sat_delta = Sat_rhox / np.mean(Sat_rhox) - 1 # calcualte the over density\n",
    "Orp_delta = Orp_rhox / np.mean(Orp_rhox) - 1 # calcualte the over density"
   ]
  },
  {
   "cell_type": "markdown",
   "metadata": {},
   "source": [
    "## HI Mass "
   ]
  },
  {
   "cell_type": "markdown",
   "metadata": {},
   "source": [
    "delta_HIMass = rhoHIMass / np.mean(rhoHIMass) - 1 # calculate the over density\n",
    "Cen_delta_HIMass = Cen_rhoHIMass / np.mean(Cen_rhoHIMass) - 1 # calculate the over density\n",
    "Sat_delta_HIMass = Sat_rhoHIMass / np.mean(Sat_rhoHIMass) - 1 # calculate the over density\n",
    "Orp_delta_HIMass = Orp_rhoHIMass / np.mean(Orp_rhoHIMass) - 1 # calculate the over density"
   ]
  },
  {
   "cell_type": "markdown",
   "metadata": {},
   "source": [
    "## 3. M VIR (HALO MASS)"
   ]
  },
  {
   "cell_type": "markdown",
   "metadata": {},
   "source": [
    "rhoMvir, edgesMvir = np.histogramdd(Pos_new, bins=nbins, weights=Mvir) #[0].astype(\"float\") # calculate the 3D grid using histogramdd\n",
    "Cen_rhoMvir, Cen_edgesMvir = np.histogramdd(Cen_Pos_new, bins=nbins, weights=Cen_Mvir) #[0].astype(\"float\") # calculate the 3D grid using histogramdd\n",
    "Sat_rhoMvir, Sat_edgesMvir = np.histogramdd(Sat_Pos_new, bins=nbins, weights=Sat_Mvir) #[0].astype(\"float\") # calculate the 3D grid using histogramdd\n",
    "Orp_rhoMvir, Orp_edgesMvir = np.histogramdd(Orp_Pos_new, bins=nbins, weights=Orp_Mvir) #[0].astype(\"float\") # calculate the 3D grid using histogramdd\n"
   ]
  },
  {
   "cell_type": "markdown",
   "metadata": {},
   "source": [
    "delta_Mvir = rhoMvir / np.mean(rhoMvir) - 1 # calculate the over density\n",
    "Cen_delta_Mvir = Cen_rhoMvir / np.mean(Cen_rhoMvir) - 1 # calculate the over density\n",
    "Sat_delta_Mvir = Sat_rhoMvir / np.mean(Sat_rhoMvir) - 1 # calculate the over density\n",
    "Orp_delta_Mvir = Orp_rhoMvir / np.mean(Orp_rhoMvir) - 1 # calculate the over density"
   ]
  },
  {
   "cell_type": "markdown",
   "metadata": {},
   "source": [
    "## Now lets do the Galaxy and HI Mass Power Spectrum \n",
    "### The only difference is that we add weights (HI_Mass is the weights for the PS)"
   ]
  },
  {
   "cell_type": "code",
   "execution_count": 7,
   "metadata": {},
   "outputs": [],
   "source": [
    "# REDSHIFT z=0\n",
    "# GALAXY PS = gal_ps, gal_k\n",
    "# HIMASS PS = HIMass_ps, HIMass_k\n",
    "# All\n",
    "gal_ps, gal_k = get_power(delta,boxlength,remove_shotnoise=False,weights=None)# NO WEIGHTS for GALAXY PS\n",
    "#HIMass_ps, HIMass_k = pbox.get_power(delta_HIMass,boxlength,remove_shotnoise=False)# WEIGHTS = HIMASS for HIMASS PS\n",
    "#Mvir_ps, Mvir_k = pbox.get_power(delta_Mvir,boxlength,remove_shotnoise=False)# WEIGHTS = HIMASS for HIMASS PS\n",
    "\n",
    "# Centrals\n",
    "Cen_gal_ps, Cen_gal_k = get_power(Cen_delta,boxlength,remove_shotnoise=False,weights=None)# NO WEIGHTS for GALAXY PS\n",
    "# Satellites\n",
    "Sat_gal_ps, Sat_gal_k = get_power(Sat_delta,boxlength,remove_shotnoise=False,weights=None)# NO WEIGHTS for GALAXY PS\n",
    "# Orphans\n",
    "Orp_gal_ps, Orp_gal_k = get_power(Orp_delta,boxlength,remove_shotnoise=False,weights=None)# NO WEIGHTS for GALAXY PS"
   ]
  },
  {
   "cell_type": "markdown",
   "metadata": {},
   "source": [
    "# PLOT\n",
    "## GALAXY PS"
   ]
  },
  {
   "cell_type": "code",
   "execution_count": 20,
   "metadata": {},
   "outputs": [
    {
     "data": {
      "image/png": "[encoded data removed]",
      "text/plain": [
       "<Figure size 432x288 with 1 Axes>"
      ]
     },
     "metadata": {
      "needs_background": "light"
     },
     "output_type": "display_data"
    }
   ],
   "source": [
    "fig, ax = plt.subplots(1, 1)\n",
    "label_z = (\"z = \" + redshift_used)\n",
    "#ax.set_ylim([0,3500])\n",
    "#ax.set_xlim([0.1,1])\n",
    "\n",
    "# Labels and Legends\n",
    "label_All = (\"All Galaxies\")\n",
    "label_Cen = (\"Centrals\")\n",
    "label_Sat = (\"Satelittes\")\n",
    "label_Orp = (\"Orphans\")\n",
    "\n",
    "# Plot\n",
    "ax.set_xlabel(r\"$k$ $[Mpc^{-1}]$\")\n",
    "ax.set_ylabel(r\"$P(k)$ $[Mpc^{3}]$\")\n",
    "plt.xscale('log')\n",
    "plt.yscale('log')\n",
    "ax.plot(gal_k,gal_ps,color=\"black\")\n",
    "ax.scatter(gal_k,gal_ps,color=\"black\", label=label_All,marker=\"x\", s=30)\n",
    "ax.plot(Cen_gal_k,Cen_gal_ps,color='darkmagenta')\n",
    "ax.scatter(Cen_gal_k,Cen_gal_ps,color='darkmagenta', label=label_Cen,marker=\"o\", s=20)\n",
    "ax.plot(Sat_gal_k,Sat_gal_ps,color='g')\n",
    "ax.scatter(Sat_gal_k,Sat_gal_ps,color='g', label=label_Sat,marker=\"+\", s=30)\n",
    "ax.plot(Orp_gal_k,Orp_gal_ps,color=\"lightgray\")\n",
    "ax.scatter(Orp_gal_k,Orp_gal_ps,color=\"lightgray\", label=label_Orp,marker=\"^\", s=20)\n",
    "\n",
    "plt.legend(title=(\"Galaxy Power Spectrum\"),\n",
    "           loc='lower left',\n",
    "           fontsize=12)\n",
    "\n",
    "# Name and save plot\n",
    "nbins = str(nbins)\n",
    "name_of_plot=(\"GalaxyPowerSpectrum_All_Cen_Sat_Orp_logged\" + nbins)\n",
    "plt.savefig(\"plots/\" + name_of_plot + \".pdf\")"
   ]
  },
  {
   "cell_type": "markdown",
   "metadata": {},
   "source": [
    "# HI MASS PS"
   ]
  },
  {
   "cell_type": "markdown",
   "metadata": {},
   "source": [
    "fig, ax = plt.subplots(1, 1)\n",
    "label_z = (\"z = \" + redshift_used)\n",
    "#ax.set_ylim([0,3500])\n",
    "#ax.set_xlim([0.1,1])\n",
    "ax.set_xlabel(r\"$k$ $[Mpc^{-1}]$\")\n",
    "ax.set_ylabel(r\"$P_{HI}(k)$ $[Mpc^{3}]$\")\n",
    "plt.xscale('log')\n",
    "plt.yscale('log')\n",
    "ax.plot(bins_field_HI_Mass,p_k_field_HI_Mass,color=\"deepskyblue\", label=label_z)\n",
    "\n",
    "plt.legend(title=(\"DRAGONS\"),\n",
    "           loc='upper right',\n",
    "           fontsize=12)\n",
    "\n",
    "nbins = str(nbins)\n",
    "name_of_plot=(\"PowerSpectrum_HIMass\" + nbins)\n",
    "plt.savefig(\"plots/\" + name_of_plot + \".pdf\")"
   ]
  },
  {
   "cell_type": "code",
   "execution_count": null,
   "metadata": {},
   "outputs": [],
   "source": []
  }
 ],
 "metadata": {
  "kernelspec": {
   "display_name": "Python 3",
   "language": "python",
   "name": "python3"
  },
  "language_info": {
   "codemirror_mode": {
    "name": "ipython",
    "version": 3
   },
   "file_extension": ".py",
   "mimetype": "text/x-python",
   "name": "python",
   "nbconvert_exporter": "python",
   "pygments_lexer": "ipython3",
   "version": "3.8.3"
  }
 },
 "nbformat": 4,
 "nbformat_minor": 4
}
