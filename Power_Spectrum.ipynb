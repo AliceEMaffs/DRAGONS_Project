{
 "cells": [
  {
   "cell_type": "code",
   "execution_count": 1,
   "metadata": {},
   "outputs": [
    {
     "name": "stdout",
     "output_type": "stream",
     "text": [
      "[4.9999988  4.01575197 2.99733298 2.00100053 1.50871276 0.99933302\n",
      " 0.50100094 0.        ]\n",
      "[100 115 134 158 173 192 216 250]\n"
     ]
    }
   ],
   "source": [
    "# Power Spectrum plot\n",
    "import matplotlib.pyplot as plt\n",
    "import numpy as np\n",
    "import powerbox as pbox\n",
    "from Functions import *\n",
    "from mpl_toolkits import mplot3d\n",
    "from powerbox import get_power\n",
    "from scipy import stats\n",
    "import statistics\n",
    "import pandas as pd\n",
    "\n",
    "# Redshift = 0 \n",
    "#get gals, snaps, sims_props\n",
    "snapshot_used_0 = 250 # z = 0\n",
    "gals, sim_props, snaplist = get_gal_catalogue(snapshot_used_0)\n",
    "#ngals = len(gals)\n",
    "#print(ngals)\n",
    "#gals.columns #returns all avaiable properties of galxies\n",
    "#gals[gals.replace([np.inf, -np.inf], np.nan).notnull().all(axis=1)]# remove infs\n",
    "#gals.dropna()# drop nan values\n",
    "\n",
    "# See other available Snaps and Redshifts\n",
    "reds = snaplist[1]\n",
    "snaps = snaplist[0]\n",
    "print(reds)\n",
    "print(snaps)\n",
    "\n",
    "# using positions [x,y,x]\n",
    "pos_x = gals[\"Pos_0\"]\n",
    "pos_y = gals[\"Pos_1\"]\n",
    "pos_z = gals[\"Pos_2\"]\n",
    "\n",
    "snaplist_index_used_0 = list(snaplist[0]).index(snapshot_used_0)# convert to list and find the index of the snap we are using\n",
    "redshift_used_0 = snaplist[1][snaplist_index_used_0] # Get the redshift for corresponding snapshot\n",
    "redshift_used_0 = str(round(redshift_used_0, 1)) # round float to nearest whole int"
   ]
  },
  {
   "cell_type": "code",
   "execution_count": 2,
   "metadata": {},
   "outputs": [
    {
     "data": {
      "text/plain": [
       "Index(['HaloID', 'ID', 'Type', 'CentralGal', 'GhostFlag', 'Len', 'MaxLen',\n",
       "       'Spin', 'Mvir', 'Rvir', 'Vvir', 'Vmax', 'FOFMvir', 'HotGas',\n",
       "       'MetalsHotGas', 'ColdGas', 'MetalsColdGas', 'H2Frac', 'H2Mass',\n",
       "       'HIMass', 'Mcool', 'DiskScaleLength', 'StellarMass', 'GrossStellarMass',\n",
       "       'MetalsStellarMass', 'Sfr', 'EjectedGas', 'MetalsEjectedGas',\n",
       "       'BlackHoleMass', 'Rcool', 'Cos_Inc', 'MergTime', 'MergerStartRadius',\n",
       "       'BaryonFracModifier', 'FOFMvirModifier', 'MvirCrit', 'MergerBurstMass',\n",
       "       'MWMSA', 'Fesc', 'FescWeightedGSM', 'FescBH', 'BHemissivity',\n",
       "       'EffectiveBHM', 'BlackHoleAccretedHotMass', 'BlackHoleAccretedColdMass',\n",
       "       'dt', 'Pos_0', 'Pos_1', 'Pos_2', 'Vel_0', 'Vel_1', 'Vel_2',\n",
       "       'NewStars_0', 'NewStars_1', 'NewStars_2', 'NewStars_3', 'NewStars_4'],\n",
       "      dtype='object')"
      ]
     },
     "execution_count": 2,
     "metadata": {},
     "output_type": "execute_result"
    }
   ],
   "source": [
    "gals.columns #returns all avaiable properties of galxies\n"
   ]
  },
  {
   "cell_type": "code",
   "execution_count": 3,
   "metadata": {},
   "outputs": [
    {
     "name": "stdout",
     "output_type": "stream",
     "text": [
      "1267299\n"
     ]
    }
   ],
   "source": [
    "# REDSHIFT z = 4\n",
    "snapshot_used_4 = 115 # z = 4\n",
    "gals_4, sim_props_4, snaplist = get_gal_catalogue(snapshot_used_4) # get gals\n",
    "ngals_4 = len(gals_4)\n",
    "print(ngals_4)\n",
    "#gals_4.columns #returns all avaiable properties of galxies\n",
    "#gals_4[gals_4.replace([np.inf, -np.inf], np.nan).notnull().all(axis=1)]# remove infs\n",
    "#gals_4.dropna()# drop nan values\n",
    "\n",
    "# using positions [x,y,x]\n",
    "pos_x_4 = gals_4[\"Pos_0\"]\n",
    "pos_y_4 = gals_4[\"Pos_1\"]\n",
    "pos_z_4 = gals_4[\"Pos_2\"]\n",
    "\n",
    "snaplist_index_used_4 = list(snaplist[0]).index(snapshot_used_4)# convert to list and find the index of the snap we are using\n",
    "redshift_used_4 = snaplist[1][snaplist_index_used_4] # Get the redshift for corresponding snapshot\n",
    "redshift_used_4 = str(round(redshift_used_4, 1)) # round float to nearest whole int\n"
   ]
  },
  {
   "cell_type": "markdown",
   "metadata": {},
   "source": [
    "## This is my attempt at PS with making 1D histograms : REDUNDANT"
   ]
  },
  {
   "cell_type": "code",
   "execution_count": 4,
   "metadata": {},
   "outputs": [
    {
     "name": "stdout",
     "output_type": "stream",
     "text": [
      "N_gals_x: [13725 12922 13933 14112 13712 14375 13525 13338 14345 14308 14943 13481\n",
      " 13749 14629 14165 14131 13962 14238 14225 14571 12607 12072 11778 11457\n",
      " 12465 12135 13243 14082 15834 15976 15671 16189 18325 17654 16515 14724\n",
      " 14261 14645 14772 14814 14977 15047 14747 13850 14332 15009 16353 18268\n",
      " 18412 19663 20146 18433 18433 20126 22485 20267 20003 19511 19243 19890\n",
      " 20146 20935 21436 22668 23169 22463 21415 20905 20601 19870 19374 19128\n",
      " 20003 22900 22415 23013 22696 23523 20452 18450 17454 16880 16196 16237\n",
      " 17758 17509 15856 15394 14738 14556 13336 12075 12933 13553 14145 12865\n",
      " 12778 13116 12772 13851]\n",
      "N_gals_y: [17297 16718 16551 18916 20202 19616 16427 15125 14199 13325 13747 13878\n",
      " 13325 13195 13665 13577 14353 13686 13062 13194 13483 12762 13420 13002\n",
      " 13612 15271 15505 16482 18167 15236 14093 13718 13820 14456 15394 16797\n",
      " 17414 16488 15044 14305 15335 15649 16925 17560 17386 18424 20440 20198\n",
      " 17798 17558 20835 25140 24457 23279 20797 18354 17534 18503 17786 16860\n",
      " 15476 14635 14465 15855 16796 17540 15773 15950 15982 16807 17264 16356\n",
      " 15370 15598 17681 16313 15636 16157 15040 14693 16345 16609 16714 17322\n",
      " 17991 19633 17348 15318 15777 16221 18028 15930 14849 15296 16766 18198\n",
      " 19474 20916 19041 17859]\n",
      "N_gals_z: [14632 14712 14555 13881 12283 12289 11539 11897 12821 14199 14148 14157\n",
      " 15383 15509 14220 15397 15188 14793 15668 16011 16016 14787 15297 15520\n",
      " 13679 14615 15530 16076 15038 18268 15822 15382 15673 14934 14764 15865\n",
      " 15941 15335 14370 15063 15451 16539 15950 14805 15977 17166 18192 19250\n",
      " 17829 17415 16224 15926 16631 17094 16141 16748 17526 20299 20760 20553\n",
      " 19634 20576 21445 27682 25822 21769 21320 22605 21516 18559 20181 23183\n",
      " 23862 20135 17771 17293 15982 15619 15689 14916 14747 15210 14548 14562\n",
      " 15298 15698 17114 15057 14544 14683 15749 15385 14547 15099 15541 15223\n",
      " 15250 15145 15395 16280]\n",
      "total: [45654 44352 45039 46909 46197 46280 41491 40360 41365 41832 42838 41516\n",
      " 42457 43333 42050 43105 43503 42717 42955 43776 42106 39621 40495 39979\n",
      " 39756 42021 44278 46640 49039 49480 45586 45289 47818 47044 46673 47386\n",
      " 47616 46468 44186 44182 45763 47235 47622 46215 47695 50599 54985 57716\n",
      " 54039 54636 57205 59499 59521 60499 59423 55369 55063 58313 57789 57303\n",
      " 55256 56146 57346 66205 65787 61772 58508 59460 58099 55236 56819 58667\n",
      " 59235 58633 57867 56619 54314 55299 51181 48059 48546 48699 47458 48121\n",
      " 51047 52840 50318 45769 45059 45460 47113 43390 42329 43948 46452 46286\n",
      " 47502 49177 47208 47990]\n",
      "total shape: (100,)\n",
      "average: [15218.         14784.         15013.         15636.33333333\n",
      " 15399.         15426.66666667 13830.33333333 13453.33333333\n",
      " 13788.33333333 13944.         14279.33333333 13838.66666667\n",
      " 14152.33333333 14444.33333333 14016.66666667 14368.33333333\n",
      " 14501.         14239.         14318.33333333 14592.\n",
      " 14035.33333333 13207.         13498.33333333 13326.33333333\n",
      " 13252.         14007.         14759.33333333 15546.66666667\n",
      " 16346.33333333 16493.33333333 15195.33333333 15096.33333333\n",
      " 15939.33333333 15681.33333333 15557.66666667 15795.33333333\n",
      " 15872.         15489.33333333 14728.66666667 14727.33333333\n",
      " 15254.33333333 15745.         15874.         15405.\n",
      " 15898.33333333 16866.33333333 18328.33333333 19238.66666667\n",
      " 18013.         18212.         19068.33333333 19833.\n",
      " 19840.33333333 20166.33333333 19807.66666667 18456.33333333\n",
      " 18354.33333333 19437.66666667 19263.         19101.\n",
      " 18418.66666667 18715.33333333 19115.33333333 22068.33333333\n",
      " 21929.         20590.66666667 19502.66666667 19820.\n",
      " 19366.33333333 18412.         18939.66666667 19555.66666667\n",
      " 19745.         19544.33333333 19289.         18873.\n",
      " 18104.66666667 18433.         17060.33333333 16019.66666667\n",
      " 16182.         16233.         15819.33333333 16040.33333333\n",
      " 17015.66666667 17613.33333333 16772.66666667 15256.33333333\n",
      " 15019.66666667 15153.33333333 15704.33333333 14463.33333333\n",
      " 14109.66666667 14649.33333333 15484.         15428.66666667\n",
      " 15834.         16392.33333333 15736.         15996.66666667]\n",
      "average shape: (100,)\n"
     ]
    },
    {
     "data": {
      "text/plain": [
       "array([0.0418879 , 0.12566371, 0.18849556, 0.25132741, 0.31415927,\n",
       "       0.37699112, 0.43982297, 0.50265482, 0.56548668, 0.65973446,\n",
       "       0.75398224, 0.81681409, 0.87964594, 0.9424778 , 1.00530965,\n",
       "       1.0681415 , 1.13097336, 1.19380521, 1.28805299, 1.38230077,\n",
       "       1.44513262, 1.50796447, 1.57079633, 1.63362818, 1.69646003,\n",
       "       1.75929189, 1.82212374, 1.91637152, 2.0106193 , 2.07345115,\n",
       "       2.136283  , 2.19911486, 2.26194671, 2.32477856, 2.38761042,\n",
       "       2.45044227, 2.54469005, 2.63893783, 2.70176968, 2.76460154,\n",
       "       2.82743339, 2.89026524, 2.95309709, 3.01592895, 3.0787608 ])"
      ]
     },
     "execution_count": 4,
     "metadata": {},
     "output_type": "execute_result"
    }
   ],
   "source": [
    "nbins = 100\n",
    "\n",
    "# REDSHIFT 0\n",
    "\n",
    "#(N_gals_x, N_gals_y, N_gals_z), (bx, by, bz) = np.histogramdd( (pos_x, pos_y, pos_z), bins=(nbins, nbins, nbins) ) # 3D hist\n",
    "N_gals_x, bins_x = np.histogram(pos_x,bins=nbins)\n",
    "N_gals_y, bins_y = np.histogram(pos_y,bins=nbins)\n",
    "N_gals_z, bins_z = np.histogram(pos_z,bins=nbins)\n",
    "print('N_gals_x:', N_gals_x)\n",
    "print('N_gals_y:', N_gals_y)\n",
    "print('N_gals_z:', N_gals_z)\n",
    "\n",
    "total = (N_gals_x + N_gals_y + N_gals_z)\n",
    "average = (N_gals_x + N_gals_y + N_gals_z) / 3\n",
    "print('total:', total)\n",
    "print('total shape:', total.shape)\n",
    "print('average:', average)\n",
    "print('average shape:', average.shape)\n",
    "\n",
    "delta_x = (N_gals_x - average)/average\n",
    "p_k_field, bins_field = get_power(delta_x, nbins)\n",
    "p_k_field\n",
    "bins_field"
   ]
  },
  {
   "cell_type": "code",
   "execution_count": 5,
   "metadata": {},
   "outputs": [
    {
     "name": "stdout",
     "output_type": "stream",
     "text": [
      "N_gals_x_4: [10791 11215 10833 10941 11577 11389 10827 11136 11241 11249 11307 10852\n",
      " 10813 11663 11300 10848 10372 11003 11086 11503 11069 10650 10526 10478\n",
      " 10544 11102 12067 12459 12351 12532 12542 13129 13299 11317 11541 11154\n",
      " 11740 11732 11646 11257 11103 12206 12162 13222 12514 12407 12946 13029\n",
      " 13513 13265 13950 14844 14954 15256 15211 15137 14694 14530 13930 13217\n",
      " 14354 14693 14419 15707 16123 15003 14887 15570 14736 14784 14563 15294\n",
      " 14638 14743 14436 14475 13686 14638 15288 14200 14524 13627 12629 12778\n",
      " 13075 13545 13457 12290 12802 12315 11530 11993 11663 11343 11378 11350\n",
      " 11318 11266 10311 10697]\n",
      "N_gals_y_4: [14961 14795 14424 14520 14004 13305 13881 13458 12647 11965 11109 10565\n",
      " 10301 10182 10497 10369 10908 11567 11442 10766 10266 10345 11339 12242\n",
      " 12466 12103 12215 11533 11866 11981 12835 13299 12955 12491 11706 12491\n",
      " 11974 11775 11757 11759 12567 12525 12561 12931 13285 13998 13547 15137\n",
      " 15077 14783 14863 15302 15428 13882 14192 14038 13375 13678 13741 13446\n",
      " 12919 12348 11576 11575 12694 13970 13676 12284 12205 12555 13300 12064\n",
      " 12608 12638 12638 12021 12308 12265 11998 12157 12248 12483 11991 12476\n",
      " 13008 13033 13419 13537 13260 12322 12610 12985 12629 11823 11853 12956\n",
      " 12807 12535 12546 13559]\n",
      "N_gals_z_4: [12248 11952 11821 11255 10763 10920  9987  9906 10401 10450 11399 11851\n",
      " 11985 11940 11832 11908 12620 11717 11598 11896 11478 11554 11990 12825\n",
      " 11693 11769 12247 12624 12545 12911 12590 12019 12811 12362 12356 11747\n",
      " 11560 11378 11304 12024 12106 11997 11910 11936 12465 13033 13425 13094\n",
      " 12028 12555 12763 13056 13579 13895 14765 14204 13570 14362 15099 14900\n",
      " 14867 15771 15373 13953 13523 13211 14560 16006 15692 15542 15504 16783\n",
      " 15868 15039 14244 14492 13742 13358 13137 12155 12297 11756 11817 12006\n",
      " 12118 11946 11660 11381 11605 11367 11785 11987 12535 12908 12745 11619\n",
      " 11634 11987 11877 12471]\n",
      "total: [45654 44352 45039 46909 46197 46280 41491 40360 41365 41832 42838 41516\n",
      " 42457 43333 42050 43105 43503 42717 42955 43776 42106 39621 40495 39979\n",
      " 39756 42021 44278 46640 49039 49480 45586 45289 47818 47044 46673 47386\n",
      " 47616 46468 44186 44182 45763 47235 47622 46215 47695 50599 54985 57716\n",
      " 54039 54636 57205 59499 59521 60499 59423 55369 55063 58313 57789 57303\n",
      " 55256 56146 57346 66205 65787 61772 58508 59460 58099 55236 56819 58667\n",
      " 59235 58633 57867 56619 54314 55299 51181 48059 48546 48699 47458 48121\n",
      " 51047 52840 50318 45769 45059 45460 47113 43390 42329 43948 46452 46286\n",
      " 47502 49177 47208 47990]\n",
      "total shape: (100,)\n",
      "average: [15218.         14784.         15013.         15636.33333333\n",
      " 15399.         15426.66666667 13830.33333333 13453.33333333\n",
      " 13788.33333333 13944.         14279.33333333 13838.66666667\n",
      " 14152.33333333 14444.33333333 14016.66666667 14368.33333333\n",
      " 14501.         14239.         14318.33333333 14592.\n",
      " 14035.33333333 13207.         13498.33333333 13326.33333333\n",
      " 13252.         14007.         14759.33333333 15546.66666667\n",
      " 16346.33333333 16493.33333333 15195.33333333 15096.33333333\n",
      " 15939.33333333 15681.33333333 15557.66666667 15795.33333333\n",
      " 15872.         15489.33333333 14728.66666667 14727.33333333\n",
      " 15254.33333333 15745.         15874.         15405.\n",
      " 15898.33333333 16866.33333333 18328.33333333 19238.66666667\n",
      " 18013.         18212.         19068.33333333 19833.\n",
      " 19840.33333333 20166.33333333 19807.66666667 18456.33333333\n",
      " 18354.33333333 19437.66666667 19263.         19101.\n",
      " 18418.66666667 18715.33333333 19115.33333333 22068.33333333\n",
      " 21929.         20590.66666667 19502.66666667 19820.\n",
      " 19366.33333333 18412.         18939.66666667 19555.66666667\n",
      " 19745.         19544.33333333 19289.         18873.\n",
      " 18104.66666667 18433.         17060.33333333 16019.66666667\n",
      " 16182.         16233.         15819.33333333 16040.33333333\n",
      " 17015.66666667 17613.33333333 16772.66666667 15256.33333333\n",
      " 15019.66666667 15153.33333333 15704.33333333 14463.33333333\n",
      " 14109.66666667 14649.33333333 15484.         15428.66666667\n",
      " 15834.         16392.33333333 15736.         15996.66666667]\n",
      "average shape: (100,)\n"
     ]
    },
    {
     "data": {
      "text/plain": [
       "array([0.0418879 , 0.12566371, 0.18849556, 0.25132741, 0.31415927,\n",
       "       0.37699112, 0.43982297, 0.50265482, 0.56548668, 0.65973446,\n",
       "       0.75398224, 0.81681409, 0.87964594, 0.9424778 , 1.00530965,\n",
       "       1.0681415 , 1.13097336, 1.19380521, 1.28805299, 1.38230077,\n",
       "       1.44513262, 1.50796447, 1.57079633, 1.63362818, 1.69646003,\n",
       "       1.75929189, 1.82212374, 1.91637152, 2.0106193 , 2.07345115,\n",
       "       2.136283  , 2.19911486, 2.26194671, 2.32477856, 2.38761042,\n",
       "       2.45044227, 2.54469005, 2.63893783, 2.70176968, 2.76460154,\n",
       "       2.82743339, 2.89026524, 2.95309709, 3.01592895, 3.0787608 ])"
      ]
     },
     "execution_count": 5,
     "metadata": {},
     "output_type": "execute_result"
    }
   ],
   "source": [
    "# REDSHIFT 4\n",
    "\n",
    "N_gals_x_4, bins_x_4 = np.histogram(pos_x_4,bins=nbins)\n",
    "N_gals_y_4, bins_y_4 = np.histogram(pos_y_4,bins=nbins)\n",
    "N_gals_z_4, bins_z_4 = np.histogram(pos_z_4,bins=nbins)\n",
    "print('N_gals_x_4:', N_gals_x_4)\n",
    "print('N_gals_y_4:', N_gals_y_4)\n",
    "print('N_gals_z_4:', N_gals_z_4)\n",
    "\n",
    "total_4 = (N_gals_x_4 + N_gals_y_4 + N_gals_z_4)\n",
    "average_4 = total_4 / 3\n",
    "print('total:', total)\n",
    "print('total shape:', total.shape)\n",
    "print('average:', average)\n",
    "print('average shape:', average.shape)\n",
    "\n",
    "delta_x_4 = (N_gals_x_4 - average_4)/average_4\n",
    "p_k_field_4, bins_field_4 = get_power(delta_x_4, nbins)\n",
    "p_k_field_4\n",
    "bins_field_4"
   ]
  },
  {
   "cell_type": "code",
   "execution_count": 6,
   "metadata": {},
   "outputs": [
    {
     "data": {
      "image/png": "[encoded data removed]",
      "text/plain": [
       "<Figure size 432x288 with 1 Axes>"
      ]
     },
     "metadata": {
      "needs_background": "light"
     },
     "output_type": "display_data"
    }
   ],
   "source": [
    "fig, ax = plt.subplots(1, 1)\n",
    "label_z_0 = (\"z = \" + redshift_used_0)\n",
    "label_z_4 = (\"z = \" + redshift_used_4)\n",
    "ax.set_xlabel(r\"$k$ $[Mpc^{-1}]$\")\n",
    "ax.set_ylabel(r\"$P_{HI}(k)$ $[Mpc^{3}]$\")\n",
    "ax.plot(bins_field,p_k_field,color=\"black\", label=label_z_0)\n",
    "ax.plot(bins_field_4,p_k_field_4,color=\"mediumvioletred\", label=label_z_4)\n",
    "\n",
    "plt.legend(title=(\"DRAGONS\"),\n",
    "           loc='upper right',\n",
    "           fontsize=12)\n",
    "\n",
    "name_of_plot=(\"PowerSpectrum_test\")\n",
    "plt.savefig(\"plots/\" + name_of_plot + \".pdf\")"
   ]
  },
  {
   "cell_type": "markdown",
   "metadata": {},
   "source": [
    "# Better attempt : 3D Histogram to calculate Power Spectrum"
   ]
  },
  {
   "cell_type": "code",
   "execution_count": 7,
   "metadata": {},
   "outputs": [
    {
     "data": {
      "text/plain": [
       "numpy.ndarray"
      ]
     },
     "execution_count": 7,
     "metadata": {},
     "output_type": "execute_result"
    }
   ],
   "source": [
    "# TRY USING 3D HISTOGRAM \n",
    "N_gals_test, (bx, by, bz) = np.histogramdd( (pos_x, pos_y, pos_z), bins=(nbins, nbins, nbins) ) # 3D hist\n",
    "\n",
    "#print('N_gals_x_4:', N_gals_x_4)\n",
    "#print('bx:', bx)\n",
    "#print('by:', by)\n",
    "#print('bz:', bz)\n",
    "\n",
    "type(N_gals_test)"
   ]
  },
  {
   "cell_type": "markdown",
   "metadata": {},
   "source": [
    "## Do calculations (mean and total)\n",
    "Calculate the average number of galaxies (mean)\n",
    "And the num of galaxies (which should jsut be the total number in the sample 1648367.0)"
   ]
  },
  {
   "cell_type": "code",
   "execution_count": 8,
   "metadata": {},
   "outputs": [
    {
     "data": {
      "text/plain": [
       "1648367.0"
      ]
     },
     "execution_count": 8,
     "metadata": {},
     "output_type": "execute_result"
    }
   ],
   "source": [
    "\n",
    "av_Ngals = np.mean(N_gals_test)\n",
    "av_Ngals\n",
    "\n",
    "sum_Ngals = np.sum(N_gals_test)\n",
    "sum_Ngals"
   ]
  },
  {
   "cell_type": "markdown",
   "metadata": {},
   "source": [
    "## Calculate the density and the PS"
   ]
  },
  {
   "cell_type": "code",
   "execution_count": 9,
   "metadata": {},
   "outputs": [
    {
     "data": {
      "text/plain": [
       "array([0.08570025, 0.19571386, 0.31121996, 0.42957126, 0.54972054,\n",
       "       0.66914689, 0.78930236, 0.9111279 , 1.03204457, 1.15137186,\n",
       "       1.27071296, 1.39179666, 1.51189835, 1.63217784, 1.75413805,\n",
       "       1.87556738, 1.99716324, 2.11740369, 2.23816172, 2.35986004,\n",
       "       2.47967617, 2.59985151, 2.72137827, 2.84287587, 2.96353672,\n",
       "       3.08381029, 3.20371016, 3.32454181, 3.44556685, 3.56673295,\n",
       "       3.6871272 , 3.80712744, 3.92770646, 4.04924419, 4.17025687,\n",
       "       4.28905027, 4.40930403, 4.53201043, 4.65164424, 4.77167236,\n",
       "       4.89253007, 5.008299  , 5.12759527, 5.25183011, 5.35079035])"
      ]
     },
     "execution_count": 9,
     "metadata": {},
     "output_type": "execute_result"
    }
   ],
   "source": [
    "delta_x_test = (N_gals_test - av_Ngals)/av_Ngals\n",
    "p_k_field_test, bins_field_test = get_power(delta_x_test, nbins)\n",
    "p_k_field_test\n",
    "bins_field_test"
   ]
  },
  {
   "cell_type": "code",
   "execution_count": 10,
   "metadata": {},
   "outputs": [
    {
     "data": {
      "text/plain": [
       "numpy.ndarray"
      ]
     },
     "execution_count": 10,
     "metadata": {},
     "output_type": "execute_result"
    }
   ],
   "source": [
    "type(delta_x_test)"
   ]
  },
  {
   "cell_type": "markdown",
   "metadata": {},
   "source": [
    "# PLOT"
   ]
  },
  {
   "cell_type": "code",
   "execution_count": 11,
   "metadata": {},
   "outputs": [
    {
     "data": {
      "image/png": "[encoded data removed]",
      "text/plain": [
       "<Figure size 432x288 with 1 Axes>"
      ]
     },
     "metadata": {
      "needs_background": "light"
     },
     "output_type": "display_data"
    }
   ],
   "source": [
    "fig, ax = plt.subplots(1, 1)\n",
    "label_z_0 = (\"z = \" + redshift_used_0)\n",
    "label_z_4 = (\"z = \" + redshift_used_4)\n",
    "ax.set_xlabel(r\"$k$ $[Mpc^{-1}]$\")\n",
    "ax.set_ylabel(r\"$P_{HI}(k)$ $[Mpc^{3}]$\")\n",
    "ax.plot(bins_field_test,p_k_field_test,color=\"black\", label=label_z_0)\n",
    "\n",
    "plt.legend(title=(\"DRAGONS\"),\n",
    "           loc='upper right',\n",
    "           fontsize=12)\n",
    "\n",
    "name_of_plot=(\"PowerSpectrum_test\")\n",
    "plt.savefig(\"plots/\" + name_of_plot + \".pdf\")"
   ]
  },
  {
   "cell_type": "code",
   "execution_count": 12,
   "metadata": {},
   "outputs": [],
   "source": [
    "delta_x = [[pos_x,pos_y,pos_x], 3]\n"
   ]
  },
  {
   "cell_type": "code",
   "execution_count": null,
   "metadata": {},
   "outputs": [],
   "source": []
  }
 ],
 "metadata": {
  "kernelspec": {
   "display_name": "Python 3",
   "language": "python",
   "name": "python3"
  },
  "language_info": {
   "codemirror_mode": {
    "name": "ipython",
    "version": 3
   },
   "file_extension": ".py",
   "mimetype": "text/x-python",
   "name": "python",
   "nbconvert_exporter": "python",
   "pygments_lexer": "ipython3",
   "version": "3.8.3"
  }
 },
 "nbformat": 4,
 "nbformat_minor": 4
}
