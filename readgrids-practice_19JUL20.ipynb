{
 "cells": [
  {
   "cell_type": "code",
   "execution_count": null,
   "metadata": {},
   "outputs": [],
   "source": [
    "import numpy as np\n",
    "import xarray as xa\n",
    "import h5py as h5\n",
    "\n",
    "PATH_IN = \"../imapping_testrun/HIMass_grids.h5\"\n",
    "SNAPSHOT = 250  # z=0\n",
    "\n",
    "with h5.File(PATH_IN, \"r\") as fp:\n",
    "    ds = fp[f\"Snap{SNAPSHOT:03d}\"]\n",
    "    box_size = ds.attrs[\"box_size\"][:]\n",
    "    dim = ds.attrs[\"dim\"][:]\n",
    "    grid = xa.DataArray(\n",
    "        ds[:],\n",
    "        coords=[np.linspace(0, bs, d) for bs, d in zip(box_size, dim)],\n",
    "        dims=list(\"xyz\"),\n",
    "        name=\"HIMass\",\n",
    "    )\n",
    "\n",
    "grid = grid.where(np.isfinite(grid), np.nan)"
   ]
  },
  {
   "cell_type": "code",
   "execution_count": null,
   "metadata": {},
   "outputs": [],
   "source": []
  },
  {
   "cell_type": "code",
   "execution_count": null,
   "metadata": {},
   "outputs": [],
   "source": []
  }
 ],
 "metadata": {
  "kernelspec": {
   "display_name": "Python 3",
   "language": "python",
   "name": "python3"
  },
  "language_info": {
   "codemirror_mode": {
    "name": "ipython",
    "version": 3
   },
   "file_extension": ".py",
   "mimetype": "text/x-python",
   "name": "python",
   "nbconvert_exporter": "python",
   "pygments_lexer": "ipython3",
   "version": "3.7.6"
  }
 },
 "nbformat": 4,
 "nbformat_minor": 4
}
