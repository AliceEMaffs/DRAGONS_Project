{
 "cells": [
  {
   "cell_type": "code",
   "execution_count": 1,
   "metadata": {
    "scrolled": true
   },
   "outputs": [],
   "source": [
    "#!/usr/bin/env python\n",
    "\"\"\"Takes random sample of 50 galaxies from gals and plots:\n",
    "\n",
    "* Positions (x,y only) of Centrals, Satelittes and Orphans\n",
    "\n",
    "\"\"\"\n",
    "\n",
    "# First off, import the packages we need\n",
    "import numpy as np  # work horse package for numerical work in python\n",
    "import matplotlib.pyplot as plt  # plotting library\n",
    "from dragons import meraxes, munge\n",
    "import random\n",
    "import sys\n",
    "from Functions import *\n",
    "\n",
    "# Use funciton 'Random_Sample_Gals' to generate a random sample of galaxies for our catalogue\n",
    "snapshot_used = 250\n",
    "gals, sim_props, snaplist = get_gal_catalogue(snapshot_used)\n",
    "selected_gal_properties = gals.sample(n=100)\n",
    "#Randomly select n rows.\n",
    "#print(selected_gal_properties)"
   ]
  },
  {
   "cell_type": "code",
   "execution_count": 2,
   "metadata": {},
   "outputs": [
    {
     "name": "stdout",
     "output_type": "stream",
     "text": [
      "Type_randsam =  648750     2\n",
      "873166     0\n",
      "687363     0\n",
      "498580     1\n",
      "1264664    0\n",
      "          ..\n",
      "84957      2\n",
      "1370580    0\n",
      "1102513    0\n",
      "354247     0\n",
      "45148      2\n",
      "Name: Type, Length: 100, dtype: int32\n"
     ]
    }
   ],
   "source": [
    "# Get the galaxy properties from the random sample of galaxy IDs\n",
    "HIMass_randsam = selected_gal_properties[\"HIMass\"]# Hydrogen Mass\n",
    "Type_randsam = selected_gal_properties[\"Type\"]# Galaxy type (Central, Satellite, Orphan)\n",
    "HaloID_randsam = selected_gal_properties[\"HaloID\"]# Halo ID\n",
    "HaloMass_randsam = selected_gal_properties[\"Mvir\"]# Halo Mass\n",
    "StellarMass_randsam = selected_gal_properties[\"StellarMass\"]# Stellar Mass\n",
    "Sfr_randsam = selected_gal_properties[\"Sfr\"]# Star formation rate\n",
    "Pos_x = selected_gal_properties[\"Pos_0\"] # x coord of galaxy position\n",
    "Pos_y = selected_gal_properties[\"Pos_1\"] # y coord of galaxy position\n",
    "\n",
    "print('Type_randsam = ', Type_randsam)"
   ]
  },
  {
   "cell_type": "code",
   "execution_count": 3,
   "metadata": {},
   "outputs": [
    {
     "name": "stdout",
     "output_type": "stream",
     "text": [
      "Type_min = 0\n",
      "Type_max = 2\n",
      "Type_rand = 648750     2\n",
      "873166     0\n",
      "687363     0\n",
      "498580     1\n",
      "1264664    0\n",
      "          ..\n",
      "84957      2\n",
      "1370580    0\n",
      "1102513    0\n",
      "354247     0\n",
      "45148      2\n",
      "Name: Type, Length: 100, dtype: int32\n",
      "Type_len = 100\n"
     ]
    }
   ],
   "source": [
    "# find the minimum and maximum values in each array (apart from Pos, as a list of arrays)\n",
    "\n",
    "Type_min = min(Type_randsam)\n",
    "Type_max = max(Type_randsam)\n",
    "\n",
    "HIMass_min = min(HIMass_randsam)\n",
    "HIMass_max = max(HIMass_randsam)\n",
    "\n",
    "HaloID_min = min(HaloID_randsam)\n",
    "HaloID_max = max(HaloID_randsam)\n",
    "\n",
    "HaloMass_min = min(HaloMass_randsam)\n",
    "HaloMass_max = max(HaloMass_randsam)\n",
    "\n",
    "StellarMass_min = min(StellarMass_randsam)\n",
    "StellarMass_max = max(StellarMass_randsam)\n",
    "\n",
    "Sfr_min = min(Sfr_randsam)\n",
    "Sfr_max = max(Sfr_randsam)\n",
    "\n",
    "# Calc length of array (should be 50) or num. defined when selected Galaxy IDs\n",
    "Type_len = len(Type_randsam)\n",
    "\n",
    "# TEST\n",
    "print('Type_min =', Type_min)\n",
    "print('Type_max =', Type_max)\n",
    "print('Type_rand =', Type_randsam)\n",
    "print('Type_len =', Type_len)\n"
   ]
  },
  {
   "cell_type": "code",
   "execution_count": 4,
   "metadata": {},
   "outputs": [],
   "source": [
    "# Print Samples to a txt file\n",
    "\n",
    "orig_stdout = sys.stdout\n",
    "sys.stdout = open(\"Random_Sample_Galaxies.txt\",\"w+\")\n",
    "\n",
    "print('\\n***************************************')\n",
    "print('All the minimum and maximum information from catalogue variables\\n')\n",
    "print('\\n\\t\\tMinimum value:\\t\\tMaximum value:')\n",
    "print('\\nType:\\t\\t', Type_min, '\\t\\t\\t', Type_max)\n",
    "print('\\nHIMass:\\t\\t', HIMass_min, '\\t\\t\\t', HIMass_max)\n",
    "print('\\nHaloID:\\t\\t', HaloID_min, '\\t\\t\\t', HaloID_max)\n",
    "print('\\nHaloMass:\\t', HaloMass_min, '\\t\\t', HaloMass_max)\n",
    "print('\\nStellarMass:\\t', StellarMass_min, '\\t\\t\\t', StellarMass_max)\n",
    "print('\\nSfr:\\t\\t', Sfr_min, '\\t\\t\\t', Sfr_max)\n",
    "\n",
    "# Print the information to see what we are looking at \n",
    "#print('\\nType variable LENGTH : ', type_len)\n",
    "print('\\n***************************************')\n",
    "print('\\nAll the information from random Samples\\n')\n",
    "print('Type Random Sample : \\n', Type_randsam)\n",
    "\n",
    "#print('\\nHIMass variable LENGTH : ', HIMass_len)\n",
    "print('\\nHIMass Random Sample : \\n', HIMass_randsam)\n",
    "\n",
    "#print('\\nHaloID variable LENGTH : ', HaloID_len)\n",
    "print('\\nHaloID Random Sample : \\n', HaloID_randsam)\n",
    "\n",
    "#print('\\nHaloMass variable LENGTH : ', HaloMass_len)\n",
    "print('\\nHaloMass Random Sample : \\n', HaloMass_randsam)\n",
    "\n",
    "#print('\\nStellarMass variable LENGTH : ', StellarMass_len)\n",
    "print('\\nStellarMass Random Sample : \\n', StellarMass_randsam)\n",
    "\n",
    "#print('\\nSfr variable LENGTH : ', Sfr_len)\n",
    "print('\\nSfr Random Sample : \\n', Sfr_randsam)\n",
    "\n",
    "#print('\\nPos variable LENGTH : ', Pos_len)\n",
    "#print('\\nPos Random Sample : ', Pos_randsam) #uncomment if needed but large sample so clogs output\n",
    "\n",
    "sys.stdout.close()\n",
    "sys.stdout=orig_stdout "
   ]
  },
  {
   "cell_type": "code",
   "execution_count": 5,
   "metadata": {},
   "outputs": [
    {
     "data": {
      "image/png": "[encoded data removed]",
      "text/plain": [
       "<Figure size 432x288 with 1 Axes>"
      ]
     },
     "metadata": {
      "needs_background": "light"
     },
     "output_type": "display_data"
    }
   ],
   "source": [
    "fig, ax = plt.subplots(1, 1)\n",
    "# giving a title to my graph \n",
    "#plt.title('2D Plot of Galaxy Positions for 100 randomly\\nsampled Galaxies in redshift 0') \n",
    "  \n",
    "# x axis values \n",
    "x = Pos_x\n",
    "# corresponding y axis values \n",
    "y = Pos_y\n",
    "  \n",
    "# plotting the points\n",
    "plt.scatter(x, y, color= \"darkorange\", marker= \"*\", s=20)   \n",
    "\n",
    "# naming the x axis \n",
    "plt.xlabel('Position in x [Mpc]') \n",
    "# naming the y axis \n",
    "plt.ylabel('Position in y [Mpc]') \n",
    "  \n",
    "\n",
    "# function to show the plot in a clean format\n",
    "plt.tight_layout()\n",
    "# save the plot \n",
    "\n",
    "name_of_plot=(\"2D_Galaxy_Positions_50_randsam_z_0\")\n",
    "plt.savefig(\"plots/\" + name_of_plot + \".pdf\")\n",
    "\n"
   ]
  },
  {
   "cell_type": "code",
   "execution_count": 7,
   "metadata": {},
   "outputs": [
    {
     "name": "stdout",
     "output_type": "stream",
     "text": [
      "Type_rand = 648750     2\n",
      "873166     0\n",
      "687363     0\n",
      "498580     1\n",
      "1264664    0\n",
      "          ..\n",
      "84957      2\n",
      "1370580    0\n",
      "1102513    0\n",
      "354247     0\n",
      "45148      2\n",
      "Name: Type, Length: 100, dtype: int32\n",
      "Num Centrals =  58\n",
      "Num Satellites =  18\n",
      "Num Orphans =  24\n"
     ]
    },
    {
     "data": {
      "image/png": "[encoded data removed]",
      "text/plain": [
       "<Figure size 432x288 with 1 Axes>"
      ]
     },
     "metadata": {
      "needs_background": "light"
     },
     "output_type": "display_data"
    }
   ],
   "source": [
    "# Now lets try and separately plot the different types of galaxies\n",
    "# Central (0), Satelitte (1) and Orphan (2)\n",
    "fig, ax = plt.subplots(1, 1)\n",
    "\n",
    "\n",
    "# plotting the points\n",
    "centrals_plt = plt.scatter(x[Type_randsam==0], y[Type_randsam==0], color= \"darkorange\", marker= \"*\", s=30)  \n",
    "satellites_plt = plt.scatter(x[Type_randsam==1], y[Type_randsam==1], color= \"cyan\", marker= \"*\", s=30)  \n",
    "orphans_plt = plt.scatter(x[Type_randsam==2], y[Type_randsam==2], color= \"black\", marker= \"*\", s=30)  \n",
    "\n",
    "plt.legend((centrals_plt, satellites_plt, orphans_plt),\n",
    "           ('Centrals', 'Satellites', 'Orphans'),\n",
    "           scatterpoints=1,\n",
    "           loc='lower left',\n",
    "           ncol=3,\n",
    "           fontsize=8)\n",
    "\n",
    "# naming the x axis \n",
    "plt.xlabel('Position in x [Mpc]') \n",
    "# naming the y axis \n",
    "plt.ylabel('Position in y [Mpc]') \n",
    "  \n",
    "# giving a title to my graph \n",
    "#plt.title('2D Plot of Galaxy Positions for 50 randomly sampled\\nGalaxies in redshift 0, with Centrals, Satellites and Orphans') \n",
    "\n",
    "# function to show the plot in a clean format\n",
    "plt.tight_layout()\n",
    "\n",
    "# save the plot \n",
    "name_of_plot=(\"2D_Galaxy_Positions_50_randsam_z_0_CenSatOrp\")\n",
    "plt.savefig(\"plots/\" + name_of_plot + \".pdf\")\n",
    "\n",
    "\n",
    "print('Type_rand =', Type_randsam)\n",
    "Type_randsam.shape\n",
    "occurrences_cen = np.count_nonzero(Type_randsam == 0)\n",
    "occurrences_sat = np.count_nonzero(Type_randsam == 1)\n",
    "occurrences_orp = np.count_nonzero(Type_randsam == 2)\n",
    "print('Num Centrals = ', occurrences_cen)\n",
    "print('Num Satellites = ', occurrences_sat)\n",
    "print('Num Orphans = ', occurrences_orp)"
   ]
  },
  {
   "cell_type": "code",
   "execution_count": null,
   "metadata": {},
   "outputs": [],
   "source": []
  }
 ],
 "metadata": {
  "kernelspec": {
   "display_name": "Python 3",
   "language": "python",
   "name": "python3"
  },
  "language_info": {
   "codemirror_mode": {
    "name": "ipython",
    "version": 3
   },
   "file_extension": ".py",
   "mimetype": "text/x-python",
   "name": "python",
   "nbconvert_exporter": "python",
   "pygments_lexer": "ipython3",
   "version": "3.7.6"
  }
 },
 "nbformat": 4,
 "nbformat_minor": 4
}
