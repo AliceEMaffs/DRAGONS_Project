{
 "cells": [
  {
   "cell_type": "code",
   "execution_count": 1,
   "metadata": {},
   "outputs": [
    {
     "name": "stderr",
     "output_type": "stream",
     "text": [
      "/Applications/anaconda3/lib/python3.7/site-packages/pandas/core/series.py:679: RuntimeWarning: divide by zero encountered in log10\n",
      "  result = getattr(ufunc, method)(*inputs, **kwargs)\n"
     ]
    },
    {
     "data": {
      "image/png": "[encoded data removed]",
      "text/plain": [
       "<Figure size 432x288 with 1 Axes>"
      ]
     },
     "metadata": {
      "needs_background": "light"
     },
     "output_type": "display_data"
    }
   ],
   "source": [
    "\"\"\"A simple example of plotting the stellar mass function (SMF) from Meraxes\n",
    "output using single snapshot=100\"\"\"\n",
    "\n",
    "# First off, import the packages we need\n",
    "import numpy as np  # work horse package for numerical work in python\n",
    "import matplotlib.pyplot as plt  # plotting library\n",
    "from Functions import *\n",
    "from dragons import meraxes, munge# DRAGONS modules for reading and dealing with model ouput\n",
    "\n",
    "# First read in all of the galaxies at snapshot 100 (z=5).  Note that you will\n",
    "# of course need to update the paths to any files appropriately.\n",
    "#\n",
    "# By specifying `sim_props=True` when reading the galaxies, we are also\n",
    "# returned a dictionary of properties for the Meraxes run we are reading.\n",
    "#gals, sim_props = meraxes.read_gals(fname_in, snapshot=100, sim_props=True)\n",
    "\n",
    "\n",
    "#We want to read in all the snap shots using the function 'read snaplist'. Little h previously set as 0.7\n",
    "range_in = (5.5, 11.5)\n",
    "snapshot_used = 250\n",
    "gals, sim_props, snaplist = get_gal_catalogue(snapshot_used)\n",
    "snaps = snaplist[0]\n",
    "\n",
    "\n",
    "#print('gals: ', gals)\n",
    "#print('sim_props: ', sim_props)\n",
    "#gsp_foreach_snap.append(gals) #add the galaxies to the array\n",
    "#gsp_foreach_snap.append(sim_props)#add the simulation properties to the array\n",
    "#print('new array item:', gsp_foreach_snap)\n",
    "snaplist_index_used = list(snaplist[0]).index(snapshot_used)# convert to list and find the index of the snap we are using\n",
    "redshift_used = snaplist[1][snaplist_index_used] # Get the redshift for corresponding snapshot\n",
    "redshift_used = round(redshift_used, 1) # round float to nearest whole int\n",
    "redshift_used = str(redshift_used)\n",
    "redshift_used\n",
    "\n",
    "# The units of stellar masses ouput by the model are 1e10 Msol.  Let's convert\n",
    "# this to log10(M/Msol).\n",
    "gals[\"StellarMass\"] = np.log10(gals[\"StellarMass\"]*1e10)\n",
    "#print('gals: ', gals[\"StellarMass\"])\n",
    "\n",
    "# The `munge` module has a nice function that will calculate the mass function\n",
    "# for us.  Take a look at the source code for this function if you are\n",
    "# interested to see how it does this (recommended).\n",
    "# mf = \"mass function\"\n",
    "mf = munge.mass_function(gals[\"StellarMass\"], sim_props[\"Volume\"], bins=50,\n",
    "                         range=range_in)\n",
    "#print('new mf array item: ', mf)\n",
    "# Now let's plot the mass function...\n",
    "''' uncomment for separate plots\n",
    "    # Create a new figure (with 1 column and 1 row) and axis\n",
    "    fig, ax = plt.subplots(1, 1)\n",
    "'''\n",
    "# Plot the mass function\n",
    "plot_label = ('z : ' + redshift_used)\n",
    "#print(plot_number)\n",
    "\n",
    "# Create a new figure (with 1 column and 1 row) and axis\n",
    "fig, ax = plt.subplots(1, 1)\n",
    "plt.title(\"Stellar Mass Function for \" + plot_label)\n",
    "\n",
    "ax.plot(mf[:, 0], np.log10(mf[:, 1]), color=np.random.rand(3,), lw=2,\n",
    "        label=plot_label)\n",
    "\n",
    "# Set the axis labels.\n",
    "# Note the use of LaTeX here.\n",
    "ax.set_xlabel(r\"$\\log_{10}(M_* / {\\rm M_{\\odot}})$\")\n",
    "ax.set_ylabel(r\"$\\log_{10}(\\phi / {\\rm Mpc^3})$\")\n",
    "\n",
    "# Add the legend\n",
    "ax.legend(loc=\"lower left\")\n",
    "\n",
    "# Finally save the figure as a PDF\n",
    "plt.tight_layout()\n",
    "name_of_plot=(\"SMF_z-\" + redshift_used)\n",
    "plt.savefig(\"plots/\" + name_of_plot + \".pdf\")\n",
    "\n"
   ]
  },
  {
   "cell_type": "code",
   "execution_count": null,
   "metadata": {},
   "outputs": [],
   "source": []
  }
 ],
 "metadata": {
  "kernelspec": {
   "display_name": "Python 3",
   "language": "python",
   "name": "python3"
  },
  "language_info": {
   "codemirror_mode": {
    "name": "ipython",
    "version": 3
   },
   "file_extension": ".py",
   "mimetype": "text/x-python",
   "name": "python",
   "nbconvert_exporter": "python",
   "pygments_lexer": "ipython3",
   "version": "3.7.6"
  }
 },
 "nbformat": 4,
 "nbformat_minor": 4
}
