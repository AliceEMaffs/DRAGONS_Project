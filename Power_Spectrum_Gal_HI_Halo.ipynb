{
 "cells": [
  {
   "cell_type": "markdown",
   "metadata": {},
   "source": [
    "# Power Spectrum \n",
    "## Calculate the power spectrum using a 3D grid\n",
    "Generate a the density field of the galaxy positions using a 3D grid\n",
    "Using the 3D grid, then calculate the power spectrum using the powerbox package"
   ]
  },
  {
   "cell_type": "code",
   "execution_count": 1,
   "metadata": {},
   "outputs": [
    {
     "name": "stdout",
     "output_type": "stream",
     "text": [
      "[4.9999988  4.01575197 2.99733298 2.00100053 1.50871276 0.99933302\n",
      " 0.50100094 0.        ]\n",
      "[100 115 134 158 173 192 216 250]\n"
     ]
    },
    {
     "data": {
      "text/plain": [
       "Index(['HaloID', 'ID', 'Type', 'CentralGal', 'GhostFlag', 'Len', 'MaxLen',\n",
       "       'Spin', 'Mvir', 'Rvir', 'Vvir', 'Vmax', 'FOFMvir', 'HotGas',\n",
       "       'MetalsHotGas', 'ColdGas', 'MetalsColdGas', 'H2Frac', 'H2Mass',\n",
       "       'HIMass', 'Mcool', 'DiskScaleLength', 'StellarMass', 'GrossStellarMass',\n",
       "       'MetalsStellarMass', 'Sfr', 'EjectedGas', 'MetalsEjectedGas',\n",
       "       'BlackHoleMass', 'Rcool', 'Cos_Inc', 'MergTime', 'MergerStartRadius',\n",
       "       'BaryonFracModifier', 'FOFMvirModifier', 'MvirCrit', 'MergerBurstMass',\n",
       "       'MWMSA', 'Fesc', 'FescWeightedGSM', 'FescBH', 'BHemissivity',\n",
       "       'EffectiveBHM', 'BlackHoleAccretedHotMass', 'BlackHoleAccretedColdMass',\n",
       "       'dt', 'Pos_0', 'Pos_1', 'Pos_2', 'Vel_0', 'Vel_1', 'Vel_2',\n",
       "       'NewStars_0', 'NewStars_1', 'NewStars_2', 'NewStars_3', 'NewStars_4'],\n",
       "      dtype='object')"
      ]
     },
     "execution_count": 1,
     "metadata": {},
     "output_type": "execute_result"
    }
   ],
   "source": [
    "# Power Spectrum plot\n",
    "import matplotlib.pyplot as plt\n",
    "import numpy as np\n",
    "import powerbox as pbox\n",
    "from Functions import *\n",
    "from mpl_toolkits import mplot3d\n",
    "from powerbox import get_power\n",
    "from scipy import stats\n",
    "import statistics\n",
    "import pandas as pd\n",
    "\n",
    "# Redshift = 0 \n",
    "#get gals, snaps, sims_props\n",
    "snapshot_used = 250 # z = 0\n",
    "gals, sim_props, snaplist = get_gal_catalogue(snapshot_used)\n",
    "#ngals = len(gals)\n",
    "#print(ngals)\n",
    "#gals.columns #returns all avaiable properties of galxies\n",
    "#gals[gals.replace([np.inf, -np.inf], np.nan).notnull().all(axis=1)]# remove infs\n",
    "#gals.dropna()# drop nan values\n",
    "\n",
    "# See other available Snaps and Redshifts\n",
    "reds = snaplist[1]\n",
    "snaps = snaplist[0]\n",
    "print(reds)\n",
    "print(snaps)\n",
    "\n",
    "# using positions [x,y,x]\n",
    "pos_x = gals[\"Pos_0\"]\n",
    "pos_y = gals[\"Pos_1\"]\n",
    "pos_z = gals[\"Pos_2\"]\n",
    "\n",
    "Pos = np.array([pos_x, pos_y, pos_z])\n",
    "Pos.T.shape\n",
    "Pos_new=Pos.T # Transpose the Pos so it is in format (N,D) array\n",
    "Pos_new.shape\n",
    "\n",
    "snaplist_index_used = list(snaplist[0]).index(snapshot_used)# convert to list and find the index of the snap we are using\n",
    "redshift_used = snaplist[1][snaplist_index_used] # Get the redshift for corresponding snapshot\n",
    "redshift_used = str(round(redshift_used, 1)) # round float to nearest whole int\n",
    "gals.columns #returns all avaiable properties of galxies\n",
    "\n",
    "#sim_props # returns sim props if you want to check"
   ]
  },
  {
   "cell_type": "markdown",
   "metadata": {},
   "source": [
    "# HI MASS"
   ]
  },
  {
   "cell_type": "code",
   "execution_count": 2,
   "metadata": {},
   "outputs": [
    {
     "data": {
      "text/plain": [
       "((1648367,),\n",
       " 0          0.003654\n",
       " 1          0.000851\n",
       " 2          0.000356\n",
       " 3          0.000015\n",
       " 4          0.000887\n",
       "              ...   \n",
       " 1648362    0.000000\n",
       " 1648363    0.000000\n",
       " 1648364    0.000000\n",
       " 1648365    0.000000\n",
       " 1648366    0.000000\n",
       " Name: HIMass, Length: 1648367, dtype: float32,\n",
       " 0.0,\n",
       " 63.324520111083984)"
      ]
     },
     "execution_count": 2,
     "metadata": {},
     "output_type": "execute_result"
    }
   ],
   "source": [
    "gals[\"HIMass\"].shape\n",
    "HIMass = gals[\"HIMass\"]\n",
    "#HIMass.shape, HIMass, min(HIMass), max(HIMass)\n",
    "# get mass and convert to proper units\n",
    "#HIMass = np.log10(gals[\"HIMass\"]*1e10)\n",
    "#HIMass.shape, HIMass, min(HIMass), max(HIMass)\n",
    "# Get rid of inf's in HIMass\n",
    "#HIMass = HIMass[np.isfinite(HIMass)]\n",
    "HIMass.shape, HIMass, min(HIMass), max(HIMass)\n"
   ]
  },
  {
   "cell_type": "markdown",
   "metadata": {},
   "source": [
    "# HALO MASS"
   ]
  },
  {
   "cell_type": "code",
   "execution_count": 3,
   "metadata": {},
   "outputs": [
    {
     "data": {
      "text/plain": [
       "((1648367,),\n",
       " 0           2.575082\n",
       " 1           2.366804\n",
       " 2          34.214512\n",
       " 3           0.965656\n",
       " 4           2.366804\n",
       "              ...    \n",
       " 1648362     0.605902\n",
       " 1648363     0.605902\n",
       " 1648364     0.605902\n",
       " 1648365     0.605902\n",
       " 1648366     0.605902\n",
       " Name: Mvir, Length: 1648367, dtype: float32,\n",
       " 0.6059017181396484,\n",
       " 208860.578125)"
      ]
     },
     "execution_count": 3,
     "metadata": {},
     "output_type": "execute_result"
    }
   ],
   "source": [
    "gals[\"Mvir\"].shape\n",
    "Mvir = gals[\"Mvir\"]\n",
    "#HIMass.shape, HIMass, min(HIMass), max(HIMass)\n",
    "# get mass and convert to proper units\n",
    "#HIMass = np.log10(gals[\"HIMass\"]*1e10)\n",
    "#HIMass.shape, HIMass, min(HIMass), max(HIMass)\n",
    "# Get rid of inf's in HIMass\n",
    "#HIMass = HIMass[np.isfinite(HIMass)]\n",
    "Mvir.shape, Mvir, min(Mvir), max(Mvir)"
   ]
  },
  {
   "cell_type": "markdown",
   "metadata": {},
   "source": [
    "## use this if 1st attempt doesnt work\n",
    "### MAKE 3D array for grid later\n",
    "#HIMass = np.array([HIMass, HIMass, HIMass])\n",
    "#HIMass.T.shape\n",
    "#HIMass_new=HIMass.T # Transpose the HIMass so it is in format (N,D) array"
   ]
  },
  {
   "cell_type": "markdown",
   "metadata": {},
   "source": [
    "## Create 3D grid of galaxy positions\n",
    "### 1. Calculate the edges of the grid\n",
    "### 2. Calculate the deltax\n",
    "    delta x = (Pos/edges)\n",
    "### 3. Get the 3D grid\n",
    "    using histogram 3D"
   ]
  },
  {
   "cell_type": "code",
   "execution_count": 4,
   "metadata": {},
   "outputs": [],
   "source": [
    "# getting bits ready for 3D grid \n",
    "boxsize = 178.57142857142858 # get the box size, this is from sims pops \n",
    "dim = len(Pos) # number of dimensions in 3D space =3\n",
    "boxlength = [boxsize] * dim #get box length for each side of box\n",
    "N = pos_x.shape # = 1648367\n",
    "#N = 100\n",
    "V = np.product(boxlength)\n",
    "#print('dim : ', dim)\n",
    "#print('boxlength : ', boxlength)\n",
    "#print('N : ', N)\n",
    "#print('V : ', V)\n",
    "#N_dim = [N] * dim # to make iterable\n",
    "#print('N : ', N)\n",
    "#print('Pos : ', Pos)\n",
    "#Pos = np.squeeze(Pos)\n",
    "#print('Pos : ', Pos)\n",
    "#N[0] / boxsize"
   ]
  },
  {
   "cell_type": "markdown",
   "metadata": {},
   "source": [
    "# Create 3D grid for \n",
    "## 1. Galaxy positions ($\\rho_{x}$)"
   ]
  },
  {
   "cell_type": "code",
   "execution_count": 5,
   "metadata": {},
   "outputs": [
    {
     "data": {
      "text/plain": [
       "((100, 100, 100), 101, 101, 101)"
      ]
     },
     "execution_count": 5,
     "metadata": {},
     "output_type": "execute_result"
    }
   ],
   "source": [
    "nbins=100 # define the number of bins for our 3D grid\n",
    "rhox, edges = np.histogramdd(Pos_new, bins=nbins) #[0].astype(\"float\") # calculate the 3D grid using histogramdd\n",
    "# RETURNS GALAXY COUNTS (rhox) and bins\n",
    "rhox.shape, edges[0].size, edges[1].size, edges[2].size\n",
    "#so its done 10 x omega = deltax / np.mean(deltax) - 1 # calcualte the over density\n",
    "#print('omega: ', omega)10 x 10 by default\n",
    "#rhox # This returns the number of galaxies in each grid"
   ]
  },
  {
   "cell_type": "markdown",
   "metadata": {},
   "source": [
    "## 2. HIMass $\\rho_{HIMass}$"
   ]
  },
  {
   "cell_type": "code",
   "execution_count": 6,
   "metadata": {},
   "outputs": [],
   "source": [
    "#rhoHIMass, edgesHIMass = np.histogramdd(HIMass_new, bins=nbins, normed=True) #[0].astype(\"float\") # calculate the 3D grid using histogramdd\n",
    "#rhoHIMass.shape, edgesHIMass[0].size # 1D only\n",
    "\n",
    "rhoHIMass, edgesHIMass = np.histogramdd(Pos_new, bins=nbins, weights=HIMass) #[0].astype(\"float\") # calculate the 3D grid using histogramdd\n",
    "#rhoHIMass.shape, edgesHIMass[0].size # 1D only\n",
    "#rhoHIMass"
   ]
  },
  {
   "cell_type": "markdown",
   "metadata": {},
   "source": [
    "# Calculate the density using the mean of the density field:\n",
    "\n",
    "$\\delta = \\frac{\\rho(x)}{\\bar{\\rho(x)}}$\n",
    "\n",
    "## Galaxies:"
   ]
  },
  {
   "cell_type": "code",
   "execution_count": 7,
   "metadata": {},
   "outputs": [],
   "source": [
    "delta = rhox / np.mean(rhox) - 1 # calcualte the over density\n",
    "#print('omega: ', omega)\n",
    "#delta[0]"
   ]
  },
  {
   "cell_type": "markdown",
   "metadata": {},
   "source": [
    "## HI Mass "
   ]
  },
  {
   "cell_type": "code",
   "execution_count": 8,
   "metadata": {},
   "outputs": [],
   "source": [
    "delta_HIMass = rhoHIMass / np.mean(rhoHIMass) - 1 # calculate the over density\n",
    "#print('omega: ', omega)\n",
    "#delta_HIMass[0]"
   ]
  },
  {
   "cell_type": "markdown",
   "metadata": {},
   "source": [
    "## 3. M VIR (HALO MASS)"
   ]
  },
  {
   "cell_type": "code",
   "execution_count": 9,
   "metadata": {},
   "outputs": [],
   "source": [
    "rhoMvir, edgesMvir = np.histogramdd(Pos_new, bins=nbins, weights=Mvir) #[0].astype(\"float\") # calculate the 3D grid using histogramdd\n",
    "#rhoMvir.shape, edgesMvir[0].size # 1D only\n",
    "#rhoMvir"
   ]
  },
  {
   "cell_type": "code",
   "execution_count": 10,
   "metadata": {},
   "outputs": [
    {
     "data": {
      "text/plain": [
       "array([[-0.93702293,  2.26131202, -1.        , ..., 11.58791499,\n",
       "        -0.95201748, -1.        ],\n",
       "       [-0.09732882, 31.03583148, -0.5711562 , ..., -0.69860977,\n",
       "         5.00531256, -0.59364803],\n",
       "       [-0.55766111, -1.        , -1.        , ..., -0.87704479,\n",
       "        -0.87404588,  0.45896861],\n",
       "       ...,\n",
       "       [-1.        , -0.92652676, -1.        , ...,  1.38713056,\n",
       "        -0.32074742, -0.9415213 ],\n",
       "       [-1.        , -1.        , -1.        , ..., -0.26826654,\n",
       "        -0.56965672, -0.86205025],\n",
       "       [-1.        , -1.        , -1.        , ...,  1.22069127,\n",
       "         3.76376502, -1.        ]])"
      ]
     },
     "execution_count": 10,
     "metadata": {},
     "output_type": "execute_result"
    }
   ],
   "source": [
    "delta_Mvir = rhoMvir / np.mean(rhoMvir) - 1 # calculate the over density\n",
    "#print('omega: ', omega)\n",
    "delta_Mvir[0]"
   ]
  },
  {
   "cell_type": "markdown",
   "metadata": {},
   "source": [
    "## Now lets do the Galaxy and HI Mass Power Spectrum \n",
    "### The only difference is that we add weights (HI_Mass is the weights for the PS)"
   ]
  },
  {
   "cell_type": "code",
   "execution_count": 11,
   "metadata": {},
   "outputs": [],
   "source": [
    "# REDSHIFT z=0\n",
    "# GALAXY PS = gal_ps, gal_k\n",
    "# HIMASS PS = HIMass_ps, HIMass_k\n",
    "gal_ps, gal_k = get_power(delta,boxlength,remove_shotnoise=False,weights=None)# NO WEIGHTS for GALAXY PS\n",
    "HIMass_ps, HIMass_k = pbox.get_power(delta_HIMass,boxlength,remove_shotnoise=False)# WEIGHTS = HIMASS for HIMASS PS\n",
    "Mvir_ps, Mvir_k = pbox.get_power(delta_Mvir,boxlength,remove_shotnoise=False)# WEIGHTS = HIMASS for HIMASS PS\n",
    "\n",
    "# test first, then try less parameters if it goes wierd : p_k_field, bins_field = get_power(omega, boxlength)\n",
    "\n",
    "#print('gal_ps (Galaxies): ', gal_ps)\n",
    "#print('gal_k (Galaxies): ', gal_k)\n",
    "#print('HIMass_ps (HI Mass): ', HIMass_ps)\n",
    "#print('HIMass_k (HI Mass): ', HIMass_k)"
   ]
  },
  {
   "cell_type": "markdown",
   "metadata": {},
   "source": [
    "# PLOT\n",
    "## GALAXY PS"
   ]
  },
  {
   "cell_type": "code",
   "execution_count": 18,
   "metadata": {},
   "outputs": [
    {
     "data": {
      "image/png": "[encoded data removed]",
      "text/plain": [
       "<Figure size 432x288 with 1 Axes>"
      ]
     },
     "metadata": {
      "needs_background": "light"
     },
     "output_type": "display_data"
    }
   ],
   "source": [
    "fig, ax = plt.subplots(1, 1)\n",
    "label_z = (\"z = \" + redshift_used)\n",
    "#ax.set_ylim([0,3500])\n",
    "#ax.set_xlim([0.1,1])\n",
    "\n",
    "# Labels and Legends\n",
    "label_galsPS = (\"Galaxy Power Spectrum\")\n",
    "label_HIMassPS = (\"HI Mass Power Spectrum\")\n",
    "label_MvirPS = (\"Halo Mass Power Spectrum\")\n",
    "\n",
    "\n",
    "# Plot\n",
    "ax.set_xlabel(r\"$k$ $[Mpc^{-1}]$\")\n",
    "ax.set_ylabel(r\"$P(k)$ $[Mpc^{3}]$\")\n",
    "plt.xscale('log')\n",
    "plt.yscale('log')\n",
    "ax.plot(gal_k,gal_ps,color=\"black\")\n",
    "ax.scatter(gal_k,gal_ps,color=\"black\", label=label_galsPS, marker=\"o\",s=30)\n",
    "ax.plot(HIMass_k,HIMass_ps,color=\"deepskyblue\")\n",
    "ax.scatter(HIMass_k,HIMass_ps,color=\"deepskyblue\", label=label_HIMassPS,marker=\"x\",s=30)\n",
    "ax.plot(Mvir_k,Mvir_ps,color=\"green\")\n",
    "ax.scatter(Mvir_k,Mvir_ps,color=\"green\", label=label_MvirPS, marker=\"+\", s=30)\n",
    "\n",
    "plt.legend(title=(\"DRAGONS\"),\n",
    "           loc='lower left',\n",
    "           fontsize=12)\n",
    "\n",
    "# Name and save plot\n",
    "nbins = str(nbins)\n",
    "name_of_plot=(\"PowerSpectrum_GALS_and_HIMass_Mvir_logged\" + nbins)\n",
    "plt.savefig(\"plots/\" + name_of_plot + \".pdf\")"
   ]
  },
  {
   "cell_type": "markdown",
   "metadata": {},
   "source": [
    "# HI MASS PS"
   ]
  },
  {
   "cell_type": "markdown",
   "metadata": {},
   "source": [
    "fig, ax = plt.subplots(1, 1)\n",
    "label_z = (\"z = \" + redshift_used)\n",
    "#ax.set_ylim([0,3500])\n",
    "#ax.set_xlim([0.1,1])\n",
    "ax.set_xlabel(r\"$k$ $[Mpc^{-1}]$\")\n",
    "ax.set_ylabel(r\"$P_{HI}(k)$ $[Mpc^{3}]$\")\n",
    "plt.xscale('log')\n",
    "plt.yscale('log')\n",
    "ax.plot(bins_field_HI_Mass,p_k_field_HI_Mass,color=\"deepskyblue\", label=label_z)\n",
    "\n",
    "plt.legend(title=(\"DRAGONS\"),\n",
    "           loc='upper right',\n",
    "           fontsize=12)\n",
    "\n",
    "nbins = str(nbins)\n",
    "name_of_plot=(\"PowerSpectrum_HIMass\" + nbins)\n",
    "plt.savefig(\"plots/\" + name_of_plot + \".pdf\")"
   ]
  },
  {
   "cell_type": "code",
   "execution_count": null,
   "metadata": {},
   "outputs": [],
   "source": []
  }
 ],
 "metadata": {
  "kernelspec": {
   "display_name": "Python 3",
   "language": "python",
   "name": "python3"
  },
  "language_info": {
   "codemirror_mode": {
    "name": "ipython",
    "version": 3
   },
   "file_extension": ".py",
   "mimetype": "text/x-python",
   "name": "python",
   "nbconvert_exporter": "python",
   "pygments_lexer": "ipython3",
   "version": "3.8.3"
  }
 },
 "nbformat": 4,
 "nbformat_minor": 4
}
