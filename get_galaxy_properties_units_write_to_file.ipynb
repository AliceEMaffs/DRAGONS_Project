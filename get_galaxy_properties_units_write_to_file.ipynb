{
 "cells": [
  {
   "cell_type": "markdown",
   "metadata": {},
   "source": [
    "## This short program reads in the galaxy properties and units, and prints them, and also writes them to a file."
   ]
  },
  {
   "cell_type": "code",
   "execution_count": 1,
   "metadata": {},
   "outputs": [
    {
     "name": "stdout",
     "output_type": "stream",
     "text": [
      "snaps:  [100 115 134 158 173 192 216 250]\n",
      "redshifts:  [4.9999988  4.01575197 2.99733298 2.00100053 1.50871276 0.99933302\n",
      " 0.50100094 0.        ]\n",
      "light travel time:  [12231.24679633 11881.54868823 11283.32371736 10185.99335738\n",
      "  9241.64988071  7682.30347798  5035.97124274     0.        ]\n",
      "\n",
      "\n",
      "Filtered Galaxy Properties and Units : {'Pos': b'Mpc', 'HaloID': b'None', 'CentralGal': b'None', 'Sfr': b'solMass/yr', 'HIMass': b'1e10 solMass', 'Mvir': b'1e10 solMass', 'StellarMass': b'1e10 solMass'}\n",
      "\n",
      "\n",
      "Filtered Galaxy Properties and Units : {'Pos': b'Mpc', 'HaloID': b'None', 'CentralGal': b'None', 'Sfr': b'solMass/yr', 'HIMass': b'1e10 solMass', 'Mvir': b'1e10 solMass', 'StellarMass': b'1e10 solMass'}\n",
      "\n",
      "\n",
      "Filtered Galaxy Properties and Units : {'Pos': b'Mpc', 'HaloID': b'None', 'CentralGal': b'None', 'Sfr': b'solMass/yr', 'HIMass': b'1e10 solMass', 'Mvir': b'1e10 solMass', 'StellarMass': b'1e10 solMass'}\n",
      "\n",
      "\n",
      "Filtered Galaxy Properties and Units : {'Pos': b'Mpc', 'HaloID': b'None', 'CentralGal': b'None', 'Sfr': b'solMass/yr', 'HIMass': b'1e10 solMass', 'Mvir': b'1e10 solMass', 'StellarMass': b'1e10 solMass'}\n",
      "\n",
      "\n",
      "Filtered Galaxy Properties and Units : {'Pos': b'Mpc', 'HaloID': b'None', 'CentralGal': b'None', 'Sfr': b'solMass/yr', 'HIMass': b'1e10 solMass', 'Mvir': b'1e10 solMass', 'StellarMass': b'1e10 solMass'}\n",
      "\n",
      "\n",
      "Filtered Galaxy Properties and Units : {'Pos': b'Mpc', 'HaloID': b'None', 'CentralGal': b'None', 'Sfr': b'solMass/yr', 'HIMass': b'1e10 solMass', 'Mvir': b'1e10 solMass', 'StellarMass': b'1e10 solMass'}\n",
      "\n",
      "\n",
      "Filtered Galaxy Properties and Units : {'Pos': b'Mpc', 'HaloID': b'None', 'CentralGal': b'None', 'Sfr': b'solMass/yr', 'HIMass': b'1e10 solMass', 'Mvir': b'1e10 solMass', 'StellarMass': b'1e10 solMass'}\n",
      "\n",
      "\n",
      "Filtered Galaxy Properties and Units : {'Pos': b'Mpc', 'HaloID': b'None', 'CentralGal': b'None', 'Sfr': b'solMass/yr', 'HIMass': b'1e10 solMass', 'Mvir': b'1e10 solMass', 'StellarMass': b'1e10 solMass'}\n"
     ]
    }
   ],
   "source": [
    "# First off, import the packages we need\n",
    "import numpy as np  # work horse package for numerical work in python\n",
    "import matplotlib.pyplot as plt  # plotting library\n",
    "\n",
    "# DRAGONS modules for reading and dealing with model ouput\n",
    "from dragons import meraxes, munge\n",
    "\n",
    "fname_in = \"imapping_testrun/meraxes.hdf5\"\n",
    "h = meraxes.set_little_h(0.7)\n",
    "\n",
    "#We want to read in all the snap shots using the function 'read snaplist'. Little h previously set as 0.7\n",
    "snaplist = meraxes.io.read_snaplist(fname_in, h)\n",
    "snaps = snaplist[0]\n",
    "redshifts=snaplist[1]\n",
    "lt_times=snaplist[2]\n",
    "print ('snaps: ', snaps)\n",
    "print('redshifts: ', redshifts)\n",
    "print('light travel time: ', lt_times)\n",
    "\n",
    "for i in snaps:\n",
    "    units = meraxes.read_units(fname_in)\n",
    "    filtered_galprops_units = {\n",
    "        key: units[key] \n",
    "        for key in units.keys() \n",
    "            & {'HIMass', 'HaloID', 'Mvir', 'CentralGal', 'StellarMass', 'Sfr', 'Pos'} # add the properties here \n",
    "        } \n",
    "\n",
    "    print(\"\\n\\nFiltered Galaxy Properties and Units : \" + str(filtered_galprops_units)) \n",
    "\n",
    "    #Write to file\n",
    "    name_of_file = \"filtered_galprops_units.txt\"\n",
    "    f = open( \"outputs/\" + name_of_file, \"w\" )\n",
    "    f.write( \"Filtered Galaxy Properties and Units : \" + repr(filtered_galprops_units) + \"\\n\" )\n",
    "    f.close()\n"
   ]
  },
  {
   "cell_type": "code",
   "execution_count": null,
   "metadata": {},
   "outputs": [],
   "source": []
  }
 ],
 "metadata": {
  "kernelspec": {
   "display_name": "Python 3",
   "language": "python",
   "name": "python3"
  },
  "language_info": {
   "codemirror_mode": {
    "name": "ipython",
    "version": 3
   },
   "file_extension": ".py",
   "mimetype": "text/x-python",
   "name": "python",
   "nbconvert_exporter": "python",
   "pygments_lexer": "ipython3",
   "version": "3.7.6"
  }
 },
 "nbformat": 4,
 "nbformat_minor": 4
}
