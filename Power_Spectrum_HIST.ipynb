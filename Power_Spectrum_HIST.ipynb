{
 "cells": [
  {
   "cell_type": "markdown",
   "metadata": {},
   "source": [
    "# Power Spectrum \n",
    "## Calculate the power spectrum using a 3D grid\n",
    "Generate a the density field of the galaxy positions using a 3D grid\n",
    "Using the 3D grid, then calculate the power spectrum using the powerbox package"
   ]
  },
  {
   "cell_type": "code",
   "execution_count": 1,
   "metadata": {},
   "outputs": [
    {
     "name": "stdout",
     "output_type": "stream",
     "text": [
      "[4.9999988  4.01575197 2.99733298 2.00100053 1.50871276 0.99933302\n",
      " 0.50100094 0.        ]\n",
      "[100 115 134 158 173 192 216 250]\n"
     ]
    },
    {
     "data": {
      "text/plain": [
       "Index(['HaloID', 'ID', 'Type', 'CentralGal', 'GhostFlag', 'Len', 'MaxLen',\n",
       "       'Spin', 'Mvir', 'Rvir', 'Vvir', 'Vmax', 'FOFMvir', 'HotGas',\n",
       "       'MetalsHotGas', 'ColdGas', 'MetalsColdGas', 'H2Frac', 'H2Mass',\n",
       "       'HIMass', 'Mcool', 'DiskScaleLength', 'StellarMass', 'GrossStellarMass',\n",
       "       'MetalsStellarMass', 'Sfr', 'EjectedGas', 'MetalsEjectedGas',\n",
       "       'BlackHoleMass', 'Rcool', 'Cos_Inc', 'MergTime', 'MergerStartRadius',\n",
       "       'BaryonFracModifier', 'FOFMvirModifier', 'MvirCrit', 'MergerBurstMass',\n",
       "       'MWMSA', 'Fesc', 'FescWeightedGSM', 'FescBH', 'BHemissivity',\n",
       "       'EffectiveBHM', 'BlackHoleAccretedHotMass', 'BlackHoleAccretedColdMass',\n",
       "       'dt', 'Pos_0', 'Pos_1', 'Pos_2', 'Vel_0', 'Vel_1', 'Vel_2',\n",
       "       'NewStars_0', 'NewStars_1', 'NewStars_2', 'NewStars_3', 'NewStars_4'],\n",
       "      dtype='object')"
      ]
     },
     "execution_count": 1,
     "metadata": {},
     "output_type": "execute_result"
    }
   ],
   "source": [
    "# Power Spectrum plot\n",
    "import matplotlib.pyplot as plt\n",
    "import numpy as np\n",
    "import powerbox as pbox\n",
    "from Functions import *\n",
    "from mpl_toolkits import mplot3d\n",
    "from powerbox import get_power\n",
    "from scipy import stats\n",
    "import statistics\n",
    "import pandas as pd\n",
    "\n",
    "# Redshift = 0 \n",
    "#get gals, snaps, sims_props\n",
    "snapshot_used_0 = 250 # z = 0\n",
    "gals, sim_props, snaplist = get_gal_catalogue(snapshot_used_0)\n",
    "#ngals = len(gals)\n",
    "#print(ngals)\n",
    "#gals.columns #returns all avaiable properties of galxies\n",
    "#gals[gals.replace([np.inf, -np.inf], np.nan).notnull().all(axis=1)]# remove infs\n",
    "#gals.dropna()# drop nan values\n",
    "\n",
    "# See other available Snaps and Redshifts\n",
    "reds = snaplist[1]\n",
    "snaps = snaplist[0]\n",
    "print(reds)\n",
    "print(snaps)\n",
    "\n",
    "# using positions [x,y,x]\n",
    "pos_x = gals[\"Pos_0\"]\n",
    "pos_y = gals[\"Pos_1\"]\n",
    "pos_z = gals[\"Pos_2\"]\n",
    "Pos = np.array([pos_x, pos_y, pos_z])\n",
    "\n",
    "snaplist_index_used_0 = list(snaplist[0]).index(snapshot_used_0)# convert to list and find the index of the snap we are using\n",
    "redshift_used_0 = snaplist[1][snaplist_index_used_0] # Get the redshift for corresponding snapshot\n",
    "redshift_used_0 = str(round(redshift_used_0, 1)) # round float to nearest whole int\n",
    "gals.columns #returns all avaiable properties of galxies"
   ]
  },
  {
   "cell_type": "code",
   "execution_count": 2,
   "metadata": {},
   "outputs": [
    {
     "data": {
      "text/plain": [
       "{'BaryonFrac': 0.15714,\n",
       " 'BaryonFracModifier': '',\n",
       " 'BetaBands': '',\n",
       " 'BirthCloudLifetime': 0.0,\n",
       " 'BlackHoleGrowthRate': 0.05,\n",
       " 'BlackHoleMassLimitReion': -1.0,\n",
       " 'BlackHoleSeed': 1e-07,\n",
       " 'BoxSize': 178.57142857142858,\n",
       " 'CatalogFilePrefix': 'subfind',\n",
       " 'CoolingFuncsDir': '/home/smutch/models/meraxes/src/../input/cooling_functions',\n",
       " 'DefaultsFile': '/home/smutch/models/meraxes/src/../input/Tiamat125-HR.par',\n",
       " 'EddingtonRatio': 1.0,\n",
       " 'EndRedshiftLightcone': 6.0,\n",
       " 'EndSnapshotLightcone': 0,\n",
       " 'EscapeFracBHNorm': 1.0,\n",
       " 'EscapeFracBHScaling': 0.0,\n",
       " 'EscapeFracDependency': 1,\n",
       " 'EscapeFracNorm': 0.06,\n",
       " 'EscapeFracPropScaling': 0.5,\n",
       " 'EscapeFracRedshiftScaling': 0.5,\n",
       " 'FileNameGalaxies': 'meraxes',\n",
       " 'FlagIgnoreProgIndex': 0,\n",
       " 'FlagInteractive': 0,\n",
       " 'FlagMCMC': 0,\n",
       " 'FlagSubhaloVirialProps': 0,\n",
       " 'Flag_BHFeedback': 1,\n",
       " 'Flag_Compute21cmBrightTemp': 1,\n",
       " 'Flag_ComputePS': 1,\n",
       " 'Flag_ConstructLightcone': 1,\n",
       " 'Flag_FixDiskRadiusOnInfall': 0,\n",
       " 'Flag_FixVmaxOnInfall': 0,\n",
       " 'Flag_IRA': 0,\n",
       " 'Flag_IncludePecVelsFor21cm': 1,\n",
       " 'Flag_IncludeRecombinations': 1,\n",
       " 'Flag_IncludeSpinTemp': 1,\n",
       " 'Flag_OutputGrids': 1,\n",
       " 'Flag_OutputGridsPostReion': 0,\n",
       " 'Flag_PatchyReion': 0,\n",
       " 'Flag_ReheatToFOFGroupTemp': 0,\n",
       " 'Flag_ReionizationModifier': 2,\n",
       " 'Flag_SeparateQSOXrays': 0,\n",
       " 'ForestIDFile': '',\n",
       " 'Hubble_h': 0.678,\n",
       " 'LXrayGal': 3.16e+40,\n",
       " 'LXrayQSO': 3.16e+40,\n",
       " 'MassRatioModifier': '',\n",
       " 'MaxCoolingMassFactor': 1.0,\n",
       " 'MergerBurstFactor': 0.57,\n",
       " 'MergerBurstScaling': 0.7,\n",
       " 'MergerTimeFactor': 0.5,\n",
       " 'MinMergerRatioForBurst': 0.1,\n",
       " 'MinMergerStellarMass': 1e-09,\n",
       " 'MvirCritFile': '',\n",
       " 'NPart': 1259712000,\n",
       " 'NSteps': 1,\n",
       " 'NuXrayGalThreshold': 500.0,\n",
       " 'NuXrayMax': 10000.0,\n",
       " 'NuXrayQSOThreshold': 500.0,\n",
       " 'NuXraySoftCut': 2000.0,\n",
       " 'OmegaK': 0.0,\n",
       " 'OmegaLambda': 0.692,\n",
       " 'OmegaM': 0.308,\n",
       " 'OmegaR': 0.0,\n",
       " 'OutputDir': 'output/',\n",
       " 'OutputSnapshots': '100,115,134,158,173,192,216,250',\n",
       " 'PartMass': 0.01893442857142857,\n",
       " 'PhotometricTablesDir': '/home/smutch/models/meraxes/src/../input/photometric_tables',\n",
       " 'QuasarModeEff': 0.0005,\n",
       " 'RadioModeEff': 0.3,\n",
       " 'RandomSeed': 1809,\n",
       " 'ReincorporationEff': 0.0,\n",
       " 'ReincorporationModel': 1,\n",
       " 'ReionAlphaUV': 5.0,\n",
       " 'ReionAlphaUVBH': 1.57,\n",
       " 'ReionDeltaRFactor': 1.1,\n",
       " 'ReionFilterType': 0,\n",
       " 'ReionGammaHaloBias': 2.0,\n",
       " 'ReionGnedin_z0': 8.0,\n",
       " 'ReionGnedin_zr': 7.0,\n",
       " 'ReionGridDim': 128,\n",
       " 'ReionMaxHeatingRedshift': 35.0,\n",
       " 'ReionNionPhotPerBary': 4000.0,\n",
       " 'ReionPowerSpecDeltaK': 0.1,\n",
       " 'ReionRBubbleMax': 20.34,\n",
       " 'ReionRBubbleMaxRecomb': 33.9,\n",
       " 'ReionRBubbleMin': 0.4068,\n",
       " 'ReionRtoMFilterType': 0,\n",
       " 'ReionSMParam_a': 0.17,\n",
       " 'ReionSMParam_b': -2.1,\n",
       " 'ReionSMParam_c': 2.0,\n",
       " 'ReionSMParam_d': 2.5,\n",
       " 'ReionSMParam_m0': 0.18984,\n",
       " 'ReionSfrTimescale': 0.5,\n",
       " 'ReionSobacchi_DeltaZre': 1.0,\n",
       " 'ReionSobacchi_DeltaZsc': 2.0,\n",
       " 'ReionSobacchi_T0': 50000.0,\n",
       " 'ReionSobacchi_Zre': 9.3,\n",
       " 'ReionTcool': 10000.0,\n",
       " 'ReionUVBFlag': 1,\n",
       " 'RestBands': '',\n",
       " 'SfCriticalSDNorm': 0.37,\n",
       " 'SfDiskVelOpt': 1,\n",
       " 'SfEfficiency': 0.15,\n",
       " 'SfEfficiencyScaling': 0.0,\n",
       " 'SfPrescription': 2,\n",
       " 'SfRecycleFraction': 0.25,\n",
       " 'Sigma8': 0.815,\n",
       " 'SimName': 'Tiamat125-HR',\n",
       " 'SimulationDir': '/fred/oz013/simulations/Tiamat_125_HR',\n",
       " 'SnEjectionEff': 0.5,\n",
       " 'SnEjectionNorm': 70.0,\n",
       " 'SnEjectionRedshiftDep': 0.0,\n",
       " 'SnEjectionScaling': 2.0,\n",
       " 'SnEjectionScaling2': 2.0,\n",
       " 'SnModel': 1,\n",
       " 'SnReheatEff': 10.0,\n",
       " 'SnReheatLimit': 10.0,\n",
       " 'SnReheatNorm': 70.0,\n",
       " 'SnReheatRedshiftDep': 0.0,\n",
       " 'SnReheatScaling': 0.0,\n",
       " 'SnReheatScaling2': 0.0,\n",
       " 'SpecIndexXrayGal': 1.0,\n",
       " 'SpecIndexXrayQSO': 1.0,\n",
       " 'SpectralIndex': 0.968,\n",
       " 'StellarFeedbackDir': '/home/smutch/models/meraxes/src/../input/stellar_feedback_tables/Kroupa',\n",
       " 'TablesForXHeatingDir': '/home/smutch/models/meraxes/src/../input/21cmFAST-tables',\n",
       " 'TargetSnaps': '',\n",
       " 'ThreshMajorMerger': 0.3,\n",
       " 'TreesID': 1,\n",
       " 'TsHeatingFilterType': 0,\n",
       " 'TsNumFilterSteps': 40,\n",
       " 'TsVelocityComponent': 3,\n",
       " 'UnitLength_in_cm': 3.08568e+24,\n",
       " 'UnitMass_in_g': 1.989e+43,\n",
       " 'UnitVelocity_in_cm_per_s': 100000.0,\n",
       " 'VolumeFactor': 1.0,\n",
       " 'Y_He': 0.24,\n",
       " 'Yield': 0.03,\n",
       " 'quasar_mode_scaling': 0.0,\n",
       " 'quasar_open_angle': 80.0,\n",
       " 'wLambda': -1.0,\n",
       " 'Volume': 5694241.982507289,\n",
       " 'model_git_ref': b'df338cd8bc72bd7ad3d973669873b740d13319c3',\n",
       " 'model_git_diff': b'diff --git i/src/CMakeLists.txt w/src/CMakeLists.txt\\nindex 245c9f9..ed874bb 100644\\n--- i/src/CMakeLists.txt\\n+++ w/src/CMakeLists.txt\\n@@ -108,7 +108,7 @@ if(USE_CUDA)\\n     # Pass options to NVCC\\n     set(CUDA_HOST_COMPILER ${CMAKE_CXX_COMPILER})\\n     set(CUDA_PROPAGATE_HOST_FLAGS ON)\\n-    set(CUDA_NVCC_FLAGS \"${CUDA_NVCC_FLAGS} -arch=sm_60\")\\n+    set(CUDA_NVCC_FLAGS \"${CUDA_NVCC_FLAGS} -arch=sm_35\")\\n \\n     ################################################################################\\n     # This ugly hack is needed to work around a bug in the fftw3.h header file',\n",
       " 'Redshift': array([0.])}"
      ]
     },
     "execution_count": 2,
     "metadata": {},
     "output_type": "execute_result"
    }
   ],
   "source": [
    "sim_props"
   ]
  },
  {
   "cell_type": "markdown",
   "metadata": {},
   "source": [
    "## Create 3D grid of galaxy positions\n",
    "### 1. Calculate the edges of the grid\n",
    "### 2. Calculate the deltax\n",
    "    delta x = (Pos/edges)\n",
    "### 3. Get the 3D grid\n",
    "    using histogram 3D"
   ]
  },
  {
   "cell_type": "code",
   "execution_count": 11,
   "metadata": {},
   "outputs": [
    {
     "name": "stdout",
     "output_type": "stream",
     "text": [
      "dim :  3\n",
      "boxlength :  [178.57142857142858, 178.57142857142858, 178.57142857142858]\n",
      "N :  (1648367,)\n",
      "V :  5694241.982507289\n",
      "N :  (1648367,)\n",
      "Pos :  [[132.21861  135.23091   29.453735 ... 161.74535  177.04092  172.94582 ]\n",
      " [ 95.35761   80.398964  51.996937 ... 104.77806  161.79611  178.1844  ]\n",
      " [104.57693  126.85246  113.23257  ... 121.301575 160.85045  105.88463 ]]\n"
     ]
    }
   ],
   "source": [
    "# getting bits ready for 3D grid \n",
    "boxsize = 178.57142857142858 #rounded from 178.57142857142858\n",
    "dim = len(Pos) # =3\n",
    "boxlength = [boxsize] * dim\n",
    "N = pos_x.shape # = 1648367\n",
    "#N = 100\n",
    "V = np.product(boxlength)\n",
    "print('dim : ', dim)\n",
    "print('boxlength : ', boxlength)\n",
    "print('N : ', N)\n",
    "print('V : ', V)\n",
    "#N = [N] * dim # to make iterable\n",
    "print('N : ', N)\n",
    "print('Pos : ', Pos)\n",
    "#Pos = np.squeeze(Pos)\n",
    "#print('Pos : ', Pos)\n"
   ]
  },
  {
   "cell_type": "code",
   "execution_count": 18,
   "metadata": {},
   "outputs": [
    {
     "name": "stdout",
     "output_type": "stream",
     "text": [
      "edges[0].shape :  (1648367,)\n",
      "edges :  [array([0.00000000e+00, 1.08332390e-04, 2.16664780e-04, ...,\n",
      "       1.78571212e+02, 1.78571320e+02, 1.78571429e+02])]\n",
      "edges :  [array([0.00000000e+00, 1.08332390e-04, 2.16664780e-04, ...,\n",
      "       1.78571212e+02, 1.78571320e+02, 1.78571429e+02])]\n",
      "edges shape :  1\n",
      "Pos shape :  (3, 1648367)\n"
     ]
    }
   ],
   "source": [
    "# --- histogram stuff ---- #\n",
    "edges = [np.linspace(0, L, n) for L, n in zip(boxlength, N)]\n",
    "print('edges[0].shape : ', edges[0].shape)\n",
    "print('edges : ', edges)\n",
    "#binsx = edges[0].shape\n",
    "#edges = np.squeeze(edges)\n",
    "print('edges : ', edges)\n",
    "print('edges shape : ', len(edges))\n",
    "print('Pos shape : ', Pos.shape)\n"
   ]
  },
  {
   "cell_type": "code",
   "execution_count": 20,
   "metadata": {},
   "outputs": [
    {
     "ename": "ValueError",
     "evalue": "The dimension of bins must be equal to the dimension of the  sample x.",
     "output_type": "error",
     "traceback": [
      "\u001b[0;31m---------------------------------------------------------------------------\u001b[0m",
      "\u001b[0;31mValueError\u001b[0m                                Traceback (most recent call last)",
      "\u001b[0;32m<ipython-input-20-c0eecedab617>\u001b[0m in \u001b[0;36m<module>\u001b[0;34m\u001b[0m\n\u001b[0;32m----> 1\u001b[0;31m \u001b[0mdeltax\u001b[0m \u001b[0;34m=\u001b[0m \u001b[0mnp\u001b[0m\u001b[0;34m.\u001b[0m\u001b[0mhistogramdd\u001b[0m\u001b[0;34m(\u001b[0m\u001b[0mPos\u001b[0m\u001b[0;34m,\u001b[0m \u001b[0mbins\u001b[0m\u001b[0;34m=\u001b[0m\u001b[0medges\u001b[0m\u001b[0;34m,\u001b[0m \u001b[0mweights\u001b[0m\u001b[0;34m=\u001b[0m\u001b[0;32mNone\u001b[0m\u001b[0;34m)\u001b[0m\u001b[0;34m[\u001b[0m\u001b[0;36m0\u001b[0m\u001b[0;34m]\u001b[0m\u001b[0;34m.\u001b[0m\u001b[0mastype\u001b[0m\u001b[0;34m(\u001b[0m\u001b[0;34m\"float\"\u001b[0m\u001b[0;34m)\u001b[0m\u001b[0;34m\u001b[0m\u001b[0;34m\u001b[0m\u001b[0m\n\u001b[0m",
      "\u001b[0;32m<__array_function__ internals>\u001b[0m in \u001b[0;36mhistogramdd\u001b[0;34m(*args, **kwargs)\u001b[0m\n",
      "\u001b[0;32m~/opt/anaconda3/lib/python3.8/site-packages/numpy/lib/histograms.py\u001b[0m in \u001b[0;36mhistogramdd\u001b[0;34m(sample, bins, range, normed, weights, density)\u001b[0m\n\u001b[1;32m   1031\u001b[0m         \u001b[0mM\u001b[0m \u001b[0;34m=\u001b[0m \u001b[0mlen\u001b[0m\u001b[0;34m(\u001b[0m\u001b[0mbins\u001b[0m\u001b[0;34m)\u001b[0m\u001b[0;34m\u001b[0m\u001b[0;34m\u001b[0m\u001b[0m\n\u001b[1;32m   1032\u001b[0m         \u001b[0;32mif\u001b[0m \u001b[0mM\u001b[0m \u001b[0;34m!=\u001b[0m \u001b[0mD\u001b[0m\u001b[0;34m:\u001b[0m\u001b[0;34m\u001b[0m\u001b[0;34m\u001b[0m\u001b[0m\n\u001b[0;32m-> 1033\u001b[0;31m             raise ValueError(\n\u001b[0m\u001b[1;32m   1034\u001b[0m                 \u001b[0;34m'The dimension of bins must be equal to the dimension of the '\u001b[0m\u001b[0;34m\u001b[0m\u001b[0;34m\u001b[0m\u001b[0m\n\u001b[1;32m   1035\u001b[0m                 ' sample x.')\n",
      "\u001b[0;31mValueError\u001b[0m: The dimension of bins must be equal to the dimension of the  sample x."
     ]
    }
   ],
   "source": [
    "\n",
    "deltax = np.histogramdd(Pos, bins=edges, weights=None)[0].astype(\"float\")"
   ]
  },
  {
   "cell_type": "markdown",
   "metadata": {},
   "source": [
    "## Do calculations (mean and total)\n",
    "Calculate the average number of galaxies (mean)\n",
    "And the num of galaxies (which should jsut be the total number in the sample 1648367.0)"
   ]
  },
  {
   "cell_type": "markdown",
   "metadata": {},
   "source": [
    "## Calculate the density and the PS"
   ]
  },
  {
   "cell_type": "code",
   "execution_count": null,
   "metadata": {},
   "outputs": [],
   "source": [
    "#p_k_field, bins_field = get_power(deltax, binsx)\n",
    "#p_k_field\n",
    "#bins_field"
   ]
  },
  {
   "cell_type": "markdown",
   "metadata": {},
   "source": [
    "# PLOT"
   ]
  },
  {
   "cell_type": "code",
   "execution_count": null,
   "metadata": {},
   "outputs": [],
   "source": []
  }
 ],
 "metadata": {
  "kernelspec": {
   "display_name": "Python 3",
   "language": "python",
   "name": "python3"
  },
  "language_info": {
   "codemirror_mode": {
    "name": "ipython",
    "version": 3
   },
   "file_extension": ".py",
   "mimetype": "text/x-python",
   "name": "python",
   "nbconvert_exporter": "python",
   "pygments_lexer": "ipython3",
   "version": "3.8.3"
  }
 },
 "nbformat": 4,
 "nbformat_minor": 4
}
