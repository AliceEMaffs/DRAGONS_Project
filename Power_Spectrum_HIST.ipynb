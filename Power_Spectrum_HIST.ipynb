{
 "cells": [
  {
   "cell_type": "markdown",
   "metadata": {},
   "source": [
    "# Power Spectrum \n",
    "## Calculate the power spectrum using a 3D grid\n",
    "Generate a the density field of the galaxy positions using a 3D grid\n",
    "Using the 3D grid, then calculate the power spectrum using the powerbox package"
   ]
  },
  {
   "cell_type": "code",
   "execution_count": 1,
   "metadata": {},
   "outputs": [
    {
     "name": "stdout",
     "output_type": "stream",
     "text": [
      "[4.9999988  4.01575197 2.99733298 2.00100053 1.50871276 0.99933302\n",
      " 0.50100094 0.        ]\n",
      "[100 115 134 158 173 192 216 250]\n"
     ]
    },
    {
     "data": {
      "text/plain": [
       "Index(['HaloID', 'ID', 'Type', 'CentralGal', 'GhostFlag', 'Len', 'MaxLen',\n",
       "       'Spin', 'Mvir', 'Rvir', 'Vvir', 'Vmax', 'FOFMvir', 'HotGas',\n",
       "       'MetalsHotGas', 'ColdGas', 'MetalsColdGas', 'H2Frac', 'H2Mass',\n",
       "       'HIMass', 'Mcool', 'DiskScaleLength', 'StellarMass', 'GrossStellarMass',\n",
       "       'MetalsStellarMass', 'Sfr', 'EjectedGas', 'MetalsEjectedGas',\n",
       "       'BlackHoleMass', 'Rcool', 'Cos_Inc', 'MergTime', 'MergerStartRadius',\n",
       "       'BaryonFracModifier', 'FOFMvirModifier', 'MvirCrit', 'MergerBurstMass',\n",
       "       'MWMSA', 'Fesc', 'FescWeightedGSM', 'FescBH', 'BHemissivity',\n",
       "       'EffectiveBHM', 'BlackHoleAccretedHotMass', 'BlackHoleAccretedColdMass',\n",
       "       'dt', 'Pos_0', 'Pos_1', 'Pos_2', 'Vel_0', 'Vel_1', 'Vel_2',\n",
       "       'NewStars_0', 'NewStars_1', 'NewStars_2', 'NewStars_3', 'NewStars_4'],\n",
       "      dtype='object')"
      ]
     },
     "execution_count": 1,
     "metadata": {},
     "output_type": "execute_result"
    }
   ],
   "source": [
    "# Power Spectrum plot\n",
    "import matplotlib.pyplot as plt\n",
    "import numpy as np\n",
    "import powerbox as pbox\n",
    "from Functions import *\n",
    "from mpl_toolkits import mplot3d\n",
    "from powerbox import get_power\n",
    "from scipy import stats\n",
    "import statistics\n",
    "import pandas as pd\n",
    "\n",
    "# Redshift = 0 \n",
    "#get gals, snaps, sims_props\n",
    "snapshot_used = 250 # z = 0\n",
    "gals, sim_props, snaplist = get_gal_catalogue(snapshot_used)\n",
    "#ngals = len(gals)\n",
    "#print(ngals)\n",
    "#gals.columns #returns all avaiable properties of galxies\n",
    "#gals[gals.replace([np.inf, -np.inf], np.nan).notnull().all(axis=1)]# remove infs\n",
    "#gals.dropna()# drop nan values\n",
    "\n",
    "# See other available Snaps and Redshifts\n",
    "reds = snaplist[1]\n",
    "snaps = snaplist[0]\n",
    "print(reds)\n",
    "print(snaps)\n",
    "\n",
    "# get mass and convert to proper units\n",
    "#gals[\"HIMass\"] = np.log10(gals[\"HIMass\"]*1e10)\n",
    "#HI_Mass = gals[\"HIMass\"]\n",
    "\n",
    "# using positions [x,y,x]\n",
    "pos_x = gals[\"Pos_0\"]\n",
    "pos_y = gals[\"Pos_1\"]\n",
    "pos_z = gals[\"Pos_2\"]\n",
    "\n",
    "Pos = np.array([pos_x, pos_y, pos_z])\n",
    "Pos.T.shape\n",
    "Pos_new=Pos.T # Transpose the Pos so it is in format (N,D) array\n",
    "Pos_new.shape\n",
    "\n",
    "snaplist_index_used = list(snaplist[0]).index(snapshot_used)# convert to list and find the index of the snap we are using\n",
    "redshift_used = snaplist[1][snaplist_index_used] # Get the redshift for corresponding snapshot\n",
    "redshift_used = str(round(redshift_used, 1)) # round float to nearest whole int\n",
    "gals.columns #returns all avaiable properties of galxies\n",
    "\n",
    "#sim_props # returns sim props if you want to check"
   ]
  },
  {
   "cell_type": "markdown",
   "metadata": {},
   "source": [
    "## Create 3D grid of galaxy positions\n",
    "### 1. Calculate the edges of the grid\n",
    "### 2. Calculate the deltax\n",
    "    delta x = (Pos/edges)\n",
    "### 3. Get the 3D grid\n",
    "    using histogram 3D"
   ]
  },
  {
   "cell_type": "code",
   "execution_count": 2,
   "metadata": {},
   "outputs": [],
   "source": [
    "# getting bits ready for 3D grid \n",
    "boxsize = 178.57142857142858 # get the box size, this is from sims pops \n",
    "dim = len(Pos) # number of dimensions in 3D space =3\n",
    "boxlength = [boxsize] * dim #get box length for each side of box\n",
    "N = pos_x.shape # = 1648367\n",
    "#N = 100\n",
    "V = np.product(boxlength)\n",
    "#print('dim : ', dim)\n",
    "#print('boxlength : ', boxlength)\n",
    "#print('N : ', N)\n",
    "#print('V : ', V)\n",
    "#N_dim = [N] * dim # to make iterable\n",
    "#print('N : ', N)\n",
    "#print('Pos : ', Pos)\n",
    "#Pos = np.squeeze(Pos)\n",
    "#print('Pos : ', Pos)\n",
    "#N[0] / boxsize"
   ]
  },
  {
   "cell_type": "code",
   "execution_count": 14,
   "metadata": {},
   "outputs": [
    {
     "data": {
      "text/plain": [
       "array([[[ 1., 16.,  0., ..., 17.,  1.,  0.],\n",
       "        [ 4., 18.,  7., ...,  2.,  9.,  1.],\n",
       "        [ 3.,  0.,  0., ...,  2.,  2., 15.],\n",
       "        ...,\n",
       "        [ 0.,  1.,  0., ...,  3.,  5.,  1.],\n",
       "        [ 0.,  0.,  0., ...,  4.,  3.,  1.],\n",
       "        [ 0.,  0.,  0., ...,  6., 15.,  0.]],\n",
       "\n",
       "       [[ 1.,  1.,  1., ...,  9.,  7.,  3.],\n",
       "        [ 0.,  0.,  0., ..., 23., 12.,  0.],\n",
       "        [ 0.,  1.,  0., ...,  2.,  1.,  0.],\n",
       "        ...,\n",
       "        [ 0.,  4.,  4., ...,  1.,  1.,  7.],\n",
       "        [ 0.,  1.,  1., ...,  0.,  4.,  2.],\n",
       "        [ 2.,  4.,  0., ...,  0.,  8.,  3.]],\n",
       "\n",
       "       [[ 0.,  0.,  0., ...,  5., 47.,  4.],\n",
       "        [ 0.,  0.,  0., ...,  9.,  2.,  1.],\n",
       "        [ 0.,  0.,  3., ...,  1.,  0.,  2.],\n",
       "        ...,\n",
       "        [ 7.,  2.,  6., ...,  0.,  0.,  5.],\n",
       "        [18., 17., 10., ...,  1.,  2., 20.],\n",
       "        [ 2.,  2.,  0., ...,  2., 12., 15.]],\n",
       "\n",
       "       ...,\n",
       "\n",
       "       [[ 0.,  0.,  1., ...,  0.,  1.,  0.],\n",
       "        [ 0.,  0.,  0., ...,  0.,  0.,  0.],\n",
       "        [ 1.,  0.,  0., ...,  0.,  0.,  0.],\n",
       "        ...,\n",
       "        [ 0.,  0.,  0., ...,  0.,  3.,  3.],\n",
       "        [ 0.,  0.,  0., ...,  1.,  2.,  1.],\n",
       "        [ 0.,  0.,  2., ...,  2.,  0.,  0.]],\n",
       "\n",
       "       [[ 0.,  3.,  4., ...,  1.,  0.,  0.],\n",
       "        [ 0.,  2.,  0., ...,  0.,  0.,  0.],\n",
       "        [ 2.,  0.,  0., ...,  0.,  0.,  0.],\n",
       "        ...,\n",
       "        [ 0.,  1.,  2., ...,  0.,  8.,  2.],\n",
       "        [ 0.,  0.,  0., ...,  0.,  5.,  0.],\n",
       "        [ 0.,  0.,  1., ...,  2.,  1.,  0.]],\n",
       "\n",
       "       [[ 0.,  3.,  7., ...,  1.,  1.,  1.],\n",
       "        [ 5.,  1.,  0., ...,  2.,  0.,  0.],\n",
       "        [ 1.,  5.,  0., ...,  0.,  0.,  5.],\n",
       "        ...,\n",
       "        [ 1.,  0.,  0., ...,  0.,  5.,  0.],\n",
       "        [ 0.,  0.,  1., ...,  1.,  2.,  2.],\n",
       "        [ 0.,  4.,  0., ...,  5.,  4.,  1.]]])"
      ]
     },
     "execution_count": 14,
     "metadata": {},
     "output_type": "execute_result"
    }
   ],
   "source": [
    "nbins=100 # define the number of bins for our 3D grid\n",
    "deltax, edges = np.histogramdd(Pos_new, bins=nbins) #[0].astype(\"float\") # calculate the 3D grid using histogramdd\n",
    "deltax.shape, edges[0].size, edges[1].size, edges[2].size\n",
    "#so its done 10 x omega = deltax / np.mean(deltax) - 1 # calcualte the over density\n",
    "#print('omega: ', omega)10 x 10 by default\n",
    "deltax # This returns the number of galaxies in each grid"
   ]
  },
  {
   "cell_type": "markdown",
   "metadata": {},
   "source": [
    "## Do calculations (mean and total)\n",
    "Calculate the average number of galaxies (mean)\n",
    "And the num of galaxies (which should jsut be the total number in the sample 1648367.0)"
   ]
  },
  {
   "cell_type": "code",
   "execution_count": 15,
   "metadata": {},
   "outputs": [
    {
     "data": {
      "text/plain": [
       "array([[[-0.39333898,  8.70657627, -1.        , ...,  9.31323728,\n",
       "         -0.39333898, -1.        ],\n",
       "        [ 1.42664407,  9.9198983 ,  3.24662712, ...,  0.21332203,\n",
       "          4.45994915, -0.39333898],\n",
       "        [ 0.81998305, -1.        , -1.        , ...,  0.21332203,\n",
       "          0.21332203,  8.09991525],\n",
       "        ...,\n",
       "        [-1.        , -0.39333898, -1.        , ...,  0.81998305,\n",
       "          2.03330508, -0.39333898],\n",
       "        [-1.        , -1.        , -1.        , ...,  1.42664407,\n",
       "          0.81998305, -0.39333898],\n",
       "        [-1.        , -1.        , -1.        , ...,  2.6399661 ,\n",
       "          8.09991525, -1.        ]],\n",
       "\n",
       "       [[-0.39333898, -0.39333898, -0.39333898, ...,  4.45994915,\n",
       "          3.24662712,  0.81998305],\n",
       "        [-1.        , -1.        , -1.        , ..., 12.95320338,\n",
       "          6.2799322 , -1.        ],\n",
       "        [-1.        , -0.39333898, -1.        , ...,  0.21332203,\n",
       "         -0.39333898, -1.        ],\n",
       "        ...,\n",
       "        [-1.        ,  1.42664407,  1.42664407, ..., -0.39333898,\n",
       "         -0.39333898,  3.24662712],\n",
       "        [-1.        , -0.39333898, -0.39333898, ..., -1.        ,\n",
       "          1.42664407,  0.21332203],\n",
       "        [ 0.21332203,  1.42664407, -1.        , ..., -1.        ,\n",
       "          3.85328813,  0.81998305]],\n",
       "\n",
       "       [[-1.        , -1.        , -1.        , ...,  2.03330508,\n",
       "         27.51306778,  1.42664407],\n",
       "        [-1.        , -1.        , -1.        , ...,  4.45994915,\n",
       "          0.21332203, -0.39333898],\n",
       "        [-1.        , -1.        ,  0.81998305, ..., -0.39333898,\n",
       "         -1.        ,  0.21332203],\n",
       "        ...,\n",
       "        [ 3.24662712,  0.21332203,  2.6399661 , ..., -1.        ,\n",
       "         -1.        ,  2.03330508],\n",
       "        [ 9.9198983 ,  9.31323728,  5.06661017, ..., -0.39333898,\n",
       "          0.21332203, 11.13322033],\n",
       "        [ 0.21332203,  0.21332203, -1.        , ...,  0.21332203,\n",
       "          6.2799322 ,  8.09991525]],\n",
       "\n",
       "       ...,\n",
       "\n",
       "       [[-1.        , -1.        , -0.39333898, ..., -1.        ,\n",
       "         -0.39333898, -1.        ],\n",
       "        [-1.        , -1.        , -1.        , ..., -1.        ,\n",
       "         -1.        , -1.        ],\n",
       "        [-0.39333898, -1.        , -1.        , ..., -1.        ,\n",
       "         -1.        , -1.        ],\n",
       "        ...,\n",
       "        [-1.        , -1.        , -1.        , ..., -1.        ,\n",
       "          0.81998305,  0.81998305],\n",
       "        [-1.        , -1.        , -1.        , ..., -0.39333898,\n",
       "          0.21332203, -0.39333898],\n",
       "        [-1.        , -1.        ,  0.21332203, ...,  0.21332203,\n",
       "         -1.        , -1.        ]],\n",
       "\n",
       "       [[-1.        ,  0.81998305,  1.42664407, ..., -0.39333898,\n",
       "         -1.        , -1.        ],\n",
       "        [-1.        ,  0.21332203, -1.        , ..., -1.        ,\n",
       "         -1.        , -1.        ],\n",
       "        [ 0.21332203, -1.        , -1.        , ..., -1.        ,\n",
       "         -1.        , -1.        ],\n",
       "        ...,\n",
       "        [-1.        , -0.39333898,  0.21332203, ..., -1.        ,\n",
       "          3.85328813,  0.21332203],\n",
       "        [-1.        , -1.        , -1.        , ..., -1.        ,\n",
       "          2.03330508, -1.        ],\n",
       "        [-1.        , -1.        , -0.39333898, ...,  0.21332203,\n",
       "         -0.39333898, -1.        ]],\n",
       "\n",
       "       [[-1.        ,  0.81998305,  3.24662712, ..., -0.39333898,\n",
       "         -0.39333898, -0.39333898],\n",
       "        [ 2.03330508, -0.39333898, -1.        , ...,  0.21332203,\n",
       "         -1.        , -1.        ],\n",
       "        [-0.39333898,  2.03330508, -1.        , ..., -1.        ,\n",
       "         -1.        ,  2.03330508],\n",
       "        ...,\n",
       "        [-0.39333898, -1.        , -1.        , ..., -1.        ,\n",
       "          2.03330508, -1.        ],\n",
       "        [-1.        , -1.        , -0.39333898, ..., -0.39333898,\n",
       "          0.21332203,  0.21332203],\n",
       "        [-1.        ,  1.42664407, -1.        , ...,  2.03330508,\n",
       "          1.42664407, -0.39333898]]])"
      ]
     },
     "execution_count": 15,
     "metadata": {},
     "output_type": "execute_result"
    }
   ],
   "source": [
    "omega = deltax / np.mean(deltax) - 1 # calcualte the over density\n",
    "#print('omega: ', omega)\n",
    "omega"
   ]
  },
  {
   "cell_type": "markdown",
   "metadata": {},
   "source": [
    "## Calculate the density and the PS"
   ]
  },
  {
   "cell_type": "code",
   "execution_count": 16,
   "metadata": {},
   "outputs": [
    {
     "name": "stdout",
     "output_type": "stream",
     "text": [
      "p_k_field:  [2.28049758e+04 7.19283904e+03 3.62970893e+03 2.06983207e+03\n",
      " 1.29835118e+03 9.81485910e+02 7.54174485e+02 5.95887144e+02\n",
      " 4.70606528e+02 3.75158253e+02 3.09716048e+02 2.57850169e+02\n",
      " 2.11915413e+02 1.78223102e+02 1.51220438e+02 1.24648646e+02\n",
      " 1.02994025e+02 8.81275957e+01 7.58586037e+01 6.43345766e+01\n",
      " 5.58110696e+01 4.85538114e+01 4.24830208e+01 3.75692933e+01\n",
      " 3.33622297e+01 3.05101714e+01 2.80439155e+01 2.49476944e+01\n",
      " 2.20122864e+01 2.01257304e+01 1.80903947e+01 1.65838288e+01\n",
      " 1.53749881e+01 1.43250280e+01 1.34783129e+01 1.25616927e+01\n",
      " 1.18331826e+01 1.06211950e+01 1.00671305e+01 9.63059678e+00\n",
      " 9.03412714e+00 8.55382140e+00 8.16048286e+00 7.79497626e+00\n",
      " 8.82192390e+00]\n",
      "bins_field:  [0.04799214 0.10959976 0.17428318 0.2405599  0.30784351 0.37472226\n",
      " 0.44200932 0.51023162 0.57794496 0.64476824 0.71159926 0.77940613\n",
      " 0.84666307 0.91401959 0.98231731 1.05031773 1.11841142 1.18574607\n",
      " 1.25337056 1.32152162 1.38861865 1.45591685 1.52397183 1.59201049\n",
      " 1.65958056 1.72693376 1.79406844 1.86173394 1.92951744 1.99737045\n",
      " 2.06479123 2.13199136 2.19951561 2.26757675 2.33534385 2.40186815\n",
      " 2.46921026 2.53792584 2.60492077 2.67213652 2.73981684 2.80464744\n",
      " 2.87145335 2.94102486 2.99644259]\n"
     ]
    }
   ],
   "source": [
    "# Calculate power spectrum using powerbox package function get_power\n",
    "p_k_field, bins_field = get_power(omega, boxlength)#, deltax2=None, N=N, a=1., b=1., remove_shotnoise=True,\n",
    "              #bins=None, res_ndim=None, weights=None, weights2=None,\n",
    "              #dimensionless=True, bin_ave=True, get_variance=False, log_bins=False, ignore_zero_mode=False,\n",
    "              #k_weights = 1,\n",
    "              #)\n",
    "                \n",
    "                \n",
    "print('p_k_field: ', p_k_field)\n",
    "print('bins_field: ', bins_field)\n"
   ]
  },
  {
   "cell_type": "markdown",
   "metadata": {},
   "source": [
    "## Now lets do the HI Mass Power Spectrum\n",
    "### The only difference is that we add weights (HI_Mass is the weights for the PS)"
   ]
  },
  {
   "cell_type": "code",
   "execution_count": 17,
   "metadata": {},
   "outputs": [
    {
     "name": "stdout",
     "output_type": "stream",
     "text": [
      "p_k_field:  [2.28049758e+04 7.19283904e+03 3.62970893e+03 2.06983207e+03\n",
      " 1.29835118e+03 9.81485910e+02 7.54174485e+02 5.95887144e+02\n",
      " 4.70606528e+02 3.75158253e+02 3.09716048e+02 2.57850169e+02\n",
      " 2.11915413e+02 1.78223102e+02 1.51220438e+02 1.24648646e+02\n",
      " 1.02994025e+02 8.81275957e+01 7.58586037e+01 6.43345766e+01\n",
      " 5.58110696e+01 4.85538114e+01 4.24830208e+01 3.75692933e+01\n",
      " 3.33622297e+01 3.05101714e+01 2.80439155e+01 2.49476944e+01\n",
      " 2.20122864e+01 2.01257304e+01 1.80903947e+01 1.65838288e+01\n",
      " 1.53749881e+01 1.43250280e+01 1.34783129e+01 1.25616927e+01\n",
      " 1.18331826e+01 1.06211950e+01 1.00671305e+01 9.63059678e+00\n",
      " 9.03412714e+00 8.55382140e+00 8.16048286e+00 7.79497626e+00\n",
      " 8.82192390e+00]\n",
      "bins_field:  [0.04799214 0.10959976 0.17428318 0.2405599  0.30784351 0.37472226\n",
      " 0.44200932 0.51023162 0.57794496 0.64476824 0.71159926 0.77940613\n",
      " 0.84666307 0.91401959 0.98231731 1.05031773 1.11841142 1.18574607\n",
      " 1.25337056 1.32152162 1.38861865 1.45591685 1.52397183 1.59201049\n",
      " 1.65958056 1.72693376 1.79406844 1.86173394 1.92951744 1.99737045\n",
      " 2.06479123 2.13199136 2.19951561 2.26757675 2.33534385 2.40186815\n",
      " 2.46921026 2.53792584 2.60492077 2.67213652 2.73981684 2.80464744\n",
      " 2.87145335 2.94102486 2.99644259]\n"
     ]
    }
   ],
   "source": [
    "p_k_field_HI_Mass, bins_field_HI_Mass = get_power(omega, boxlength, weights=gals[\"HIMass\"])#, deltax2=None, N=N, a=1., b=1., remove_shotnoise=True,\n",
    "                \n",
    "print('p_k_field (HI Mass): ', p_k_field_HI_Mass)\n",
    "print('bins_field (HI Mass): ', bins_field_HI_Mass)"
   ]
  },
  {
   "cell_type": "markdown",
   "metadata": {},
   "source": [
    "# PLOT\n",
    "## GALAXY PS"
   ]
  },
  {
   "cell_type": "code",
   "execution_count": 19,
   "metadata": {},
   "outputs": [
    {
     "data": {
      "image/png": "[encoded data removed]",
      "text/plain": [
       "<Figure size 432x288 with 1 Axes>"
      ]
     },
     "metadata": {
      "needs_background": "light"
     },
     "output_type": "display_data"
    }
   ],
   "source": [
    "fig, ax = plt.subplots(1, 1)\n",
    "label_z = (\"z = \" + redshift_used)\n",
    "#ax.set_ylim([0,3500])\n",
    "#ax.set_xlim([0.1,1])\n",
    "ax.set_xlabel(r\"$k$ $[Mpc^{-1}]$\")\n",
    "ax.set_ylabel(r\"$P_{HI}(k)$ $[Mpc^{3}]$\")\n",
    "plt.xscale('log')\n",
    "plt.yscale('log')\n",
    "ax.plot(bins_field,p_k_field,color=\"black\", label=label_z)\n",
    "\n",
    "plt.legend(title=(\"DRAGONS\"),\n",
    "           loc='upper right',\n",
    "           fontsize=12)\n",
    "\n",
    "nbins = str(nbins)\n",
    "name_of_plot=(\"PowerSpectrum_Galaxies\" + nbins)\n",
    "plt.savefig(\"plots/\" + name_of_plot + \".pdf\")"
   ]
  },
  {
   "cell_type": "markdown",
   "metadata": {},
   "source": [
    "# HI MASS PS"
   ]
  },
  {
   "cell_type": "code",
   "execution_count": 20,
   "metadata": {},
   "outputs": [
    {
     "data": {
      "image/png": "[encoded data removed]",
      "text/plain": [
       "<Figure size 432x288 with 1 Axes>"
      ]
     },
     "metadata": {
      "needs_background": "light"
     },
     "output_type": "display_data"
    }
   ],
   "source": [
    "fig, ax = plt.subplots(1, 1)\n",
    "label_z = (\"z = \" + redshift_used)\n",
    "#ax.set_ylim([0,3500])\n",
    "#ax.set_xlim([0.1,1])\n",
    "ax.set_xlabel(r\"$k$ $[Mpc^{-1}]$\")\n",
    "ax.set_ylabel(r\"$P_{HI}(k)$ $[Mpc^{3}]$\")\n",
    "plt.xscale('log')\n",
    "plt.yscale('log')\n",
    "ax.plot(bins_field_HI_Mass,p_k_field_HI_Mass,color=\"deepskyblue\", label=label_z)\n",
    "\n",
    "plt.legend(title=(\"DRAGONS\"),\n",
    "           loc='upper right',\n",
    "           fontsize=12)\n",
    "\n",
    "nbins = str(nbins)\n",
    "name_of_plot=(\"PowerSpectrum_HIMass\" + nbins)\n",
    "plt.savefig(\"plots/\" + name_of_plot + \".pdf\")"
   ]
  },
  {
   "cell_type": "code",
   "execution_count": null,
   "metadata": {},
   "outputs": [],
   "source": []
  }
 ],
 "metadata": {
  "kernelspec": {
   "display_name": "Python 3",
   "language": "python",
   "name": "python3"
  },
  "language_info": {
   "codemirror_mode": {
    "name": "ipython",
    "version": 3
   },
   "file_extension": ".py",
   "mimetype": "text/x-python",
   "name": "python",
   "nbconvert_exporter": "python",
   "pygments_lexer": "ipython3",
   "version": "3.8.3"
  }
 },
 "nbformat": 4,
 "nbformat_minor": 4
}
