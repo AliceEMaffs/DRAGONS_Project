{
 "cells": [
  {
   "cell_type": "markdown",
   "metadata": {},
   "source": [
    "# Code to plot the Hydrogen mass functions with satelittes and centrals separately and on the same graph for z = 1\n"
   ]
  },
  {
   "cell_type": "code",
   "execution_count": 1,
   "metadata": {},
   "outputs": [
    {
     "name": "stdout",
     "output_type": "stream",
     "text": [
      "\n",
      "units\n",
      "=====\n",
      "BHemissivity : 1e60 photons\n",
      "BaryonFracModifier : None\n",
      "BlackHoleAccretedColdMass : 1e10 solMass\n",
      "BlackHoleAccretedHotMass : 1e10 solMass\n",
      "BlackHoleMass : 1e10 solMass\n",
      "CentralGal : None\n",
      "ColdGas : 1e10 solMass\n",
      "Cos_Inc : None\n",
      "DiskScaleLength : Mpc\n",
      "EffectiveBHM : 1e10 solMass\n",
      "EjectedGas : 1e10 solMass\n",
      "FOFMvir : 1e10 solMass\n",
      "FOFMvirModifier : None\n",
      "Fesc : None\n",
      "FescBH : None\n",
      "FescWeightedGSM : 1e10 solMass\n",
      "GhostFlag : None\n",
      "GrossStellarMass : 1e10 solMass\n",
      "H2Frac : None\n",
      "H2Mass : 1e10 solMass\n",
      "HIMass : 1e10 solMass\n",
      "HaloID : None\n",
      "HotGas : 1e10 solMass\n",
      "ID : None\n",
      "Len : None\n",
      "MWMSA : Myr\n",
      "MaxLen : None\n",
      "Mcool : 1e10 solMass\n",
      "MergTime : Myr\n",
      "MergerBurstMass : 1e10 solMass\n",
      "MergerStartRadius : Mpc\n",
      "MetalsColdGas : 1e10 solMass\n",
      "MetalsEjectedGas : 1e10 solMass\n",
      "MetalsHotGas : 1e10 solMass\n",
      "MetalsStellarMass : 1e10 solMass\n",
      "Mvir : 1e10 solMass\n",
      "MvirCrit : 1e10 solMass\n",
      "NewStars : 1e10 solMass\n",
      "Pos : Mpc\n",
      "Rcool : Mpc\n",
      "Rvir : Mpc\n",
      "Sfr : solMass/yr\n",
      "Spin : None\n",
      "StellarMass : 1e10 solMass\n",
      "Type : None\n",
      "Vel : km/s\n",
      "Vmax : km/s\n",
      "Vvir : km/s\n",
      "dt : Myr\n",
      "\n"
     ]
    }
   ],
   "source": [
    "# First off, import the packages we need\n",
    "import numpy as np  # work horse package for numerical work in python\n",
    "import matplotlib.pyplot as plt  # plotting library\n",
    "from dragons import meraxes, munge# DRAGONS modules for reading and dealing with model ouput\n",
    "from Functions import * # See Functions.py if unsure on functions used throughout this script\n",
    "\n",
    "# get galaxy catalogue (See Functions.py)\n",
    "gals, sim_props, snaplist, fname_in = get_gal_catalogue(250) \n",
    "print_units(fname_in)  # print units of gal props"
   ]
  },
  {
   "cell_type": "code",
   "execution_count": 2,
   "metadata": {},
   "outputs": [
    {
     "name": "stderr",
     "output_type": "stream",
     "text": [
      "/Applications/anaconda3/lib/python3.7/site-packages/pandas/core/series.py:679: RuntimeWarning: divide by zero encountered in log10\n",
      "  result = getattr(ufunc, method)(*inputs, **kwargs)\n"
     ]
    },
    {
     "name": "stdout",
     "output_type": "stream",
     "text": [
      "N_gals  :  [100357  96490  88647  80486  70778  61572  52891  45087  37459  30800\n",
      "  25385  20438  16586  12898   9854   7820   6173   5079   4150   3484\n",
      "   3093   2609   2202   1909   1538   1270    978    802    548    433\n",
      "    278    207    119     70     39     18     15      7      6      4\n",
      "      4      2      6      2      3      3      0      0      0      2]\n",
      "edges  :  [ 7.5   7.58  7.66  7.74  7.82  7.9   7.98  8.06  8.14  8.22  8.3   8.38\n",
      "  8.46  8.54  8.62  8.7   8.78  8.86  8.94  9.02  9.1   9.18  9.26  9.34\n",
      "  9.42  9.5   9.58  9.66  9.74  9.82  9.9   9.98 10.06 10.14 10.22 10.3\n",
      " 10.38 10.46 10.54 10.62 10.7  10.78 10.86 10.94 11.02 11.1  11.18 11.26\n",
      " 11.34 11.42 11.5 ]\n",
      "bin width  :  0.08000000000000007\n",
      "bin_center :  [ 7.54  7.62  7.7   7.78  7.86  7.94  8.02  8.1   8.18  8.26  8.34  8.42\n",
      "  8.5   8.58  8.66  8.74  8.82  8.9   8.98  9.06  9.14  9.22  9.3   9.38\n",
      "  9.46  9.54  9.62  9.7   9.78  9.86  9.94 10.02 10.1  10.18 10.26 10.34\n",
      " 10.42 10.5  10.58 10.66 10.74 10.82 10.9  10.98 11.06 11.14 11.22 11.3\n",
      " 11.38 11.46]\n",
      "phi  :  [2.20303686e-01 2.11814848e-01 1.94597894e-01 1.76682867e-01\n",
      " 1.55371866e-01 1.35162854e-01 1.16106323e-01 9.89749824e-02\n",
      " 8.22299968e-02 6.76121600e-02 5.57251520e-02 4.48654976e-02\n",
      " 3.64095872e-02 2.83136896e-02 2.16315008e-02 1.71664640e-02\n",
      " 1.35509696e-02 1.11494208e-02 9.11008000e-03 7.64807680e-03\n",
      " 6.78975360e-03 5.72727680e-03 4.83383040e-03 4.19063680e-03\n",
      " 3.37621760e-03 2.78790400e-03 2.14690560e-03 1.76055040e-03\n",
      " 1.20296960e-03 9.50521600e-04 6.10265600e-04 4.54406400e-04\n",
      " 2.61228800e-04 1.53664000e-04 8.56128000e-05 3.95136000e-05\n",
      " 3.29280000e-05 1.53664000e-05 1.31712000e-05 8.78080000e-06\n",
      " 8.78080000e-06 4.39040000e-06 1.31712000e-05 4.39040000e-06\n",
      " 6.58560000e-06 6.58560000e-06 0.00000000e+00 0.00000000e+00\n",
      " 0.00000000e+00 4.39040000e-06]\n"
     ]
    }
   ],
   "source": [
    "# convert units to log10(M/Msol)\n",
    "gals[\"HIMass\"] = np.log10(gals[\"HIMass\"]*1e10)\n",
    "\n",
    "# Calculate the HIMF (Atomic Hydrogen Mass Function)\n",
    "HImf = calc_mass_function(gals[\"HIMass\"], sim_props[\"Volume\"], bins=50,\n",
    "                         range=(7.5, 11.5))"
   ]
  },
  {
   "cell_type": "code",
   "execution_count": 3,
   "metadata": {},
   "outputs": [
    {
     "name": "stderr",
     "output_type": "stream",
     "text": [
      "/Applications/anaconda3/lib/python3.7/site-packages/ipykernel_launcher.py:8: RuntimeWarning: divide by zero encountered in log10\n",
      "  \n"
     ]
    },
    {
     "data": {
      "image/png": "[encoded data removed]",
      "text/plain": [
       "<Figure size 432x288 with 1 Axes>"
      ]
     },
     "metadata": {
      "needs_background": "light"
     },
     "output_type": "display_data"
    }
   ],
   "source": [
    "# Now let's plot the mass function...\n",
    "# Create a new figure (with 1 column and 1 row) and axis\n",
    "fig, ax = plt.subplots(1, 1)\n",
    "\n",
    "# plt.title(\"Hydrogen Mass Function for z = 1, separating Central and Satelitte Galaxies\")\n",
    "\n",
    "# Plot the mass function\n",
    "ax.plot(HImf[:, 0], np.log10(HImf[:, 1]), color=\"RoyalBlue\", lw=2,\n",
    "        label=\"z = 1\")\n",
    "\n",
    "# Set the axis labels - note the use of LaTeX here.\n",
    "ax.set_xlabel(r\"$\\log_{10}(M_* / {\\rm M_{\\odot}})$\")\n",
    "ax.set_ylabel(r\"$\\log_{10}(\\phi / {\\rm Mpc^3})$\")\n",
    "\n",
    "# Add the legend\n",
    "ax.legend(loc=\"lower left\")\n",
    "\n",
    "# Finally save the figure as a PDF\n",
    "plt.tight_layout()\n",
    "plt.savefig(\"final_plots/HIMF/HIMF.pdf\")"
   ]
  }
 ],
 "metadata": {
  "kernelspec": {
   "display_name": "Python 3",
   "language": "python",
   "name": "python3"
  },
  "language_info": {
   "codemirror_mode": {
    "name": "ipython",
    "version": 3
   },
   "file_extension": ".py",
   "mimetype": "text/x-python",
   "name": "python",
   "nbconvert_exporter": "python",
   "pygments_lexer": "ipython3",
   "version": "3.7.6"
  }
 },
 "nbformat": 4,
 "nbformat_minor": 4
}
