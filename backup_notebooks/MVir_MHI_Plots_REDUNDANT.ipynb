{
 "cells": [
  {
   "cell_type": "code",
   "execution_count": 1,
   "metadata": {},
   "outputs": [
    {
     "name": "stdout",
     "output_type": "stream",
     "text": [
      "0.0\n",
      "[10.410791 10.374163 11.53421  ...  9.782402  9.782402  9.782402]\n",
      "[7.151933  6.5557427 5.017111  ...      -inf      -inf      -inf]\n"
     ]
    },
    {
     "name": "stderr",
     "output_type": "stream",
     "text": [
      "<ipython-input-1-6e11d5cebf4c>:23: RuntimeWarning: divide by zero encountered in log10\n",
      "  log_MHI = np.log10(MHI*1e10)\n",
      "<ipython-input-1-6e11d5cebf4c>:25: RuntimeWarning: divide by zero encountered in log10\n",
      "  log_MHI_Mvir = np.log10(MHI_Mvir*1e10)\n"
     ]
    }
   ],
   "source": [
    "# Script to plot the HI Mass as a function of Halo Mass (M_vir) for all values of z\n",
    "import numpy as np  # work horse package for numerical work in python\n",
    "import matplotlib.pyplot as plt  # plotting library\n",
    "from dragons import meraxes, munge# DRAGONS modules for reading and dealing with model ouput\n",
    "import pandas as pd\n",
    "from Functions import *\n",
    "import matplotlib as mpl\n",
    "mpl.rcParams['agg.path.chunksize'] = 10000\n",
    "\n",
    "# INPUT SNAP SHOT WANTED HERE\n",
    "snapshot_used = 250\n",
    "gals, sim_props, snaplist = get_gal_catalogue(snapshot_used) # Get Galaxy catalogue\n",
    "snaplist_index_used = list(snaplist[0]).index(snapshot_used) # convert to list and find the index of the snap we are using\n",
    "redshift_used = snaplist[1][snaplist_index_used] # Get the redshift for corresponding snapshot\n",
    "redshift_used = round(redshift_used, 1) # round float to nearest 1st decimal\n",
    "redshift_used = str(redshift_used)\n",
    "print(redshift_used)\n",
    "#Get HI Mass (MHI) and Halo Mass (Mvir) and log10(MHI/Mvir) and log10(Mvir)\n",
    "MHI = gals[\"HIMass\"]\n",
    "Mvir = gals[\"Mvir\"]\n",
    "MHI_Mvir = MHI / Mvir\n",
    "# LOG\n",
    "log_MHI = np.log10(MHI*1e10)\n",
    "log_Mvir = np.log10(Mvir*1e10)\n",
    "log_MHI_Mvir = np.log10(MHI_Mvir*1e10)\n",
    "print(log_Mvir)\n",
    "print(log_MHI_Mvir)\n",
    "# Calculate the volume of the simulation \n",
    "Sim_Vol = sim_props[\"Volume\"]"
   ]
  },
  {
   "cell_type": "code",
   "execution_count": 2,
   "metadata": {},
   "outputs": [
    {
     "name": "stdout",
     "output_type": "stream",
     "text": [
      "N_gals  :  [136690 129907 114646  95080  72801  50868  32715  18786   9735   4617\n",
      "   2099   1088    638    436    329    274    210    199    146     87\n",
      "     79     56     46     28     17     16     12      6      2      1\n",
      "      2      0      0      0      0      0      0      0      0      0\n",
      "      0      0      0      0      0      0      0      0      0      0]\n",
      "edges  :  [ 7.5   7.58  7.66  7.74  7.82  7.9   7.98  8.06  8.14  8.22  8.3   8.38\n",
      "  8.46  8.54  8.62  8.7   8.78  8.86  8.94  9.02  9.1   9.18  9.26  9.34\n",
      "  9.42  9.5   9.58  9.66  9.74  9.82  9.9   9.98 10.06 10.14 10.22 10.3\n",
      " 10.38 10.46 10.54 10.62 10.7  10.78 10.86 10.94 11.02 11.1  11.18 11.26\n",
      " 11.34 11.42 11.5 ]\n",
      "bin width  :  0.07999992\n",
      "bin_center :  [ 7.54       7.62       7.7        7.7799997  7.86       7.94\n",
      "  8.02       8.1        8.18       8.26       8.34       8.42\n",
      "  8.5        8.58       8.66       8.74       8.82       8.9\n",
      "  8.98       9.06       9.14       9.22       9.3        9.38\n",
      "  9.46       9.54       9.62       9.7        9.78       9.86\n",
      "  9.94      10.02      10.1       10.18      10.26      10.34\n",
      " 10.42      10.5       10.58      10.66      10.74      10.82\n",
      " 10.9       10.98      11.06      11.14      11.22      11.3\n",
      " 11.38      11.46     ]\n",
      "phi  :  [3.00062174e-01 2.85172118e-01 2.51671139e-01 2.08719815e-01\n",
      " 1.59812908e-01 1.11665540e-01 7.18160365e-02 4.12390665e-02\n",
      " 2.13702924e-02 1.01352481e-02 4.60772919e-03 2.38837988e-03\n",
      " 1.40053894e-03 9.57108113e-04 7.22221489e-04 6.01485374e-04\n",
      " 4.60992440e-04 4.36845217e-04 3.20499506e-04 1.90982582e-04\n",
      " 1.73420965e-04 1.22931317e-04 1.00979296e-04 6.14656586e-05\n",
      " 3.73184356e-05 3.51232335e-05 2.63424251e-05 1.31712126e-05\n",
      " 4.39040419e-06 2.19520209e-06 4.39040419e-06 0.00000000e+00\n",
      " 0.00000000e+00 0.00000000e+00 0.00000000e+00 0.00000000e+00\n",
      " 0.00000000e+00 0.00000000e+00 0.00000000e+00 0.00000000e+00\n",
      " 0.00000000e+00 0.00000000e+00 0.00000000e+00 0.00000000e+00\n",
      " 0.00000000e+00 0.00000000e+00 0.00000000e+00 0.00000000e+00\n",
      " 0.00000000e+00 0.00000000e+00]\n",
      "N_gals  :  [     0      0      0      0      0      0      0      0      0      0\n",
      "      0      0      0      0      0      0      0      0      0      0\n",
      "      0      0      0      0      0      0      0      0 317890 291749\n",
      " 184055 131913 109426  96432  81296  66488  58103  49011  40861  34391\n",
      "  29599  24450  20872  17694  14966  12595  10507   8874   7494   6150]\n",
      "edges  :  [ 7.5   7.58  7.66  7.74  7.82  7.9   7.98  8.06  8.14  8.22  8.3   8.38\n",
      "  8.46  8.54  8.62  8.7   8.78  8.86  8.94  9.02  9.1   9.18  9.26  9.34\n",
      "  9.42  9.5   9.58  9.66  9.74  9.82  9.9   9.98 10.06 10.14 10.22 10.3\n",
      " 10.38 10.46 10.54 10.62 10.7  10.78 10.86 10.94 11.02 11.1  11.18 11.26\n",
      " 11.34 11.42 11.5 ]\n",
      "bin width  :  0.07999992\n",
      "bin_center :  [ 7.54       7.62       7.7        7.7799997  7.86       7.94\n",
      "  8.02       8.1        8.18       8.26       8.34       8.42\n",
      "  8.5        8.58       8.66       8.74       8.82       8.9\n",
      "  8.98       9.06       9.14       9.22       9.3        9.38\n",
      "  9.46       9.54       9.62       9.7        9.78       9.86\n",
      "  9.94      10.02      10.1       10.18      10.26      10.34\n",
      " 10.42      10.5       10.58      10.66      10.74      10.82\n",
      " 10.9       10.98      11.06      11.14      11.22      11.3\n",
      " 11.38      11.46     ]\n",
      "phi  :  [0.         0.         0.         0.         0.         0.\n",
      " 0.         0.         0.         0.         0.         0.\n",
      " 0.         0.         0.         0.         0.         0.\n",
      " 0.         0.         0.         0.         0.         0.\n",
      " 0.         0.         0.         0.         0.69783279 0.64044802\n",
      " 0.40403792 0.28957569 0.24021218 0.21168773 0.17846115 0.1459546\n",
      " 0.12754783 0.10758905 0.08969815 0.0754952  0.06497579 0.05367269\n",
      " 0.04581826 0.03884191 0.03285339 0.02764857 0.02306499 0.01948022\n",
      " 0.01645084 0.01350049]\n",
      "N_gals  :  [100357  96490  88647  80486  70778  61572  52891  45087  37459  30800\n",
      "  25385  20438  16586  12898   9854   7820   6173   5079   4150   3484\n",
      "   3093   2609   2202   1909   1538   1270    978    802    548    433\n",
      "    278    207    119     70     39     18     15      7      6      4\n",
      "      4      2      6      2      3      3      0      0      0      2]\n",
      "edges  :  [ 7.5   7.58  7.66  7.74  7.82  7.9   7.98  8.06  8.14  8.22  8.3   8.38\n",
      "  8.46  8.54  8.62  8.7   8.78  8.86  8.94  9.02  9.1   9.18  9.26  9.34\n",
      "  9.42  9.5   9.58  9.66  9.74  9.82  9.9   9.98 10.06 10.14 10.22 10.3\n",
      " 10.38 10.46 10.54 10.62 10.7  10.78 10.86 10.94 11.02 11.1  11.18 11.26\n",
      " 11.34 11.42 11.5 ]\n",
      "bin width  :  0.07999992\n",
      "bin_center :  [ 7.54       7.62       7.7        7.7799997  7.86       7.94\n",
      "  8.02       8.1        8.18       8.26       8.34       8.42\n",
      "  8.5        8.58       8.66       8.74       8.82       8.9\n",
      "  8.98       9.06       9.14       9.22       9.3        9.38\n",
      "  9.46       9.54       9.62       9.7        9.78       9.86\n",
      "  9.94      10.02      10.1       10.18      10.26      10.34\n",
      " 10.42      10.5       10.58      10.66      10.74      10.82\n",
      " 10.9       10.98      11.06      11.14      11.22      11.3\n",
      " 11.38      11.46     ]\n",
      "phi  :  [2.20303896e-01 2.11815050e-01 1.94598080e-01 1.76683036e-01\n",
      " 1.55372014e-01 1.35162983e-01 1.16106434e-01 9.89750768e-02\n",
      " 8.22300752e-02 6.76122245e-02 5.57252051e-02 4.48655404e-02\n",
      " 3.64096219e-02 2.83137166e-02 2.16315214e-02 1.71664804e-02\n",
      " 1.35509825e-02 1.11494314e-02 9.11008869e-03 7.64808409e-03\n",
      " 6.78976008e-03 5.72728226e-03 4.83383501e-03 4.19064080e-03\n",
      " 3.37622082e-03 2.78790666e-03 2.14690765e-03 1.76055208e-03\n",
      " 1.20297075e-03 9.50522506e-04 6.10266182e-04 4.54406833e-04\n",
      " 2.61229049e-04 1.53664147e-04 8.56128816e-05 3.95136377e-05\n",
      " 3.29280314e-05 1.53664147e-05 1.31712126e-05 8.78080837e-06\n",
      " 8.78080837e-06 4.39040419e-06 1.31712126e-05 4.39040419e-06\n",
      " 6.58560628e-06 6.58560628e-06 0.00000000e+00 0.00000000e+00\n",
      " 0.00000000e+00 4.39040419e-06]\n"
     ]
    },
    {
     "name": "stderr",
     "output_type": "stream",
     "text": [
      "<ipython-input-2-bd63b89d2103>:6: RuntimeWarning: divide by zero encountered in log10\n",
      "  log_HIMF_MHI_Mvir = np.log10(himf_MHI_Mvir[:, 1]) # HMIF of MHI/Mvir\n",
      "<ipython-input-2-bd63b89d2103>:9: RuntimeWarning: divide by zero encountered in log10\n",
      "  log_HIMF_Mvir = np.log10(himf_Mvir[:, 1]) # HIMF Mvir\n",
      "<ipython-input-2-bd63b89d2103>:12: RuntimeWarning: divide by zero encountered in log10\n",
      "  log_HIMF = np.log10(himf_MHI[:, 1]) # HIMF Mvir\n"
     ]
    }
   ],
   "source": [
    "himf_MHI_Mvir = ALICE_mass_function(log_MHI_Mvir,  sim_props[\"Volume\"], bins=50, range=(7.5, 11.5)) # ALL GALS\n",
    "himf_Mvir = ALICE_mass_function(log_Mvir,  sim_props[\"Volume\"], bins=50, range=(7.5, 11.5)) # ALL GALS\n",
    "himf_MHI = ALICE_mass_function(log_MHI,  sim_props[\"Volume\"], bins=50, range=(7.5, 11.5)) # ALL GALS\n",
    "\n",
    "log_MHI_Mvir = himf_MHI_Mvir[:, 0] #ratio masses\n",
    "log_HIMF_MHI_Mvir = np.log10(himf_MHI_Mvir[:, 1]) # HMIF of MHI/Mvir\n",
    "\n",
    "log_Mvir = himf_Mvir[:, 0] # Mvir mass\n",
    "log_HIMF_Mvir = np.log10(himf_Mvir[:, 1]) # HIMF Mvir\n",
    "\n",
    "log_MHI = himf_MHI[:, 0] # Mvir mass\n",
    "log_HIMF = np.log10(himf_MHI[:, 1]) # HIMF Mvir\n"
   ]
  },
  {
   "cell_type": "code",
   "execution_count": 3,
   "metadata": {},
   "outputs": [
    {
     "data": {
      "image/png": "[encoded data removed]",
      "text/plain": [
       "<Figure size 432x288 with 1 Axes>"
      ]
     },
     "metadata": {
      "needs_background": "light"
     },
     "output_type": "display_data"
    }
   ],
   "source": [
    "# FULL PLOT FOR M_HI/M_h as a function of M_h\n",
    "fig, ax = plt.subplots(1, 1)\n",
    "\n",
    "ax.plot(log_Mvir, log_HIMF_MHI_Mvir, color=np.random.rand(3,), lw=2,\n",
    "        label=(\"z = \" + redshift_used))\n",
    "\n",
    "ax.set_xlabel(r\"$\\log_{10}(M_{h}){\\rm M_{\\odot}}$\")\n",
    "ax.set_ylabel(r\"$\\log_{10}(M_{HI}/M_{h})$\")\n",
    "\n",
    "# Add the legend\n",
    "#label_z = (\"z = \" + str(redshift_used))\n",
    "ax.legend(loc=\"lower left\")\n",
    "# Finally save the figure as a PDF\n",
    "plt.tight_layout()\n",
    "\n",
    "name_of_plot=(\"MHIMVir_Mvir\")\n",
    "plt.savefig(\"plots/\" + name_of_plot + \".pdf\")"
   ]
  },
  {
   "cell_type": "code",
   "execution_count": 4,
   "metadata": {},
   "outputs": [
    {
     "data": {
      "image/png": "[encoded data removed]",
      "text/plain": [
       "<Figure size 432x288 with 1 Axes>"
      ]
     },
     "metadata": {
      "needs_background": "light"
     },
     "output_type": "display_data"
    }
   ],
   "source": [
    "# FULL PLOT FOR M_HI as a function of M_h yet\n",
    "fig, ax = plt.subplots(1, 1)\n",
    "\n",
    "ax.plot(log_Mvir, log_MHI, color=np.random.rand(3,), lw=2,\n",
    "        label=(\"z = \" + redshift_used))\n",
    "\n",
    "ax.set_xlabel(r\"$\\log_{10}(M_{h}){\\rm M_{\\odot}}$\")\n",
    "ax.set_ylabel(r\"$\\log_{10}(M_{HI}){\\rm M_{\\odot}}$\")\n",
    "\n",
    "# Add the legend\n",
    "#label_z = (\"z = \" + str(redshift_used))\n",
    "ax.legend(loc=\"lower left\")\n",
    "# Finally save the figure as a PDF\n",
    "plt.tight_layout()\n",
    "\n",
    "name_of_plot=(\"MHI_Mvir\")\n",
    "plt.savefig(\"plots/\" + name_of_plot + \".pdf\")"
   ]
  }
 ],
 "metadata": {
  "kernelspec": {
   "display_name": "Python 3",
   "language": "python",
   "name": "python3"
  },
  "language_info": {
   "codemirror_mode": {
    "name": "ipython",
    "version": 3
   },
   "file_extension": ".py",
   "mimetype": "text/x-python",
   "name": "python",
   "nbconvert_exporter": "python",
   "pygments_lexer": "ipython3",
   "version": "3.8.3"
  }
 },
 "nbformat": 4,
 "nbformat_minor": 4
}
