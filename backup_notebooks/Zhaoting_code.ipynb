{
 "cells": [
  {
   "cell_type": "code",
   "execution_count": 33,
   "metadata": {},
   "outputs": [],
   "source": [
    "import numpy as np  # work horse package for numerical work in python\n",
    "import matplotlib.pyplot as plt  # plotting library\n",
    "from dragons import meraxes, munge\n",
    "import random\n",
    "import sys\n",
    "import statistics as stats\n",
    "\n",
    "# load in the data\n",
    "#Halo_HI_mass_MII_z0 = np.load(\"Zhaoting/Halo_HI_gal_mass_MII_z01.npz\")\n",
    "Halo_HI_mass_MII_z1 = np.load(\"Zhaoting/Halo_HI_gal_mass_MII_z1.npz\")\n"
   ]
  },
  {
   "cell_type": "code",
   "execution_count": 34,
   "metadata": {},
   "outputs": [
    {
     "data": {
      "text/plain": [
       "['M_HI_cen',\n",
       " 'M_HI_sat',\n",
       " 'M',\n",
       " 'uM_HI_sat',\n",
       " 'uM_HI_cen',\n",
       " 'lM_HI_sat',\n",
       " 'lM_HI_cen']"
      ]
     },
     "execution_count": 34,
     "metadata": {},
     "output_type": "execute_result"
    }
   ],
   "source": [
    "#Halo_HI_mass_MII_z0.files #and for example the mass bin will be data[“M”]\n",
    "#Halo_HI_mass_MII_z0.files\n",
    "Halo_HI_mass_MII_z1.files"
   ]
  },
  {
   "cell_type": "code",
   "execution_count": 37,
   "metadata": {},
   "outputs": [],
   "source": [
    "mass = Halo_HI_mass_MII_z1[\"M\"]\n",
    "M_HI_cen = Halo_HI_mass_MII_z1[\"M_HI_cen\"]\n",
    "M_HI_sat = Halo_HI_mass_MII_z1[\"M_HI_sat\"]\n",
    "uM_HI_sat = Halo_HI_mass_MII_z1[\"uM_HI_sat\"]\n",
    "uM_HI_cen = Halo_HI_mass_MII_z1[\"uM_HI_cen\"]\n",
    "lM_HI_sat = Halo_HI_mass_MII_z1[\"lM_HI_sat\"]\n",
    "lM_HI_cen = Halo_HI_mass_MII_z1[\"lM_HI_cen\"]"
   ]
  },
  {
   "cell_type": "code",
   "execution_count": 44,
   "metadata": {},
   "outputs": [
    {
     "data": {
      "text/plain": [
       "array([3.53301206e-04, 6.60917081e-04, 1.09848357e-03, 3.38659971e-03,\n",
       "       1.07556209e-02, 3.75922043e-02, 1.15741439e-01, 2.57177338e-01,\n",
       "       4.48662490e-01, 6.14732921e-01, 7.61123598e-01, 4.32968140e-01,\n",
       "       4.53687310e-01, 2.78748840e-01])"
      ]
     },
     "execution_count": 44,
     "metadata": {},
     "output_type": "execute_result"
    }
   ],
   "source": [
    "M_HI_cen[0]"
   ]
  },
  {
   "cell_type": "code",
   "execution_count": 45,
   "metadata": {},
   "outputs": [
    {
     "name": "stderr",
     "output_type": "stream",
     "text": [
      "No handles with labels found to put in legend.\n"
     ]
    },
    {
     "data": {
      "text/plain": [
       "<matplotlib.legend.Legend at 0x1186101f0>"
      ]
     },
     "execution_count": 45,
     "metadata": {},
     "output_type": "execute_result"
    },
    {
     "data": {
      "image/png": "[encoded data removed]",
      "text/plain": [
       "<Figure size 432x288 with 1 Axes>"
      ]
     },
     "metadata": {
      "needs_background": "light"
     },
     "output_type": "display_data"
    }
   ],
   "source": [
    "fig, ax = plt.subplots(1, 1)\n",
    "ax.set_xlabel(r\"$M_{h} [{\\rm M_{\\odot}}]$\")\n",
    "ax.set_ylabel(r\"$M_{HI} [{\\rm M_{\\odot}}]$\")\n",
    "#ax.set_ylim([6,15])\n",
    "#ax.set_xlim([9.5,14.5])\n",
    "label_sigma0 = (\"$1\\sigma$\")\n",
    "color_used=np.random.rand(3,)\n",
    "ax.plot(mass[0], M_HI_cen[0], color=color_used)\n",
    "\n",
    "plt.legend(title=(\"MII z=1\"),\n",
    "           loc='upper right',\n",
    "           fontsize=12)\n"
   ]
  },
  {
   "cell_type": "code",
   "execution_count": null,
   "metadata": {},
   "outputs": [],
   "source": []
  }
 ],
 "metadata": {
  "kernelspec": {
   "display_name": "Python 3",
   "language": "python",
   "name": "python3"
  },
  "language_info": {
   "codemirror_mode": {
    "name": "ipython",
    "version": 3
   },
   "file_extension": ".py",
   "mimetype": "text/x-python",
   "name": "python",
   "nbconvert_exporter": "python",
   "pygments_lexer": "ipython3",
   "version": "3.8.3"
  }
 },
 "nbformat": 4,
 "nbformat_minor": 4
}
