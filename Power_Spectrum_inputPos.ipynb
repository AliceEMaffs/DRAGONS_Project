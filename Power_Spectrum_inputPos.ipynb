{
 "cells": [
  {
   "cell_type": "markdown",
   "metadata": {},
   "source": [
    "# Power spectrum plot\n",
    "This notebook is the code for plotting the power spectrum using the powerbox package.\n",
    "\n",
    "## Redshift z=0\n",
    "The first cell..\n",
    "* imports all the packages\n",
    "* gets the snapshot, galaxy catalogue, galaxy positions (x,y,z) and the HI mass\n",
    "* Additional variables can be pulled from the galaxy catalgue but these are the only ones needed for the PS."
   ]
  },
  {
   "cell_type": "code",
   "execution_count": 1,
   "metadata": {},
   "outputs": [
    {
     "name": "stdout",
     "output_type": "stream",
     "text": [
      "[4.9999988  4.01575197 2.99733298 2.00100053 1.50871276 0.99933302\n",
      " 0.50100094 0.        ]\n",
      "[100 115 134 158 173 192 216 250]\n"
     ]
    }
   ],
   "source": [
    "# Power Spectrum plot\n",
    "import matplotlib.pyplot as plt\n",
    "import numpy as np\n",
    "import powerbox as pbox\n",
    "from Functions import *\n",
    "from mpl_toolkits import mplot3d\n",
    "from powerbox import get_power\n",
    "from scipy import stats\n",
    "import statistics\n",
    "import pandas as pd\n",
    "\n",
    "# Redshift = 0 \n",
    "#get gals, snaps, sims_props\n",
    "snapshot_used = 250 # z = 0\n",
    "fname_in = \"imapping_testrun/meraxes.hdf5\"\n",
    "h = meraxes.set_little_h(0.7)\n",
    "gals, sim_props = meraxes.read_gals(fname_in, snapshot_used, sim_props=True, pandas=False)\n",
    "#ngals = len(gals)\n",
    "#print(ngals)\n",
    "#gals.columns #returns all avaiable properties of galxies\n",
    "#gals[gals.replace([np.inf, -np.inf], np.nan).notnull().all(axis=1)]# remove infs\n",
    "#gals.dropna()# drop nan values\n",
    "snaplist = meraxes.io.read_snaplist(fname_in, h)    \n",
    "\n",
    "# See other available Snaps and Redshifts\n",
    "reds = snaplist[1]\n",
    "snaps = snaplist[0]\n",
    "print(reds)\n",
    "print(snaps)\n",
    "\n",
    "# using positions [x,y,x]\n",
    "Pos = gals[\"Pos\"]\n",
    "pos_x = Pos[0]\n",
    "pos_y = Pos[1]\n",
    "pos_z = Pos[2]\n",
    "HIMass = gals[\"HIMass\"]\n",
    "\n",
    "snaplist_index_used = list(snaplist[0]).index(snapshot_used)# convert to list and find the index of the snap we are using\n",
    "redshift_used = snaplist[1][snaplist_index_used] # Get the redshift for corresponding snapshot\n",
    "redshift_used = str(round(redshift_used, 1)) # round float to nearest whole int"
   ]
  },
  {
   "cell_type": "markdown",
   "metadata": {},
   "source": [
    "## Redshift z=4"
   ]
  },
  {
   "cell_type": "code",
   "execution_count": 2,
   "metadata": {},
   "outputs": [
    {
     "name": "stdout",
     "output_type": "stream",
     "text": [
      "[4.9999988  4.01575197 2.99733298 2.00100053 1.50871276 0.99933302\n",
      " 0.50100094 0.        ]\n",
      "[100 115 134 158 173 192 216 250]\n"
     ]
    }
   ],
   "source": [
    "# Redshift = 4\n",
    "#get gals, snaps, sims_props\n",
    "snapshot_used_4 = 115 # z = 0\n",
    "fname_in = \"imapping_testrun/meraxes.hdf5\"\n",
    "h = meraxes.set_little_h(0.7)\n",
    "gals_4, sim_props_4 = meraxes.read_gals(fname_in, snapshot_used_4, sim_props=True, pandas=False)\n",
    "#ngals = len(gals)\n",
    "#print(ngals)\n",
    "#gals.columns #returns all avaiable properties of galxies\n",
    "#gals[gals.replace([np.inf, -np.inf], np.nan).notnull().all(axis=1)]# remove infs\n",
    "#gals.dropna()# drop nan values\n",
    "snaplist_4 = meraxes.io.read_snaplist(fname_in, h)    \n",
    "\n",
    "# See other available Snaps and Redshifts\n",
    "reds_4 = snaplist_4[1]\n",
    "snaps_4 = snaplist_4[0]\n",
    "print(reds_4)\n",
    "print(snaps_4)\n",
    "\n",
    "# using positions [x,y,x]\n",
    "Pos_4 = gals_4[\"Pos\"]\n",
    "pos_x_4 = Pos_4[0]\n",
    "pos_y_4 = Pos_4[1]\n",
    "pos_z_4 = Pos_4[2]\n",
    "HIMass_4 = gals_4[\"HIMass\"]\n",
    "\n",
    "snaplist_index_used_4 = list(snaplist_4[0]).index(snapshot_used_4)# convert to list and find the index of the snap we are using\n",
    "redshift_used_4 = snaplist_4[1][snaplist_index_used_4] # Get the redshift for corresponding snapshot\n",
    "redshift_used_4 = str(round(redshift_used_4, 1)) # round float to nearest whole int"
   ]
  },
  {
   "cell_type": "markdown",
   "metadata": {},
   "source": [
    "## Calculates the HI weighted power spectrum for Redshift z=0\n",
    "The full definition of this function is shown here, in case any additional parameters need to be added:\n",
    "\n",
    "def get_power(deltax, boxlength, deltax2=None, N=None, a=1., b=1., remove_shotnoise=True,\n",
    "              vol_normalised_power=True, bins=None, res_ndim=None, weights=None, weights2=None,\n",
    "              dimensionless=True, bin_ave=True, get_variance=False, log_bins=False, ignore_zero_mode=False,\n",
    "              k_weights = 1,\n",
    "              ):\n",
    "\n",
    "This function calculates the isotropic power spectrum of a given field, or cross-power of two similar fields.\n",
    "\n",
    "This function, by default, conforms to typical cosmological power spectrum conventions -- normalising by the volume of the box and removing shot noise if applicable. These options are configurable.\n",
    "\n",
    "### The steps of the function are as follows:\n",
    "1. Check if the input data is in sampled particle format\n",
    "2. Generate a histogram of the data, with appropriate number of bins (uses histogramdd)\n",
    "3. Convert sampled data to mean-zero data\n",
    "4. If input data is already a density field, just get the dimensions.\n",
    "5. Calculate the n-D power spectrum and align it with the k from powerbox.\n",
    "6. Determine a nice number of bins.\n",
    "7. Set k_weights so that k=0 mode is ignore if desired.\n",
    "8. res is (P, k, < var >)\n",
    "9. Remove shot-noise"
   ]
  },
  {
   "cell_type": "code",
   "execution_count": 7,
   "metadata": {},
   "outputs": [
    {
     "data": {
      "text/plain": [
       "array([6.44213431e-27, 3.90811645e+03, 1.14039467e+03, 7.01783102e+02,\n",
       "       3.49460540e+02, 2.26983330e+02, 1.73305467e+02, 1.59556965e+02,\n",
       "       1.40857563e+02, 1.15170764e+02, 8.50046321e+01, 7.12043551e+01,\n",
       "       6.40167786e+01, 5.63631495e+01, 4.51067337e+01, 4.47973990e+01,\n",
       "       3.81787892e+01, 3.25181722e+01, 2.99603338e+01, 2.56445335e+01,\n",
       "       2.24449526e+01, 1.96464780e+01, 1.77887330e+01, 1.65095421e+01,\n",
       "       1.42703050e+01, 1.26418171e+01, 1.16468220e+01, 1.05707245e+01,\n",
       "       9.54898096e+00, 8.73147408e+00, 7.89777250e+00, 7.16635513e+00,\n",
       "       6.51856133e+00, 5.98339077e+00, 5.46724933e+00, 5.08482561e+00,\n",
       "       4.64613171e+00, 4.30337329e+00, 3.98231512e+00, 3.79190621e+00,\n",
       "       3.47858587e+00, 3.27152371e+00, 3.04881868e+00, 2.81863976e+00,\n",
       "       2.67416526e+00, 2.47386881e+00, 2.36137215e+00, 2.21755610e+00,\n",
       "       2.11362556e+00, 2.04304773e+00, 1.88851251e+00, 1.85340443e+00,\n",
       "       1.74929356e+00, 1.69075999e+00, 1.63433591e+00, 1.57113975e+00,\n",
       "       1.54957826e+00, 1.48424812e+00, 1.45026674e+00, 1.36264084e+00,\n",
       "       1.34301689e+00, 1.30987384e+00, 1.25614775e+00, 1.23706497e+00,\n",
       "       1.16542821e+00, 1.15868276e+00, 1.13535564e+00, 1.10607484e+00,\n",
       "       1.06927574e+00, 1.05642780e+00, 1.04868660e+00, 1.03174095e+00,\n",
       "       1.00443532e+00, 9.89135222e-01, 9.71355214e-01, 9.66300965e-01,\n",
       "       9.34525089e-01, 9.47458054e-01, 9.10881571e-01, 9.23849174e-01,\n",
       "       9.30793164e-01, 9.00748812e-01, 8.59721920e-01, 8.47160587e-01,\n",
       "       8.32289075e-01, 8.47118539e-01, 8.33678247e-01, 8.18482306e-01,\n",
       "       8.15395083e-01, 7.70061296e-01, 7.94978919e-01, 7.69116688e-01,\n",
       "       7.55066102e-01, 9.39480232e-01, 8.34464498e-01, 7.41998554e-01,\n",
       "       8.52304031e-01, 8.47519012e-01, 7.08852858e-01, 7.19254009e-01])"
      ]
     },
     "execution_count": 7,
     "metadata": {},
     "output_type": "execute_result"
    }
   ],
   "source": [
    "#REDSHIFT 0 \n",
    "# (Pos, 100 ... where 100 is the box length\n",
    "pkhi,khi = pbox.get_power(Pos,100,remove_shotnoise=False,N=100,bins=100,weights=HIMass)\n",
    "pkhi"
   ]
  },
  {
   "cell_type": "markdown",
   "metadata": {},
   "source": [
    "### Calculates the HI weighted power spectrum for Redshift z=4"
   ]
  },
  {
   "cell_type": "code",
   "execution_count": 4,
   "metadata": {},
   "outputs": [
    {
     "data": {
      "text/plain": [
       "array([1.07799005e-25, 3.77192230e+03, 8.78865046e+02, 3.96320968e+02,\n",
       "       1.94039607e+02, 1.22381031e+02, 1.01144408e+02, 7.28386017e+01,\n",
       "       6.40945176e+01, 5.48519494e+01, 3.72597671e+01, 3.70752190e+01,\n",
       "       3.02422990e+01, 2.88685508e+01, 2.58163014e+01, 2.35041677e+01,\n",
       "       2.13272235e+01, 1.97298559e+01, 1.71554040e+01, 1.60527068e+01,\n",
       "       1.52222649e+01, 1.45180053e+01, 1.34533994e+01, 1.25910978e+01,\n",
       "       1.18679693e+01, 1.14889546e+01, 1.12098559e+01, 9.98744896e+00,\n",
       "       9.61057354e+00, 9.07523713e+00, 8.79739906e+00, 8.50258219e+00,\n",
       "       8.27916903e+00, 7.92069288e+00, 7.79380984e+00, 7.45129173e+00,\n",
       "       7.10828292e+00, 6.98667258e+00, 6.79964070e+00, 6.59823369e+00,\n",
       "       6.45899866e+00, 6.20120008e+00, 6.07895277e+00, 5.95128464e+00,\n",
       "       5.78008756e+00, 5.74045128e+00, 5.60540990e+00, 5.51380807e+00,\n",
       "       5.50015252e+00, 5.30134765e+00, 5.27471121e+00, 5.11766194e+00,\n",
       "       5.08502266e+00, 5.02645094e+00, 4.94745895e+00, 4.89290577e+00,\n",
       "       4.77713413e+00, 4.86055170e+00, 4.70516315e+00, 4.63618185e+00,\n",
       "       4.58845764e+00, 4.49160237e+00, 4.42887203e+00, 4.48103514e+00,\n",
       "       4.33911082e+00, 4.39914989e+00, 4.28639291e+00, 4.28652276e+00,\n",
       "       4.26507861e+00, 4.18997297e+00, 4.07797057e+00, 4.10788156e+00,\n",
       "       4.05393807e+00, 4.02728623e+00, 3.93269843e+00, 4.06801930e+00,\n",
       "       3.87710368e+00, 3.97021449e+00, 3.96241913e+00, 4.00140050e+00,\n",
       "       3.89299059e+00, 3.87636097e+00, 3.90020753e+00, 3.72179685e+00,\n",
       "       3.77358901e+00, 3.73462610e+00, 3.77885135e+00, 3.83348003e+00,\n",
       "       3.82414621e+00, 3.62292194e+00, 3.53342511e+00, 3.58286267e+00,\n",
       "       3.78929323e+00, 3.57928044e+00, 3.55592346e+00, 3.27925397e+00,\n",
       "       3.50652115e+00, 3.31035067e+00, 3.85232194e+00, 8.34550447e+00])"
      ]
     },
     "execution_count": 4,
     "metadata": {},
     "output_type": "execute_result"
    }
   ],
   "source": [
    "#REDSHIFT 4\n",
    "pkhi_4,khi_4 = pbox.get_power(Pos_4,100,remove_shotnoise=False,N=100,bins=100,weights=HIMass_4)\n",
    "pkhi_4"
   ]
  },
  {
   "cell_type": "markdown",
   "metadata": {},
   "source": [
    "### Plot for the Power spectrum WITH LOG SCALE\n",
    "\n",
    "for both z=0 (black) and z=4 (pink)\n",
    "No range has been specified."
   ]
  },
  {
   "cell_type": "code",
   "execution_count": 8,
   "metadata": {},
   "outputs": [
    {
     "name": "stderr",
     "output_type": "stream",
     "text": [
      "<ipython-input-8-5e1633d00efd>:10: RuntimeWarning: divide by zero encountered in log10\n",
      "  ax.plot(np.log10(khi_4),np.log10(pkhi_4),color=\"mediumvioletred\", label=label_z_4)\n"
     ]
    },
    {
     "data": {
      "image/png": "[encoded data removed]",
      "text/plain": [
       "<Figure size 432x288 with 1 Axes>"
      ]
     },
     "metadata": {
      "needs_background": "light"
     },
     "output_type": "display_data"
    }
   ],
   "source": [
    "fig, ax = plt.subplots(1, 1)\n",
    "label_z = (\"z = \" + redshift_used)\n",
    "label_z_4 = (\"z = \" + redshift_used_4)\n",
    "#ax.set_ylim([0,3500])\n",
    "#ax.set_xlim([0.1,1])\n",
    "ax.set_xlabel(r\"$k$ $[Mpc^{-1}]$\")\n",
    "ax.set_ylabel(r\"$P_{HI}(k)$ $[Mpc^{3}]$\")\n",
    "#plt.xscale('log')\n",
    "#plt.yscale('log')\n",
    "ax.plot(np.log10(khi),np.log10(pkhi),color=\"black\", label=label_z)\n",
    "ax.plot(np.log10(khi_4),np.log10(pkhi_4),color=\"mediumvioletred\", label=label_z_4)\n",
    "\n",
    "plt.legend(title=(\"DRAGONS\"),\n",
    "           loc='upper right',\n",
    "           fontsize=12)\n",
    "\n",
    "name_of_plot=(\"PowerSpectrum_logged\")\n",
    "plt.savefig(\"plots/\" + name_of_plot + \".pdf\")"
   ]
  },
  {
   "cell_type": "markdown",
   "metadata": {},
   "source": [
    "### Plot for the Power spectrum : NO LOG SCALE due to SET range\n",
    "for both z=0 (black) and z=4 (pink)\n",
    "The range has been set as x = (0.1 - 1 ) and y = (0,3500)"
   ]
  },
  {
   "cell_type": "code",
   "execution_count": 6,
   "metadata": {},
   "outputs": [
    {
     "data": {
      "image/png": "[encoded data removed]",
      "text/plain": [
       "<Figure size 432x288 with 1 Axes>"
      ]
     },
     "metadata": {
      "needs_background": "light"
     },
     "output_type": "display_data"
    }
   ],
   "source": [
    "fig, ax = plt.subplots(1, 1)\n",
    "label_z = (\"z = \" + redshift_used)\n",
    "label_z_4 = (\"z = \" + redshift_used_4)\n",
    "ax.set_ylim([0,3500])\n",
    "ax.set_xlim([0.1,1])\n",
    "ax.set_xlabel(r\"$k$ $[Mpc^{-1}]$\")\n",
    "ax.set_ylabel(r\"$P_{HI}(k)$ $[Mpc^{3}]$\")\n",
    "#plt.xscale('log')\n",
    "#plt.yscale('log')\n",
    "ax.plot(khi,pkhi,color=\"black\", label=label_z)\n",
    "ax.plot(khi_4,pkhi_4,color=\"mediumvioletred\", label=label_z_4)\n",
    "\n",
    "plt.legend(title=(\"DRAGONS\"),\n",
    "           loc='upper right',\n",
    "           fontsize=12)\n",
    "\n",
    "name_of_plot=(\"PowerSpectrum_test\")\n",
    "plt.savefig(\"plots/\" + name_of_plot + \".pdf\")"
   ]
  },
  {
   "cell_type": "code",
   "execution_count": null,
   "metadata": {},
   "outputs": [],
   "source": []
  }
 ],
 "metadata": {
  "kernelspec": {
   "display_name": "Python 3",
   "language": "python",
   "name": "python3"
  },
  "language_info": {
   "codemirror_mode": {
    "name": "ipython",
    "version": 3
   },
   "file_extension": ".py",
   "mimetype": "text/x-python",
   "name": "python",
   "nbconvert_exporter": "python",
   "pygments_lexer": "ipython3",
   "version": "3.8.3"
  }
 },
 "nbformat": 4,
 "nbformat_minor": 4
}
