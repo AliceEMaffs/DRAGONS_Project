{
 "cells": [
  {
   "cell_type": "markdown",
   "metadata": {},
   "source": [
    "# Power spectrum plot\n",
    "This notebook is the code for plotting the power spectrum using the powerbox package.\n",
    "\n",
    "## Redshift z=0\n",
    "The first cell..\n",
    "* imports all the packages\n",
    "* gets the snapshot, galaxy catalogue, galaxy positions (x,y,z) and the HI mass\n",
    "* Additional variables can be pulled from the galaxy catalgue but these are the only ones needed for the PS."
   ]
  },
  {
   "cell_type": "code",
   "execution_count": 1,
   "metadata": {},
   "outputs": [
    {
     "name": "stdout",
     "output_type": "stream",
     "text": [
      "[4.9999988  4.01575197 2.99733298 2.00100053 1.50871276 0.99933302\n",
      " 0.50100094 0.        ]\n",
      "[100 115 134 158 173 192 216 250]\n"
     ]
    }
   ],
   "source": [
    "# Power Spectrum plot\n",
    "import matplotlib.pyplot as plt\n",
    "import numpy as np\n",
    "import powerbox as pbox\n",
    "from Functions import *\n",
    "from mpl_toolkits import mplot3d\n",
    "from powerbox import get_power\n",
    "from scipy import stats\n",
    "import statistics\n",
    "import pandas as pd\n",
    "\n",
    "# Redshift = 0 \n",
    "#get gals, snaps, sims_props\n",
    "snapshot_used = 250 # z = 0\n",
    "fname_in = \"imapping_testrun/meraxes.hdf5\"\n",
    "h = meraxes.set_little_h(0.7)\n",
    "gals, sim_props = meraxes.read_gals(fname_in, snapshot_used, sim_props=True, pandas=False)\n",
    "#ngals = len(gals)\n",
    "#print(ngals)\n",
    "#gals.columns #returns all avaiable properties of galxies\n",
    "#gals[gals.replace([np.inf, -np.inf], np.nan).notnull().all(axis=1)]# remove infs\n",
    "#gals.dropna()# drop nan values\n",
    "snaplist = meraxes.io.read_snaplist(fname_in, h)    \n",
    "\n",
    "# See other available Snaps and Redshifts\n",
    "reds = snaplist[1]\n",
    "snaps = snaplist[0]\n",
    "print(reds)\n",
    "print(snaps)\n",
    "\n",
    "# using positions [x,y,x]\n",
    "Pos = gals[\"Pos\"]\n",
    "pos_x = Pos[0]\n",
    "pos_y = Pos[1]\n",
    "pos_z = Pos[2]\n",
    "HIMass = gals[\"HIMass\"]\n",
    "\n",
    "snaplist_index_used = list(snaplist[0]).index(snapshot_used)# convert to list and find the index of the snap we are using\n",
    "redshift_used = snaplist[1][snaplist_index_used] # Get the redshift for corresponding snapshot\n",
    "redshift_used = str(round(redshift_used, 1)) # round float to nearest whole int"
   ]
  },
  {
   "cell_type": "markdown",
   "metadata": {},
   "source": [
    "## Calculates the HI weighted power spectrum for Redshift z=0\n",
    "The full definition of this function is shown here, in case any additional parameters need to be added:\n",
    "\n",
    "def get_power(deltax, boxlength, deltax2=None, N=None, a=1., b=1., remove_shotnoise=True,\n",
    "              vol_normalised_power=True, bins=None, res_ndim=None, weights=None, weights2=None,\n",
    "              dimensionless=True, bin_ave=True, get_variance=False, log_bins=False, ignore_zero_mode=False,\n",
    "              k_weights = 1,\n",
    "              ):\n",
    "\n",
    "This function calculates the isotropic power spectrum of a given field, or cross-power of two similar fields.\n",
    "\n",
    "This function, by default, conforms to typical cosmological power spectrum conventions -- normalising by the volume of the box and removing shot noise if applicable. These options are configurable.\n",
    "\n",
    "### The steps of the function are as follows:\n",
    "1. Check if the input data is in sampled particle format\n",
    "2. Generate a histogram of the data, with appropriate number of bins (uses histogramdd)\n",
    "3. Convert sampled data to mean-zero data\n",
    "4. If input data is already a density field, just get the dimensions.\n",
    "5. Calculate the n-D power spectrum and align it with the k from powerbox.\n",
    "6. Determine a nice number of bins.\n",
    "7. Set k_weights so that k=0 mode is ignore if desired.\n",
    "8. res is (P, k, < var >)\n",
    "9. Remove shot-noise"
   ]
  },
  {
   "cell_type": "code",
   "execution_count": 16,
   "metadata": {},
   "outputs": [
    {
     "name": "stderr",
     "output_type": "stream",
     "text": [
      "/Users/jenkinsfamily/opt/anaconda3/lib/python3.8/site-packages/numpy/core/fromnumeric.py:90: RuntimeWarning: overflow encountered in reduce\n",
      "  return ufunc.reduce(obj, axis, dtype, out, **passkwargs)\n"
     ]
    }
   ],
   "source": [
    "# REDSHIFT z=0\n",
    "# GALAXY PS = gal_ps, gal_k\n",
    "# HIMASS PS = HIMass_ps, HIMass_k\n",
    "# (Pos, 100 ... where 100 is the box length\n",
    "boxsize = 178.57142857142858 # get the box size, this is from sims pops \n",
    "dim = len(Pos) # number of dimensions in 3D space =3\n",
    "boxlength = [boxsize] * dim #get box length for each side of box\n",
    "N = pos_x.shape # = 1648367\n",
    "#N = 100\n",
    "V = np.product(boxlength)\n",
    "\n",
    "ps_gal, k_gal = pbox.get_power(Pos,boxsize,remove_shotnoise=False)# NO WEIGHTS for GALAXY PS\n",
    "ps_HIMass, k_HIMass = pbox.get_power(Pos,boxsize,remove_shotnoise=False,weights=HIMass)# WEIGHTS = HIMASS for HIMASS PS\n"
   ]
  },
  {
   "cell_type": "markdown",
   "metadata": {},
   "source": [
    "### Plot Galaxy and HIMass Power spectrum WITH LOG SCALE\n",
    "\n",
    "for z=0\n",
    "No range has been specified."
   ]
  },
  {
   "cell_type": "code",
   "execution_count": 17,
   "metadata": {},
   "outputs": [
    {
     "data": {
      "image/png": "[encoded data removed]",
      "text/plain": [
       "<Figure size 432x288 with 1 Axes>"
      ]
     },
     "metadata": {
      "needs_background": "light"
     },
     "output_type": "display_data"
    }
   ],
   "source": [
    "fig, ax = plt.subplots(1, 1)\n",
    "label_z = (\"z = \" + redshift_used)\n",
    "label_galsPS = (\"Galaxy Power Spectrum\")\n",
    "label_HIMassPS = (\"HI Mass Power Spectrum\")\n",
    "#ax.set_ylim([0,3500])\n",
    "#ax.set_xlim([0.1,1])\n",
    "ax.set_xlabel(r\"$k$ $[Mpc^{-1}]$\")\n",
    "ax.set_ylabel(r\"$P_{HI}(k)$ $[Mpc^{3}]$\")\n",
    "plt.xscale('log')\n",
    "plt.yscale('log')\n",
    "ax.plot(k_HIMass,ps_HIMass,color=\"deepskyblue\", label=label_HIMassPS)\n",
    "ax.plot(k_gal,ps_gal,color=\"black\", label=label_galsPS)\n",
    "\n",
    "plt.legend(title=(\"DRAGONS\"),\n",
    "           loc='upper right',\n",
    "           fontsize=12)\n",
    "\n",
    "name_of_plot=(\"PowerSpectrum_GALS_and_HIMass_unlogged\")\n",
    "plt.savefig(\"plots/\" + name_of_plot + \".pdf\")"
   ]
  },
  {
   "cell_type": "code",
   "execution_count": 4,
   "metadata": {},
   "outputs": [
    {
     "data": {
      "image/png": "[encoded data removed]",
      "text/plain": [
       "<Figure size 432x288 with 1 Axes>"
      ]
     },
     "metadata": {
      "needs_background": "light"
     },
     "output_type": "display_data"
    }
   ],
   "source": [
    "fig, ax = plt.subplots(1, 1)\n",
    "label_z = (\"z = \" + redshift_used)\n",
    "label_galsPS = (\"Galaxy Power Spectrum\")\n",
    "label_HIMassPS = (\"HI Mass Power Spectrum\")\n",
    "#ax.set_ylim([0,3500])\n",
    "#ax.set_xlim([0.1,1])\n",
    "ax.set_xlabel(r\"$k$ $[Mpc^{-1}]$\")\n",
    "ax.set_ylabel(r\"$P_{HI}(k)$ $[Mpc^{3}]$\")\n",
    "plt.xscale('log')\n",
    "plt.yscale('log')\n",
    "ax.plot(k_gal,ps_gal,color=\"black\", label=label_galsPS)\n",
    "\n",
    "plt.legend(title=(\"DRAGONS\"),\n",
    "           loc='upper right',\n",
    "           fontsize=12)\n",
    "\n",
    "name_of_plot=(\"PowerSpectrum_GALS_and_HIMass_unlogged\")\n",
    "plt.savefig(\"plots/\" + name_of_plot + \".pdf\")"
   ]
  },
  {
   "cell_type": "markdown",
   "metadata": {},
   "source": [
    "fig, ax = plt.subplots(1, 1)\n",
    "label_z = (\"z = \" + redshift_used)\n",
    "ax.set_ylim([0,3500])\n",
    "ax.set_xlim([0.1,1])\n",
    "ax.set_xlabel(r\"$k$ $[Mpc^{-1}]$\")\n",
    "ax.set_ylabel(r\"$P_{HI}(k)$ $[Mpc^{3}]$\")\n",
    "#plt.xscale('log')\n",
    "#plt.yscale('log')\n",
    "ax.plot(khi,pkhi,color=\"black\", label=label_z)\n",
    "\n",
    "plt.legend(title=(\"DRAGONS\"),\n",
    "           loc='upper right',\n",
    "           fontsize=12)\n",
    "\n",
    "name_of_plot=(\"PowerSpectrum_test\")\n",
    "plt.savefig(\"plots/\" + name_of_plot + \".pdf\")"
   ]
  },
  {
   "cell_type": "markdown",
   "metadata": {},
   "source": [
    "# Redshift = 1\n",
    "#get gals, snaps, sims_props\n",
    "snapshot_used_1 = 216 # z = 1\n",
    "fname_in = \"imapping_testrun/meraxes.hdf5\"\n",
    "h = meraxes.set_little_h(0.7)\n",
    "gals_1, sim_props_1 = meraxes.read_gals(fname_in, snapshot_used_1, sim_props=True, pandas=False)\n",
    "#ngals = len(gals)\n",
    "#print(ngals)\n",
    "#gals.columns #returns all avaiable properties of galxies\n",
    "#gals[gals.replace([np.inf, -np.inf], np.nan).notnull().all(axis=1)]# remove infs\n",
    "#gals.dropna()# drop nan values\n",
    "snaplist_1 = meraxes.io.read_snaplist(fname_in, h)    \n",
    "\n",
    "# See other available Snaps and Redshifts\n",
    "reds_1 = snaplist_1[1]\n",
    "snaps_1 = snaplist_1[0]\n",
    "print(reds_1)\n",
    "print(snaps_1)\n",
    "\n",
    "# using positions [x,y,x]\n",
    "Pos_1 = gals_1[\"Pos\"]\n",
    "pos_x_1 = Pos_1[0]\n",
    "pos_y_1 = Pos_1[1]\n",
    "pos_z_1 = Pos_1[2]\n",
    "HIMass_1 = gals_1[\"HIMass\"]\n",
    "\n",
    "snaplist_index_used_1 = list(snaplist_1[0]).index(snapshot_used_1)# convert to list and find the index of the snap we are using\n",
    "redshift_used_1 = snaplist_4[1][snaplist_index_used_1] # Get the redshift for corresponding snapshot\n",
    "redshift_used_1 = str(round(redshift_used_41, 1)) # round float to nearest whole int"
   ]
  },
  {
   "cell_type": "markdown",
   "metadata": {},
   "source": [
    "#REDSHIFT z=1\n",
    "# GALAXY PS = gal_ps, gal_k\n",
    "# HIMASS PS = HIMass_ps, HIMass_k\n",
    "gal_ps_1, gal_k_1 = pbox.get_power(Pos_1,100,remove_shotnoise=False,N=100,bins=100,weights=None) # NO WEIGHTS for GALAXY PS\n",
    "HIMass_ps_1, HIMass_k_1 = pbox.get_power(Pos_1,100,remove_shotnoise=False,N=100,bins=100,weights=HIMass) # WEIGHTS = HIMASS for HIMASS PS"
   ]
  },
  {
   "cell_type": "markdown",
   "metadata": {},
   "source": [
    "### Plot for the Power spectrum : NO LOG SCALE due to SET range\n",
    "for both z=0 (black) and z=4 (pink)\n",
    "The range has been set as x = (0.1 - 1 ) and y = (0,3500)"
   ]
  },
  {
   "cell_type": "markdown",
   "metadata": {},
   "source": [
    "fig, ax = plt.subplots(1, 1)\n",
    "label_z = (\"z = \" + redshift_used)\n",
    "label_z_4 = (\"z = \" + redshift_used_4)\n",
    "ax.set_ylim([0,3500])\n",
    "ax.set_xlim([0.1,1])\n",
    "ax.set_xlabel(r\"$k$ $[Mpc^{-1}]$\")\n",
    "ax.set_ylabel(r\"$P_{HI}(k)$ $[Mpc^{3}]$\")\n",
    "#plt.xscale('log')\n",
    "#plt.yscale('log')\n",
    "ax.plot(khi,pkhi,color=\"black\", label=label_z)\n",
    "ax.plot(khi_4,pkhi_4,color=\"mediumvioletred\", label=label_z_4)\n",
    "\n",
    "plt.legend(title=(\"DRAGONS\"),\n",
    "           loc='upper right',\n",
    "           fontsize=12)\n",
    "\n",
    "name_of_plot=(\"PowerSpectrum_test\")\n",
    "plt.savefig(\"plots/\" + name_of_plot + \".pdf\")"
   ]
  }
 ],
 "metadata": {
  "kernelspec": {
   "display_name": "Python 3",
   "language": "python",
   "name": "python3"
  },
  "language_info": {
   "codemirror_mode": {
    "name": "ipython",
    "version": 3
   },
   "file_extension": ".py",
   "mimetype": "text/x-python",
   "name": "python",
   "nbconvert_exporter": "python",
   "pygments_lexer": "ipython3",
   "version": "3.8.3"
  }
 },
 "nbformat": 4,
 "nbformat_minor": 4
}
