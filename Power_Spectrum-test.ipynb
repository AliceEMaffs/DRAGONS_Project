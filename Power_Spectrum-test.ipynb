{
 "cells": [
  {
   "cell_type": "code",
   "execution_count": 9,
   "metadata": {},
   "outputs": [
    {
     "name": "stdout",
     "output_type": "stream",
     "text": [
      "[4.9999988  4.01575197 2.99733298 2.00100053 1.50871276 0.99933302\n",
      " 0.50100094 0.        ]\n",
      "[100 115 134 158 173 192 216 250]\n"
     ]
    }
   ],
   "source": [
    "# Power Spectrum plot\n",
    "import matplotlib.pyplot as plt\n",
    "import numpy as np\n",
    "import powerbox as pbox\n",
    "from Functions import *\n",
    "from mpl_toolkits import mplot3d\n",
    "from powerbox import get_power\n",
    "from scipy import stats\n",
    "import statistics\n",
    "import pandas as pd\n",
    "\n",
    "# Redshift = 0 \n",
    "#get gals, snaps, sims_props\n",
    "snapshot_used = 250 # z = 0\n",
    "fname_in = \"imapping_testrun/meraxes.hdf5\"\n",
    "h = meraxes.set_little_h(0.7)\n",
    "gals, sim_props = meraxes.read_gals(fname_in, snapshot_used, sim_props=True, pandas=False)\n",
    "#ngals = len(gals)\n",
    "#print(ngals)\n",
    "#gals.columns #returns all avaiable properties of galxies\n",
    "#gals[gals.replace([np.inf, -np.inf], np.nan).notnull().all(axis=1)]# remove infs\n",
    "#gals.dropna()# drop nan values\n",
    "snaplist = meraxes.io.read_snaplist(fname_in, h)    \n",
    "\n",
    "# See other available Snaps and Redshifts\n",
    "reds = snaplist[1]\n",
    "snaps = snaplist[0]\n",
    "print(reds)\n",
    "print(snaps)\n",
    "\n",
    "# using positions [x,y,x]\n",
    "Pos = gals[\"Pos\"]\n",
    "pos_x = Pos[0]\n",
    "pos_y = Pos[1]\n",
    "pos_z = Pos[2]\n",
    "HIMass = gals[\"HIMass\"]\n",
    "\n",
    "snaplist_index_used_0 = list(snaplist[0]).index(snapshot_used_0)# convert to list and find the index of the snap we are using\n",
    "redshift_used_0 = snaplist[1][snaplist_index_used_0] # Get the redshift for corresponding snapshot\n",
    "redshift_used_0 = str(round(redshift_used_0, 1)) # round float to nearest whole int"
   ]
  },
  {
   "cell_type": "code",
   "execution_count": 49,
   "metadata": {},
   "outputs": [
    {
     "data": {
      "text/plain": [
       "array([6.56641303e-26, 3.48557753e+03, 1.12896965e+03, 7.24847379e+02,\n",
       "       3.65719542e+02, 2.44214235e+02, 2.38076079e+02, 1.93290184e+02,\n",
       "       1.95676200e+02, 1.68067480e+02, 1.35809930e+02, 1.21200011e+02,\n",
       "       1.22552179e+02, 1.10291080e+02, 1.02330846e+02, 1.03109472e+02,\n",
       "       9.85572139e+01, 9.02341975e+01, 8.86677944e+01, 8.20950905e+01,\n",
       "       8.47048149e+01, 7.72143199e+01, 7.89681962e+01, 7.90600572e+01,\n",
       "       7.38227013e+01, 7.05453391e+01, 7.34870079e+01, 7.12255852e+01,\n",
       "       6.60700478e+01, 6.74294633e+01, 6.77380142e+01, 6.66273330e+01,\n",
       "       6.47880745e+01, 6.65803314e+01, 6.50769763e+01, 6.65035918e+01,\n",
       "       6.48035038e+01, 6.35995012e+01, 6.46793991e+01, 6.43486811e+01,\n",
       "       6.26643939e+01, 6.40456131e+01, 6.42869492e+01, 6.20260616e+01,\n",
       "       6.32933531e+01, 6.29148822e+01, 6.24753796e+01, 6.25689213e+01,\n",
       "       6.20068797e+01, 6.21597140e+01, 6.16837591e+01, 6.21506696e+01,\n",
       "       6.19711513e+01, 6.21480744e+01, 6.09339037e+01, 6.14127843e+01,\n",
       "       6.12347648e+01, 6.09753873e+01, 6.12280019e+01, 6.20390016e+01,\n",
       "       6.09026975e+01, 6.18322363e+01, 6.12014268e+01, 6.04520673e+01,\n",
       "       6.10508683e+01, 6.08341803e+01, 6.00032117e+01, 5.95301602e+01,\n",
       "       6.00630820e+01, 6.03991635e+01, 5.96975354e+01, 6.13278297e+01,\n",
       "       6.00612035e+01, 6.04718209e+01, 6.12446908e+01, 6.04043317e+01,\n",
       "       6.10571403e+01, 6.12386714e+01, 6.04458273e+01, 6.00846501e+01,\n",
       "       6.19880253e+01, 6.05062914e+01, 5.75476771e+01, 6.08277997e+01,\n",
       "       5.79949162e+01, 5.81070375e+01, 5.70732243e+01, 5.47743319e+01,\n",
       "       5.49607101e+01, 5.48192885e+01, 5.30852403e+01, 5.23339855e+01,\n",
       "       5.00473252e+01, 5.58409488e+01, 5.12813946e+01, 5.03433066e+01,\n",
       "       5.51578136e+01, 4.52242489e+01, 3.81460553e+01, 4.83024597e+01])"
      ]
     },
     "execution_count": 49,
     "metadata": {},
     "output_type": "execute_result"
    }
   ],
   "source": [
    "pkhi,khi = pbox.get_power(Pos,100,remove_shotnoise=False,N=100,bins=100,weights=HIMass)\n",
    "pkhi"
   ]
  },
  {
   "cell_type": "code",
   "execution_count": 50,
   "metadata": {},
   "outputs": [
    {
     "data": {
      "image/png": "[encoded data removed]",
      "text/plain": [
       "<Figure size 432x288 with 1 Axes>"
      ]
     },
     "metadata": {
      "needs_background": "light"
     },
     "output_type": "display_data"
    }
   ],
   "source": [
    "fig, ax = plt.subplots(1, 1)\n",
    "label_z_0 = (\"z = \" + redshift_used_0)\n",
    "ax.set_xlabel(r\"$k$ $[Mpc^{-1}]$\")\n",
    "ax.set_ylabel(r\"$P_{HI}(k)$ $[Mpc^{3}]$\")\n",
    "ax.plot(khi,pkhi,color=\"black\", label=label_z_0)\n",
    "\n",
    "plt.legend(title=(\"DRAGONS\"),\n",
    "           loc='upper right',\n",
    "           fontsize=12)\n",
    "\n",
    "name_of_plot=(\"PowerSpectrum_test\")\n",
    "plt.savefig(\"plots/\" + name_of_plot + \".pdf\")"
   ]
  },
  {
   "cell_type": "code",
   "execution_count": null,
   "metadata": {},
   "outputs": [],
   "source": []
  }
 ],
 "metadata": {
  "kernelspec": {
   "display_name": "Python 3",
   "language": "python",
   "name": "python3"
  },
  "language_info": {
   "codemirror_mode": {
    "name": "ipython",
    "version": 3
   },
   "file_extension": ".py",
   "mimetype": "text/x-python",
   "name": "python",
   "nbconvert_exporter": "python",
   "pygments_lexer": "ipython3",
   "version": "3.7.6"
  }
 },
 "nbformat": 4,
 "nbformat_minor": 4
}
